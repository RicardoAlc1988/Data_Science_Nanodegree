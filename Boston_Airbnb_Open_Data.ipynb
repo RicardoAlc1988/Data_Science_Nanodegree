{
  "nbformat": 4,
  "nbformat_minor": 0,
  "metadata": {
    "colab": {
      "provenance": [],
      "collapsed_sections": [
        "m3RELSpnlyjC",
        "qe9oCVIMEy4O",
        "AY_vRW2MF370",
        "9MhZzkJqXkv4",
        "dCXmjtNEaTAf",
        "wNnsmoY6iwZL"
      ]
    },
    "kernelspec": {
      "name": "python3",
      "display_name": "Python 3"
    },
    "language_info": {
      "name": "python"
    }
  },
  "cells": [
    {
      "cell_type": "markdown",
      "source": [
        "## Utilities and libraries installation"
      ],
      "metadata": {
        "id": "m3RELSpnlyjC"
      }
    },
    {
      "cell_type": "code",
      "source": [
        "%%shell\n",
        "jupyter nbconvert --to html /content/Boston_Airbnb_Open_Data.ipynb"
      ],
      "metadata": {
        "id": "f6YSBVTkls3h"
      },
      "execution_count": null,
      "outputs": []
    },
    {
      "cell_type": "code",
      "source": [
        "!pip install sentence-transformers"
      ],
      "metadata": {
        "id": "xwrf8IafVfjY"
      },
      "execution_count": null,
      "outputs": []
    },
    {
      "cell_type": "code",
      "source": [
        "!pip install lancedb"
      ],
      "metadata": {
        "id": "iuusoNQYKY64"
      },
      "execution_count": null,
      "outputs": []
    },
    {
      "cell_type": "code",
      "source": [
        "!pip install pydantic"
      ],
      "metadata": {
        "id": "PGnESgyhLcCb"
      },
      "execution_count": null,
      "outputs": []
    },
    {
      "cell_type": "code",
      "source": [
        "!pip install tiktoken"
      ],
      "metadata": {
        "id": "Lk4wXX4ZmwaK"
      },
      "execution_count": null,
      "outputs": []
    },
    {
      "cell_type": "code",
      "source": [
        "!pip install openai==0.28"
      ],
      "metadata": {
        "id": "iYp8CxeJmzhZ"
      },
      "execution_count": null,
      "outputs": []
    },
    {
      "cell_type": "code",
      "source": [
        "from google.colab import drive\n",
        "import openai\n",
        "import pandas as pd\n",
        "import seaborn as sns\n",
        "import lancedb\n",
        "import matplotlib.pyplot as plt\n",
        "import numpy as np\n",
        "from sentence_transformers import SentenceTransformer\n",
        "from lancedb.pydantic import vector, LanceModel\n",
        "from sklearn import preprocessing\n",
        "from sklearn.cluster import KMeans\n",
        "import tiktoken\n",
        "\n",
        "pd.set_option('display.max_colwidth', None)"
      ],
      "metadata": {
        "id": "BZGijviV-5TG"
      },
      "execution_count": 6,
      "outputs": []
    },
    {
      "cell_type": "markdown",
      "source": [
        "## Business understanding"
      ],
      "metadata": {
        "id": "qe9oCVIMEy4O"
      }
    },
    {
      "cell_type": "markdown",
      "source": [
        "The objective of the present work is to answer the following three business questions:\n",
        "\n",
        " - Describe the vibe for each neighborhood, bassed on the listing descriptions\n",
        "\n",
        " - Study the busiest times of the year to visit Boston and how much the prices spike\n",
        "\n",
        " - Based on the characteristics of the listings, find the differences in  availability and prices, uf any exists"
      ],
      "metadata": {
        "id": "y2zxLGPxFE1D"
      }
    },
    {
      "cell_type": "markdown",
      "source": [
        "## Data understanding"
      ],
      "metadata": {
        "id": "AY_vRW2MF370"
      }
    },
    {
      "cell_type": "markdown",
      "source": [
        "Fortunately, with the data provided by Airbnb it is possible to answer all of them. In particular, we will use the following datasets (available at https://www.kaggle.com/datasets/airbnb/boston):\n",
        "\n",
        "  - listings.csv: It contains the master data for the listings, with a lot of detail. We wiil be only interested in the following columns:\n",
        "\n",
        "      - neighborhood_overview: defines a brief description of neighborhood the listing is\n",
        "      - neighborhood_cleansed:neighborhood for the listing\n",
        "      - property_type: if it is an apartment house, villa and so on\n",
        "      - room_type: if it is a private room, shared room, or a whole apartment\n",
        "      - accommodates: number of accommodates\n",
        "      - bathrooms: number of bathrooms\n",
        "      - beds: number of beds\n",
        "      - bed_type: If it is a real bed, a couch and so on\n",
        "  \n",
        "  - calendar.csv: It contains a daily snapshot of the listing, including the following columns:\n",
        "    - available: Whether the listing is available\n",
        "    - The price the listing had the day of the snapshot"
      ],
      "metadata": {
        "id": "ZypmgDIRGH5S"
      }
    },
    {
      "cell_type": "markdown",
      "source": [
        "###Gathering data"
      ],
      "metadata": {
        "id": "4-X_Pyu1Op9E"
      }
    },
    {
      "cell_type": "markdown",
      "source": [
        "Once we have identified the required data, we will gather the data and take a first look at it:"
      ],
      "metadata": {
        "id": "HSIzAqFnJIJn"
      }
    },
    {
      "cell_type": "code",
      "source": [
        "drive.mount('/content/gdrive')"
      ],
      "metadata": {
        "colab": {
          "base_uri": "https://localhost:8080/"
        },
        "id": "JG0yxcR-Jf4k",
        "outputId": "a39ebb23-be77-4afa-95d9-38712cf1f54c"
      },
      "execution_count": 8,
      "outputs": [
        {
          "output_type": "stream",
          "name": "stdout",
          "text": [
            "Mounted at /content/gdrive\n"
          ]
        }
      ]
    },
    {
      "cell_type": "code",
      "source": [
        "data_dir = '/content/gdrive/MyDrive/listings.csv'\n",
        "boston_airbnb_df = pd.read_csv(data_dir)"
      ],
      "metadata": {
        "id": "pa7UzKpSJbLP"
      },
      "execution_count": 9,
      "outputs": []
    },
    {
      "cell_type": "code",
      "source": [
        "data_dir = '/content/gdrive/MyDrive/calendar.csv'\n",
        "boston_airbnb_calendar_df = pd.read_csv(data_dir)"
      ],
      "metadata": {
        "id": "rTWHRUJdJ9IH"
      },
      "execution_count": 10,
      "outputs": []
    },
    {
      "cell_type": "markdown",
      "source": [
        "### Missing value study"
      ],
      "metadata": {
        "id": "DLOS_afMOtRh"
      }
    },
    {
      "cell_type": "markdown",
      "source": [
        "We will inspect the data focusing on the column we are interested in. Let´s take a look to the listing dataset:"
      ],
      "metadata": {
        "id": "SeDCkQLdKlYX"
      }
    },
    {
      "cell_type": "code",
      "source": [
        "boston_airbnb_df[['description', 'neighborhood_overview', 'neighbourhood_cleansed', 'property_type', 'room_type', 'accommodates', 'bathrooms', 'bedrooms', 'beds', 'bed_type']].isnull().sum()"
      ],
      "metadata": {
        "colab": {
          "base_uri": "https://localhost:8080/"
        },
        "id": "GBgiHcwuL5IW",
        "outputId": "c635d203-c2d7-456f-9d4c-8869843de50a"
      },
      "execution_count": 12,
      "outputs": [
        {
          "output_type": "execute_result",
          "data": {
            "text/plain": [
              "description                  0\n",
              "neighborhood_overview     1415\n",
              "neighbourhood_cleansed       0\n",
              "property_type                3\n",
              "room_type                    0\n",
              "accommodates                 0\n",
              "bathrooms                   14\n",
              "bedrooms                    10\n",
              "beds                         9\n",
              "bed_type                     0\n",
              "dtype: int64"
            ]
          },
          "metadata": {},
          "execution_count": 12
        }
      ]
    },
    {
      "cell_type": "markdown",
      "source": [
        "And how many rows the dataset has:"
      ],
      "metadata": {
        "id": "y2XCXK38L_LJ"
      }
    },
    {
      "cell_type": "code",
      "source": [
        "print(\"number of rows for the boston airbnb listing master data set: {0}\".format(boston_airbnb_df.shape[0]))"
      ],
      "metadata": {
        "colab": {
          "base_uri": "https://localhost:8080/"
        },
        "id": "64_FBtZ0L-bx",
        "outputId": "92423f06-6cb5-427d-d546-5ff7d9c66f4a"
      },
      "execution_count": 15,
      "outputs": [
        {
          "output_type": "stream",
          "name": "stdout",
          "text": [
            "number of rows for the boston airbnb listing master data set: 3585\n"
          ]
        }
      ]
    },
    {
      "cell_type": "markdown",
      "source": [
        "From the above data, we can see there is only 4 columns with null values and three of them has a small percentage of null w.r.t. the total size of the data set. Therefore, it will reasonable to impute the data by using some elementary\n",
        "method like the mode or the median. Let´s investigate whether it is necessary and possible to impute the missing values for the neighneighborhood_overview column:"
      ],
      "metadata": {
        "id": "pXrYFigkMnr9"
      }
    },
    {
      "cell_type": "markdown",
      "source": [
        "The neighboorhood overview is necessary for the creation of the neighborhood´s vibe? Do we have enough data for it?"
      ],
      "metadata": {
        "id": "HS-y8WSCNwt_"
      }
    },
    {
      "cell_type": "code",
      "source": [
        "boston_airbnb_df[boston_airbnb_df['neighborhood_overview'].notnull()].groupby(['neighbourhood_cleansed']).size()"
      ],
      "metadata": {
        "colab": {
          "base_uri": "https://localhost:8080/"
        },
        "id": "_A9_JqGuNwAk",
        "outputId": "7c4a6546-ddd9-4dba-a48c-d96ba824c4ae"
      },
      "execution_count": 17,
      "outputs": [
        {
          "output_type": "execute_result",
          "data": {
            "text/plain": [
              "neighbourhood_cleansed\n",
              "Allston                    146\n",
              "Back Bay                   181\n",
              "Bay Village                 19\n",
              "Beacon Hill                131\n",
              "Brighton                   105\n",
              "Charlestown                 53\n",
              "Chinatown                   46\n",
              "Dorchester                 144\n",
              "Downtown                   108\n",
              "East Boston                 87\n",
              "Fenway                     148\n",
              "Hyde Park                   15\n",
              "Jamaica Plain              246\n",
              "Leather District             5\n",
              "Longwood Medical Area        6\n",
              "Mattapan                    14\n",
              "Mission Hill                58\n",
              "North End                   88\n",
              "Roslindale                  42\n",
              "Roxbury                     92\n",
              "South Boston               114\n",
              "South Boston Waterfront     41\n",
              "South End                  225\n",
              "West End                    32\n",
              "West Roxbury                24\n",
              "dtype: int64"
            ]
          },
          "metadata": {},
          "execution_count": 17
        }
      ]
    },
    {
      "cell_type": "markdown",
      "source": [
        "As we can see, there is reasonable raw description for each neighborhood, therefore we will keep it simple in a first stage and not impute the missing values."
      ],
      "metadata": {
        "id": "Xo2-jKXqOPwT"
      }
    },
    {
      "cell_type": "code",
      "source": [
        "boston_airbnb_calendar_df.isnull().sum()"
      ],
      "metadata": {
        "colab": {
          "base_uri": "https://localhost:8080/"
        },
        "id": "TWeAPe9OPqj7",
        "outputId": "757df63c-8afc-4fd4-ec61-fe609068c713"
      },
      "execution_count": 23,
      "outputs": [
        {
          "output_type": "execute_result",
          "data": {
            "text/plain": [
              "listing_id         0\n",
              "date               0\n",
              "available          0\n",
              "price         665853\n",
              "dtype: int64"
            ]
          },
          "metadata": {},
          "execution_count": 23
        }
      ]
    },
    {
      "cell_type": "code",
      "source": [
        "print(\"number of rows for the boston airbnb calendar data set: {0}\".format(boston_airbnb_calendar_df.shape[0]))"
      ],
      "metadata": {
        "colab": {
          "base_uri": "https://localhost:8080/"
        },
        "id": "9yXU0b2kPx6e",
        "outputId": "692b3028-7f0c-4c33-b031-b41a32139e38"
      },
      "execution_count": 24,
      "outputs": [
        {
          "output_type": "stream",
          "name": "stdout",
          "text": [
            "number of rows for the boston airbnb calendar data set: 1308890\n"
          ]
        }
      ]
    },
    {
      "cell_type": "markdown",
      "source": [
        "In this case, there is a los of missing values in the price column. Let´s investigate why this is the case:"
      ],
      "metadata": {
        "id": "egCR92W8P3H9"
      }
    },
    {
      "cell_type": "code",
      "source": [
        "boston_airbnb_calendar_df[boston_airbnb_calendar_df['price'].isna()]"
      ],
      "metadata": {
        "colab": {
          "base_uri": "https://localhost:8080/",
          "height": 423
        },
        "id": "iBzaa1gzQJKh",
        "outputId": "ef5cae5d-105a-4291-9286-6c1f3a979b66"
      },
      "execution_count": 25,
      "outputs": [
        {
          "output_type": "execute_result",
          "data": {
            "text/plain": [
              "         listing_id        date available price\n",
              "0          12147973  2017-09-05         f   NaN\n",
              "1          12147973  2017-09-04         f   NaN\n",
              "2          12147973  2017-09-03         f   NaN\n",
              "3          12147973  2017-09-02         f   NaN\n",
              "4          12147973  2017-09-01         f   NaN\n",
              "...             ...         ...       ...   ...\n",
              "1308885    14504422  2016-09-10         f   NaN\n",
              "1308886    14504422  2016-09-09         f   NaN\n",
              "1308887    14504422  2016-09-08         f   NaN\n",
              "1308888    14504422  2016-09-07         f   NaN\n",
              "1308889    14504422  2016-09-06         f   NaN\n",
              "\n",
              "[665853 rows x 4 columns]"
            ],
            "text/html": [
              "\n",
              "  <div id=\"df-c9dfed58-869f-4110-b924-cc26c640c3c6\" class=\"colab-df-container\">\n",
              "    <div>\n",
              "<style scoped>\n",
              "    .dataframe tbody tr th:only-of-type {\n",
              "        vertical-align: middle;\n",
              "    }\n",
              "\n",
              "    .dataframe tbody tr th {\n",
              "        vertical-align: top;\n",
              "    }\n",
              "\n",
              "    .dataframe thead th {\n",
              "        text-align: right;\n",
              "    }\n",
              "</style>\n",
              "<table border=\"1\" class=\"dataframe\">\n",
              "  <thead>\n",
              "    <tr style=\"text-align: right;\">\n",
              "      <th></th>\n",
              "      <th>listing_id</th>\n",
              "      <th>date</th>\n",
              "      <th>available</th>\n",
              "      <th>price</th>\n",
              "    </tr>\n",
              "  </thead>\n",
              "  <tbody>\n",
              "    <tr>\n",
              "      <th>0</th>\n",
              "      <td>12147973</td>\n",
              "      <td>2017-09-05</td>\n",
              "      <td>f</td>\n",
              "      <td>NaN</td>\n",
              "    </tr>\n",
              "    <tr>\n",
              "      <th>1</th>\n",
              "      <td>12147973</td>\n",
              "      <td>2017-09-04</td>\n",
              "      <td>f</td>\n",
              "      <td>NaN</td>\n",
              "    </tr>\n",
              "    <tr>\n",
              "      <th>2</th>\n",
              "      <td>12147973</td>\n",
              "      <td>2017-09-03</td>\n",
              "      <td>f</td>\n",
              "      <td>NaN</td>\n",
              "    </tr>\n",
              "    <tr>\n",
              "      <th>3</th>\n",
              "      <td>12147973</td>\n",
              "      <td>2017-09-02</td>\n",
              "      <td>f</td>\n",
              "      <td>NaN</td>\n",
              "    </tr>\n",
              "    <tr>\n",
              "      <th>4</th>\n",
              "      <td>12147973</td>\n",
              "      <td>2017-09-01</td>\n",
              "      <td>f</td>\n",
              "      <td>NaN</td>\n",
              "    </tr>\n",
              "    <tr>\n",
              "      <th>...</th>\n",
              "      <td>...</td>\n",
              "      <td>...</td>\n",
              "      <td>...</td>\n",
              "      <td>...</td>\n",
              "    </tr>\n",
              "    <tr>\n",
              "      <th>1308885</th>\n",
              "      <td>14504422</td>\n",
              "      <td>2016-09-10</td>\n",
              "      <td>f</td>\n",
              "      <td>NaN</td>\n",
              "    </tr>\n",
              "    <tr>\n",
              "      <th>1308886</th>\n",
              "      <td>14504422</td>\n",
              "      <td>2016-09-09</td>\n",
              "      <td>f</td>\n",
              "      <td>NaN</td>\n",
              "    </tr>\n",
              "    <tr>\n",
              "      <th>1308887</th>\n",
              "      <td>14504422</td>\n",
              "      <td>2016-09-08</td>\n",
              "      <td>f</td>\n",
              "      <td>NaN</td>\n",
              "    </tr>\n",
              "    <tr>\n",
              "      <th>1308888</th>\n",
              "      <td>14504422</td>\n",
              "      <td>2016-09-07</td>\n",
              "      <td>f</td>\n",
              "      <td>NaN</td>\n",
              "    </tr>\n",
              "    <tr>\n",
              "      <th>1308889</th>\n",
              "      <td>14504422</td>\n",
              "      <td>2016-09-06</td>\n",
              "      <td>f</td>\n",
              "      <td>NaN</td>\n",
              "    </tr>\n",
              "  </tbody>\n",
              "</table>\n",
              "<p>665853 rows × 4 columns</p>\n",
              "</div>\n",
              "    <div class=\"colab-df-buttons\">\n",
              "\n",
              "  <div class=\"colab-df-container\">\n",
              "    <button class=\"colab-df-convert\" onclick=\"convertToInteractive('df-c9dfed58-869f-4110-b924-cc26c640c3c6')\"\n",
              "            title=\"Convert this dataframe to an interactive table.\"\n",
              "            style=\"display:none;\">\n",
              "\n",
              "  <svg xmlns=\"http://www.w3.org/2000/svg\" height=\"24px\" viewBox=\"0 -960 960 960\">\n",
              "    <path d=\"M120-120v-720h720v720H120Zm60-500h600v-160H180v160Zm220 220h160v-160H400v160Zm0 220h160v-160H400v160ZM180-400h160v-160H180v160Zm440 0h160v-160H620v160ZM180-180h160v-160H180v160Zm440 0h160v-160H620v160Z\"/>\n",
              "  </svg>\n",
              "    </button>\n",
              "\n",
              "  <style>\n",
              "    .colab-df-container {\n",
              "      display:flex;\n",
              "      gap: 12px;\n",
              "    }\n",
              "\n",
              "    .colab-df-convert {\n",
              "      background-color: #E8F0FE;\n",
              "      border: none;\n",
              "      border-radius: 50%;\n",
              "      cursor: pointer;\n",
              "      display: none;\n",
              "      fill: #1967D2;\n",
              "      height: 32px;\n",
              "      padding: 0 0 0 0;\n",
              "      width: 32px;\n",
              "    }\n",
              "\n",
              "    .colab-df-convert:hover {\n",
              "      background-color: #E2EBFA;\n",
              "      box-shadow: 0px 1px 2px rgba(60, 64, 67, 0.3), 0px 1px 3px 1px rgba(60, 64, 67, 0.15);\n",
              "      fill: #174EA6;\n",
              "    }\n",
              "\n",
              "    .colab-df-buttons div {\n",
              "      margin-bottom: 4px;\n",
              "    }\n",
              "\n",
              "    [theme=dark] .colab-df-convert {\n",
              "      background-color: #3B4455;\n",
              "      fill: #D2E3FC;\n",
              "    }\n",
              "\n",
              "    [theme=dark] .colab-df-convert:hover {\n",
              "      background-color: #434B5C;\n",
              "      box-shadow: 0px 1px 3px 1px rgba(0, 0, 0, 0.15);\n",
              "      filter: drop-shadow(0px 1px 2px rgba(0, 0, 0, 0.3));\n",
              "      fill: #FFFFFF;\n",
              "    }\n",
              "  </style>\n",
              "\n",
              "    <script>\n",
              "      const buttonEl =\n",
              "        document.querySelector('#df-c9dfed58-869f-4110-b924-cc26c640c3c6 button.colab-df-convert');\n",
              "      buttonEl.style.display =\n",
              "        google.colab.kernel.accessAllowed ? 'block' : 'none';\n",
              "\n",
              "      async function convertToInteractive(key) {\n",
              "        const element = document.querySelector('#df-c9dfed58-869f-4110-b924-cc26c640c3c6');\n",
              "        const dataTable =\n",
              "          await google.colab.kernel.invokeFunction('convertToInteractive',\n",
              "                                                    [key], {});\n",
              "        if (!dataTable) return;\n",
              "\n",
              "        const docLinkHtml = 'Like what you see? Visit the ' +\n",
              "          '<a target=\"_blank\" href=https://colab.research.google.com/notebooks/data_table.ipynb>data table notebook</a>'\n",
              "          + ' to learn more about interactive tables.';\n",
              "        element.innerHTML = '';\n",
              "        dataTable['output_type'] = 'display_data';\n",
              "        await google.colab.output.renderOutput(dataTable, element);\n",
              "        const docLink = document.createElement('div');\n",
              "        docLink.innerHTML = docLinkHtml;\n",
              "        element.appendChild(docLink);\n",
              "      }\n",
              "    </script>\n",
              "  </div>\n",
              "\n",
              "\n",
              "<div id=\"df-03bc1ca8-27fe-42b6-9d31-6d56051b9972\">\n",
              "  <button class=\"colab-df-quickchart\" onclick=\"quickchart('df-03bc1ca8-27fe-42b6-9d31-6d56051b9972')\"\n",
              "            title=\"Suggest charts\"\n",
              "            style=\"display:none;\">\n",
              "\n",
              "<svg xmlns=\"http://www.w3.org/2000/svg\" height=\"24px\"viewBox=\"0 0 24 24\"\n",
              "     width=\"24px\">\n",
              "    <g>\n",
              "        <path d=\"M19 3H5c-1.1 0-2 .9-2 2v14c0 1.1.9 2 2 2h14c1.1 0 2-.9 2-2V5c0-1.1-.9-2-2-2zM9 17H7v-7h2v7zm4 0h-2V7h2v10zm4 0h-2v-4h2v4z\"/>\n",
              "    </g>\n",
              "</svg>\n",
              "  </button>\n",
              "\n",
              "<style>\n",
              "  .colab-df-quickchart {\n",
              "      --bg-color: #E8F0FE;\n",
              "      --fill-color: #1967D2;\n",
              "      --hover-bg-color: #E2EBFA;\n",
              "      --hover-fill-color: #174EA6;\n",
              "      --disabled-fill-color: #AAA;\n",
              "      --disabled-bg-color: #DDD;\n",
              "  }\n",
              "\n",
              "  [theme=dark] .colab-df-quickchart {\n",
              "      --bg-color: #3B4455;\n",
              "      --fill-color: #D2E3FC;\n",
              "      --hover-bg-color: #434B5C;\n",
              "      --hover-fill-color: #FFFFFF;\n",
              "      --disabled-bg-color: #3B4455;\n",
              "      --disabled-fill-color: #666;\n",
              "  }\n",
              "\n",
              "  .colab-df-quickchart {\n",
              "    background-color: var(--bg-color);\n",
              "    border: none;\n",
              "    border-radius: 50%;\n",
              "    cursor: pointer;\n",
              "    display: none;\n",
              "    fill: var(--fill-color);\n",
              "    height: 32px;\n",
              "    padding: 0;\n",
              "    width: 32px;\n",
              "  }\n",
              "\n",
              "  .colab-df-quickchart:hover {\n",
              "    background-color: var(--hover-bg-color);\n",
              "    box-shadow: 0 1px 2px rgba(60, 64, 67, 0.3), 0 1px 3px 1px rgba(60, 64, 67, 0.15);\n",
              "    fill: var(--button-hover-fill-color);\n",
              "  }\n",
              "\n",
              "  .colab-df-quickchart-complete:disabled,\n",
              "  .colab-df-quickchart-complete:disabled:hover {\n",
              "    background-color: var(--disabled-bg-color);\n",
              "    fill: var(--disabled-fill-color);\n",
              "    box-shadow: none;\n",
              "  }\n",
              "\n",
              "  .colab-df-spinner {\n",
              "    border: 2px solid var(--fill-color);\n",
              "    border-color: transparent;\n",
              "    border-bottom-color: var(--fill-color);\n",
              "    animation:\n",
              "      spin 1s steps(1) infinite;\n",
              "  }\n",
              "\n",
              "  @keyframes spin {\n",
              "    0% {\n",
              "      border-color: transparent;\n",
              "      border-bottom-color: var(--fill-color);\n",
              "      border-left-color: var(--fill-color);\n",
              "    }\n",
              "    20% {\n",
              "      border-color: transparent;\n",
              "      border-left-color: var(--fill-color);\n",
              "      border-top-color: var(--fill-color);\n",
              "    }\n",
              "    30% {\n",
              "      border-color: transparent;\n",
              "      border-left-color: var(--fill-color);\n",
              "      border-top-color: var(--fill-color);\n",
              "      border-right-color: var(--fill-color);\n",
              "    }\n",
              "    40% {\n",
              "      border-color: transparent;\n",
              "      border-right-color: var(--fill-color);\n",
              "      border-top-color: var(--fill-color);\n",
              "    }\n",
              "    60% {\n",
              "      border-color: transparent;\n",
              "      border-right-color: var(--fill-color);\n",
              "    }\n",
              "    80% {\n",
              "      border-color: transparent;\n",
              "      border-right-color: var(--fill-color);\n",
              "      border-bottom-color: var(--fill-color);\n",
              "    }\n",
              "    90% {\n",
              "      border-color: transparent;\n",
              "      border-bottom-color: var(--fill-color);\n",
              "    }\n",
              "  }\n",
              "</style>\n",
              "\n",
              "  <script>\n",
              "    async function quickchart(key) {\n",
              "      const quickchartButtonEl =\n",
              "        document.querySelector('#' + key + ' button');\n",
              "      quickchartButtonEl.disabled = true;  // To prevent multiple clicks.\n",
              "      quickchartButtonEl.classList.add('colab-df-spinner');\n",
              "      try {\n",
              "        const charts = await google.colab.kernel.invokeFunction(\n",
              "            'suggestCharts', [key], {});\n",
              "      } catch (error) {\n",
              "        console.error('Error during call to suggestCharts:', error);\n",
              "      }\n",
              "      quickchartButtonEl.classList.remove('colab-df-spinner');\n",
              "      quickchartButtonEl.classList.add('colab-df-quickchart-complete');\n",
              "    }\n",
              "    (() => {\n",
              "      let quickchartButtonEl =\n",
              "        document.querySelector('#df-03bc1ca8-27fe-42b6-9d31-6d56051b9972 button');\n",
              "      quickchartButtonEl.style.display =\n",
              "        google.colab.kernel.accessAllowed ? 'block' : 'none';\n",
              "    })();\n",
              "  </script>\n",
              "</div>\n",
              "    </div>\n",
              "  </div>\n"
            ],
            "application/vnd.google.colaboratory.intrinsic+json": {
              "type": "dataframe"
            }
          },
          "metadata": {},
          "execution_count": 25
        }
      ]
    },
    {
      "cell_type": "markdown",
      "source": [
        "The result suggest there is only missing values when the listing is not available, which is quite reasonable. Let´s verify with a simple query:"
      ],
      "metadata": {
        "id": "uSrhIN8DQRA2"
      }
    },
    {
      "cell_type": "code",
      "source": [
        "boston_airbnb_calendar_df[boston_airbnb_calendar_df['price'].isna() & boston_airbnb_calendar_df['available'] == 't']"
      ],
      "metadata": {
        "colab": {
          "base_uri": "https://localhost:8080/",
          "height": 53
        },
        "id": "yoqBcQktQcYu",
        "outputId": "55783e60-a546-4fcf-f57e-7bb5d6e00140"
      },
      "execution_count": 26,
      "outputs": [
        {
          "output_type": "execute_result",
          "data": {
            "text/plain": [
              "Empty DataFrame\n",
              "Columns: [listing_id, date, available, price]\n",
              "Index: []"
            ],
            "text/html": [
              "\n",
              "  <div id=\"df-6640d5c6-c048-4360-9672-fade68c23e2a\" class=\"colab-df-container\">\n",
              "    <div>\n",
              "<style scoped>\n",
              "    .dataframe tbody tr th:only-of-type {\n",
              "        vertical-align: middle;\n",
              "    }\n",
              "\n",
              "    .dataframe tbody tr th {\n",
              "        vertical-align: top;\n",
              "    }\n",
              "\n",
              "    .dataframe thead th {\n",
              "        text-align: right;\n",
              "    }\n",
              "</style>\n",
              "<table border=\"1\" class=\"dataframe\">\n",
              "  <thead>\n",
              "    <tr style=\"text-align: right;\">\n",
              "      <th></th>\n",
              "      <th>listing_id</th>\n",
              "      <th>date</th>\n",
              "      <th>available</th>\n",
              "      <th>price</th>\n",
              "    </tr>\n",
              "  </thead>\n",
              "  <tbody>\n",
              "  </tbody>\n",
              "</table>\n",
              "</div>\n",
              "    <div class=\"colab-df-buttons\">\n",
              "\n",
              "  <div class=\"colab-df-container\">\n",
              "    <button class=\"colab-df-convert\" onclick=\"convertToInteractive('df-6640d5c6-c048-4360-9672-fade68c23e2a')\"\n",
              "            title=\"Convert this dataframe to an interactive table.\"\n",
              "            style=\"display:none;\">\n",
              "\n",
              "  <svg xmlns=\"http://www.w3.org/2000/svg\" height=\"24px\" viewBox=\"0 -960 960 960\">\n",
              "    <path d=\"M120-120v-720h720v720H120Zm60-500h600v-160H180v160Zm220 220h160v-160H400v160Zm0 220h160v-160H400v160ZM180-400h160v-160H180v160Zm440 0h160v-160H620v160ZM180-180h160v-160H180v160Zm440 0h160v-160H620v160Z\"/>\n",
              "  </svg>\n",
              "    </button>\n",
              "\n",
              "  <style>\n",
              "    .colab-df-container {\n",
              "      display:flex;\n",
              "      gap: 12px;\n",
              "    }\n",
              "\n",
              "    .colab-df-convert {\n",
              "      background-color: #E8F0FE;\n",
              "      border: none;\n",
              "      border-radius: 50%;\n",
              "      cursor: pointer;\n",
              "      display: none;\n",
              "      fill: #1967D2;\n",
              "      height: 32px;\n",
              "      padding: 0 0 0 0;\n",
              "      width: 32px;\n",
              "    }\n",
              "\n",
              "    .colab-df-convert:hover {\n",
              "      background-color: #E2EBFA;\n",
              "      box-shadow: 0px 1px 2px rgba(60, 64, 67, 0.3), 0px 1px 3px 1px rgba(60, 64, 67, 0.15);\n",
              "      fill: #174EA6;\n",
              "    }\n",
              "\n",
              "    .colab-df-buttons div {\n",
              "      margin-bottom: 4px;\n",
              "    }\n",
              "\n",
              "    [theme=dark] .colab-df-convert {\n",
              "      background-color: #3B4455;\n",
              "      fill: #D2E3FC;\n",
              "    }\n",
              "\n",
              "    [theme=dark] .colab-df-convert:hover {\n",
              "      background-color: #434B5C;\n",
              "      box-shadow: 0px 1px 3px 1px rgba(0, 0, 0, 0.15);\n",
              "      filter: drop-shadow(0px 1px 2px rgba(0, 0, 0, 0.3));\n",
              "      fill: #FFFFFF;\n",
              "    }\n",
              "  </style>\n",
              "\n",
              "    <script>\n",
              "      const buttonEl =\n",
              "        document.querySelector('#df-6640d5c6-c048-4360-9672-fade68c23e2a button.colab-df-convert');\n",
              "      buttonEl.style.display =\n",
              "        google.colab.kernel.accessAllowed ? 'block' : 'none';\n",
              "\n",
              "      async function convertToInteractive(key) {\n",
              "        const element = document.querySelector('#df-6640d5c6-c048-4360-9672-fade68c23e2a');\n",
              "        const dataTable =\n",
              "          await google.colab.kernel.invokeFunction('convertToInteractive',\n",
              "                                                    [key], {});\n",
              "        if (!dataTable) return;\n",
              "\n",
              "        const docLinkHtml = 'Like what you see? Visit the ' +\n",
              "          '<a target=\"_blank\" href=https://colab.research.google.com/notebooks/data_table.ipynb>data table notebook</a>'\n",
              "          + ' to learn more about interactive tables.';\n",
              "        element.innerHTML = '';\n",
              "        dataTable['output_type'] = 'display_data';\n",
              "        await google.colab.output.renderOutput(dataTable, element);\n",
              "        const docLink = document.createElement('div');\n",
              "        docLink.innerHTML = docLinkHtml;\n",
              "        element.appendChild(docLink);\n",
              "      }\n",
              "    </script>\n",
              "  </div>\n",
              "\n",
              "    </div>\n",
              "  </div>\n"
            ],
            "application/vnd.google.colaboratory.intrinsic+json": {
              "type": "dataframe",
              "repr_error": "Out of range float values are not JSON compliant: nan"
            }
          },
          "metadata": {},
          "execution_count": 26
        }
      ]
    },
    {
      "cell_type": "markdown",
      "source": [
        "Therefore the missing value in this particular case is due to a business rule, there can not be a price, if the listing is not available."
      ],
      "metadata": {
        "id": "6WVr1KkXQlyV"
      }
    },
    {
      "cell_type": "markdown",
      "source": [
        "### General exploration"
      ],
      "metadata": {
        "id": "GVhbfMMZO5Dv"
      }
    },
    {
      "cell_type": "code",
      "source": [
        "boston_airbnb_df[['id', 'description', 'neighborhood_overview', 'neighbourhood_cleansed', 'property_type', 'room_type', 'accommodates', 'bathrooms', 'bedrooms', 'beds', 'bed_type']].head()"
      ],
      "metadata": {
        "colab": {
          "base_uri": "https://localhost:8080/",
          "height": 900
        },
        "id": "JBpcbaB1PAMV",
        "outputId": "0366615c-3031-4ffc-ad61-3be4739fde3c"
      },
      "execution_count": 68,
      "outputs": [
        {
          "output_type": "execute_result",
          "data": {
            "text/plain": [
              "         id  \\\n",
              "0  12147973   \n",
              "1   3075044   \n",
              "2      6976   \n",
              "3   1436513   \n",
              "4   7651065   \n",
              "\n",
              "                                                                                                                                                                                                                                                                                                                                                                                                                                                                                                                                                                                                                                                                                                                                                                                                                                                                                                                                                                                                                                description  \\\n",
              "0  Cozy, sunny, family home.  Master bedroom high ceilings. Deck, garden with hens, beehives & play structure.   Short walk to charming village with  attractive stores, groceries & local restaurants. Friendly neighborhood. Access public transportation. The house has an open and cozy feel at the same time.  The living room has a flat screen TV.  The kitchen has all you need for cooking.  We prefer you buy your food but can use the organic oils, herbs, etc.   The yard can be seen from sitting room and when the weather allows, the yard is a place children can lose themselves in a safe way.  We have 2 bee hives, 6 hens fenced in (sometimes they get out of their coop area & into the yard), 2 rabbits in a hutch and play structure. You will have access to 2 bedrooms, a living room, kitchen, bathrooms, and yard. Roslindale is quiet, convenient and friendly.  For Southern food try Redd's in Rozzie.  Italian Delfino's or Sophia's Grotto are great. Birch St Bistro has nice atmostphere--a little pric   \n",
              "1  Charming and quiet room in a second floor 1910 condo building. The room has a full size bed, darkening curtains, window A/C unit. It's quiet because it's in the back of the house. Shared bathroom. Guests can use kitchen, living room. Pet friendly. Small but cozy and quite room with a full size bed. Ample street parking. Apt has one more bedroom (which I use) and large living space and kitchen that you can use.  Possibility to do laundry. Two porches. If I am at home, I am likely working in my home office, which is a separate room. I can help you settle in and give you tips and directions on the neighborhood and Boston.  The room is in Roslindale, a diverse and primarily residential neighborhood of Boston. It's well connected via public transportation to other neighborhoods and easy to access by car. Roslindale Square is a nice business district with supermarkets. banks, a bakery, etc. (See my Guidebook for some recommendations). The Arnold Arboretum is just steps away. Plenty of safe s   \n",
              "2  Come stay with a friendly, middle-aged guy in the safe and quiet Roslindale neighborhood of Boston. You will have you own clean, furnished room (with cable TV, Wi-Fi, and a desk to work at) in an apartment that is filled with Mexican folk art. This is a well-maintained two-family house built in the 1940s. My apartment is on the second floor. This is a pet and smoke-free apartment.   PRICE: Price includes ALL utilities (heat, electricity, Wi-Fi, cable TV, air conditioner), parking in street, and use of back yard. NO SMOKING indoors or outside. Note that the bed is a size \"Full\" mattress, not a Queen or a King. This is ideal for one guest, but if it is two people traveling together, you can fit two in the bed, or the second person can sleep in the living room, on the long couch. (Not a fold-out couch, but comfortable). Additional fee for the second person is $20. The price listed is for one person.  I offer discounted rates for stays of one week or longer.   Guests get free coffee and a    \n",
              "3  Come experience the comforts of home away from home in our fabulous bedroom suite available in Roslindale, a neighborhood in Boston.  Enjoy sleeping on a large king sized bed with plush down bedding, access to a dishwasher, washer dryer and home gym. The house is incredibly accessible to public transportation and the center of Boston. Free street parking is available right in front of the house. Weekend farmers markets, restaurants and grocery stores are a 10 min walk away from the house. Most places you find in Boston are small however our bedroom suite is large. The bedroom has plush down pillows and a down comforter. The mattress is fitted with a memory foam topper that gives each guest the best sleep. The leather couches are cozy.  The large leather couch can be converted to a bed. The television has been updated to a smart tv therefore you can access most tv programs through there including, HBO, Showtime and Cinemax. If you want to enjoy cable television, there is a tv in the kit   \n",
              "4  My comfy, clean and relaxing home is one block away from the bus line, on a quiet residential street.  Private room includes two comfortable single beds.  Full bath and half bath may be shared with 1-2 other guests.  Light breakfast included. AC Clean, attractive, private room, one block from the bus line, on a quiet, safe street. Two comfy single beds. Full bath and one half bath shared with 1-2 others. Kitchen privileges and breakfast included. Air Conditioned. Five minute walk to shops. You will have access to the front and side porches, the living room with TV, and the kitchen/dining area. I love my city and really enjoy sharing it with guests!  I live in the home and  share the kitchen and common spaces; my room is on the third floor.  I work full-time, and am out a lot.    I will be happy to provide you any information that would be helpful in navigating Boston.  It's a wonderful city and I hope to help make your visit here enjoyable. I suggest you get the \"What's App?\" phone app   \n",
              "\n",
              "                                                                                                                                                                                                                                                                                                                                                                                                                                                                                                                                                                                                                                                                                                                                                                                                                                                                                                                                                                                                                      neighborhood_overview  \\\n",
              "0                                                                                                                                                                                                                                                                                                                                                                                                                                                                                                                                                                                                                             Roslindale is quiet, convenient and friendly.  For Southern food try Redd's in Rozzie.  Italian Delfino's or Sophia's Grotto are great. Birch St Bistro has nice atmostphere--a little pricier.   If you are cooking the Fish Market has fresh fish daily; Tony's makes his own sausages and has Italian foods;  for  a wide variety of delicious cheeses and chocolates go to the Cheese Cellar on Birch St.   \n",
              "1                                                                                                                                                                                                                                                                                                                                                                                                                                                                                                                                                                                                                                                                       The room is in Roslindale, a diverse and primarily residential neighborhood of Boston. It's well connected via public transportation to other neighborhoods and easy to access by car. Roslindale Square is a nice business district with supermarkets. banks, a bakery, etc. (See my Guidebook for some recommendations). The Arnold Arboretum is just steps away.   \n",
              "2                                                 The LOCATION: Roslindale is a safe and diverse Boston neighborhood located between Jamaica Plain and West Roxbury. This apartment is on Ardale Street, a quiet side street off Centre Street.  This is about one-half mile from Faulkner Hospital, walking distance to the renowned Arnold Arboretum park (look for it on (SENSITIVE CONTENTS HIDDEN)), and about 20-minute drive to the Longwood Medical Center area. I have easy, restriction-free, on-street parking here, and a back yard. Just one block from the house, there is a 7-11 convenience store, a dry-cleaner, a Mexican restaurant, a pizza parlor, a popular sports bar and grill (similar to an Irish Pub), and another restaurant for breakfast and lunch.  The house is located 1/2 mile from Roslindale Square where you will find more restaurants, 4 bakeries, the public library and the post office. There is a superb farmers market here every Saturday. The fast-train to downtown Boston stops there, too.   \n",
              "3  Roslindale is a lovely little neighborhood located right in the city of Boston.  Though a part of the actual city, once you enter it, you feel as though you have escaped to a suburb with friendly neighbors.  The area is conveniently located with access to the city’s bus and subway system.  The Orange Line and Commuter Rail services connect the area to the heart of Boston and the neighboring towns.  It is situated close to shops, restaurants, grocery stores, parks and neighboring towns.  The farmer’s market held in the neighborhood’s center, Roslindale Village, and goes on all summer on Saturday morning.  Vendors of all different types of arts, crafts, and foods come to the neighborhood.  The Arnold Arboretum is a 265 acre park constructed as part of Frederick Law Olmsted’s Emerald Necklace project to provide Boston a connection through neighborhoods through it’s parks.  Jamaica Pond is also part of the emerald necklace which sits at the confluence of Jamaica Plain (a neighboring neighb   \n",
              "4                                                                                                                                                                                                                                                                                          I love the proximity to downtown, the neighborhood pride, safety, nice shops and restaurants within a 8-minute walk.  Roslindale is welcoming to all types of people.  The City website describes it:  \"Once considered a \"garden suburb\" of Boston, today's residents of Roslindale are still attracted to the neighborhood's natural beauty. Locals walk and bike in the Arnold Arboretum, a 265-acre oasis that is part of Frederick Law Olmsted's Emerald Necklace.....Roslindale Village is the city's original Main Street district and now one of the city's most vibrant, featuring several bistros, unique shops, and wireless Internet access. The MBTA Orange Line and Commuter Rail provide commuters with easy access to downtown.\"   \n",
              "\n",
              "  neighbourhood_cleansed property_type        room_type  accommodates  \\\n",
              "0             Roslindale         House  Entire home/apt             4   \n",
              "1             Roslindale     Apartment     Private room             2   \n",
              "2             Roslindale     Apartment     Private room             2   \n",
              "3             Roslindale         House     Private room             4   \n",
              "4             Roslindale         House     Private room             2   \n",
              "\n",
              "   bathrooms  bedrooms  beds  bed_type  \n",
              "0        1.5       2.0   3.0  Real Bed  \n",
              "1        1.0       1.0   1.0  Real Bed  \n",
              "2        1.0       1.0   1.0  Real Bed  \n",
              "3        1.0       1.0   2.0  Real Bed  \n",
              "4        1.5       1.0   2.0  Real Bed  "
            ],
            "text/html": [
              "\n",
              "  <div id=\"df-2801666b-4dee-4caf-af41-cb427f5dbcf6\" class=\"colab-df-container\">\n",
              "    <div>\n",
              "<style scoped>\n",
              "    .dataframe tbody tr th:only-of-type {\n",
              "        vertical-align: middle;\n",
              "    }\n",
              "\n",
              "    .dataframe tbody tr th {\n",
              "        vertical-align: top;\n",
              "    }\n",
              "\n",
              "    .dataframe thead th {\n",
              "        text-align: right;\n",
              "    }\n",
              "</style>\n",
              "<table border=\"1\" class=\"dataframe\">\n",
              "  <thead>\n",
              "    <tr style=\"text-align: right;\">\n",
              "      <th></th>\n",
              "      <th>id</th>\n",
              "      <th>description</th>\n",
              "      <th>neighborhood_overview</th>\n",
              "      <th>neighbourhood_cleansed</th>\n",
              "      <th>property_type</th>\n",
              "      <th>room_type</th>\n",
              "      <th>accommodates</th>\n",
              "      <th>bathrooms</th>\n",
              "      <th>bedrooms</th>\n",
              "      <th>beds</th>\n",
              "      <th>bed_type</th>\n",
              "    </tr>\n",
              "  </thead>\n",
              "  <tbody>\n",
              "    <tr>\n",
              "      <th>0</th>\n",
              "      <td>12147973</td>\n",
              "      <td>Cozy, sunny, family home.  Master bedroom high ceilings. Deck, garden with hens, beehives &amp; play structure.   Short walk to charming village with  attractive stores, groceries &amp; local restaurants. Friendly neighborhood. Access public transportation. The house has an open and cozy feel at the same time.  The living room has a flat screen TV.  The kitchen has all you need for cooking.  We prefer you buy your food but can use the organic oils, herbs, etc.   The yard can be seen from sitting room and when the weather allows, the yard is a place children can lose themselves in a safe way.  We have 2 bee hives, 6 hens fenced in (sometimes they get out of their coop area &amp; into the yard), 2 rabbits in a hutch and play structure. You will have access to 2 bedrooms, a living room, kitchen, bathrooms, and yard. Roslindale is quiet, convenient and friendly.  For Southern food try Redd's in Rozzie.  Italian Delfino's or Sophia's Grotto are great. Birch St Bistro has nice atmostphere--a little pric</td>\n",
              "      <td>Roslindale is quiet, convenient and friendly.  For Southern food try Redd's in Rozzie.  Italian Delfino's or Sophia's Grotto are great. Birch St Bistro has nice atmostphere--a little pricier.   If you are cooking the Fish Market has fresh fish daily; Tony's makes his own sausages and has Italian foods;  for  a wide variety of delicious cheeses and chocolates go to the Cheese Cellar on Birch St.</td>\n",
              "      <td>Roslindale</td>\n",
              "      <td>House</td>\n",
              "      <td>Entire home/apt</td>\n",
              "      <td>4</td>\n",
              "      <td>1.5</td>\n",
              "      <td>2.0</td>\n",
              "      <td>3.0</td>\n",
              "      <td>Real Bed</td>\n",
              "    </tr>\n",
              "    <tr>\n",
              "      <th>1</th>\n",
              "      <td>3075044</td>\n",
              "      <td>Charming and quiet room in a second floor 1910 condo building. The room has a full size bed, darkening curtains, window A/C unit. It's quiet because it's in the back of the house. Shared bathroom. Guests can use kitchen, living room. Pet friendly. Small but cozy and quite room with a full size bed. Ample street parking. Apt has one more bedroom (which I use) and large living space and kitchen that you can use.  Possibility to do laundry. Two porches. If I am at home, I am likely working in my home office, which is a separate room. I can help you settle in and give you tips and directions on the neighborhood and Boston.  The room is in Roslindale, a diverse and primarily residential neighborhood of Boston. It's well connected via public transportation to other neighborhoods and easy to access by car. Roslindale Square is a nice business district with supermarkets. banks, a bakery, etc. (See my Guidebook for some recommendations). The Arnold Arboretum is just steps away. Plenty of safe s</td>\n",
              "      <td>The room is in Roslindale, a diverse and primarily residential neighborhood of Boston. It's well connected via public transportation to other neighborhoods and easy to access by car. Roslindale Square is a nice business district with supermarkets. banks, a bakery, etc. (See my Guidebook for some recommendations). The Arnold Arboretum is just steps away.</td>\n",
              "      <td>Roslindale</td>\n",
              "      <td>Apartment</td>\n",
              "      <td>Private room</td>\n",
              "      <td>2</td>\n",
              "      <td>1.0</td>\n",
              "      <td>1.0</td>\n",
              "      <td>1.0</td>\n",
              "      <td>Real Bed</td>\n",
              "    </tr>\n",
              "    <tr>\n",
              "      <th>2</th>\n",
              "      <td>6976</td>\n",
              "      <td>Come stay with a friendly, middle-aged guy in the safe and quiet Roslindale neighborhood of Boston. You will have you own clean, furnished room (with cable TV, Wi-Fi, and a desk to work at) in an apartment that is filled with Mexican folk art. This is a well-maintained two-family house built in the 1940s. My apartment is on the second floor. This is a pet and smoke-free apartment.   PRICE: Price includes ALL utilities (heat, electricity, Wi-Fi, cable TV, air conditioner), parking in street, and use of back yard. NO SMOKING indoors or outside. Note that the bed is a size \"Full\" mattress, not a Queen or a King. This is ideal for one guest, but if it is two people traveling together, you can fit two in the bed, or the second person can sleep in the living room, on the long couch. (Not a fold-out couch, but comfortable). Additional fee for the second person is $20. The price listed is for one person.  I offer discounted rates for stays of one week or longer.   Guests get free coffee and a</td>\n",
              "      <td>The LOCATION: Roslindale is a safe and diverse Boston neighborhood located between Jamaica Plain and West Roxbury. This apartment is on Ardale Street, a quiet side street off Centre Street.  This is about one-half mile from Faulkner Hospital, walking distance to the renowned Arnold Arboretum park (look for it on (SENSITIVE CONTENTS HIDDEN)), and about 20-minute drive to the Longwood Medical Center area. I have easy, restriction-free, on-street parking here, and a back yard. Just one block from the house, there is a 7-11 convenience store, a dry-cleaner, a Mexican restaurant, a pizza parlor, a popular sports bar and grill (similar to an Irish Pub), and another restaurant for breakfast and lunch.  The house is located 1/2 mile from Roslindale Square where you will find more restaurants, 4 bakeries, the public library and the post office. There is a superb farmers market here every Saturday. The fast-train to downtown Boston stops there, too.</td>\n",
              "      <td>Roslindale</td>\n",
              "      <td>Apartment</td>\n",
              "      <td>Private room</td>\n",
              "      <td>2</td>\n",
              "      <td>1.0</td>\n",
              "      <td>1.0</td>\n",
              "      <td>1.0</td>\n",
              "      <td>Real Bed</td>\n",
              "    </tr>\n",
              "    <tr>\n",
              "      <th>3</th>\n",
              "      <td>1436513</td>\n",
              "      <td>Come experience the comforts of home away from home in our fabulous bedroom suite available in Roslindale, a neighborhood in Boston.  Enjoy sleeping on a large king sized bed with plush down bedding, access to a dishwasher, washer dryer and home gym. The house is incredibly accessible to public transportation and the center of Boston. Free street parking is available right in front of the house. Weekend farmers markets, restaurants and grocery stores are a 10 min walk away from the house. Most places you find in Boston are small however our bedroom suite is large. The bedroom has plush down pillows and a down comforter. The mattress is fitted with a memory foam topper that gives each guest the best sleep. The leather couches are cozy.  The large leather couch can be converted to a bed. The television has been updated to a smart tv therefore you can access most tv programs through there including, HBO, Showtime and Cinemax. If you want to enjoy cable television, there is a tv in the kit</td>\n",
              "      <td>Roslindale is a lovely little neighborhood located right in the city of Boston.  Though a part of the actual city, once you enter it, you feel as though you have escaped to a suburb with friendly neighbors.  The area is conveniently located with access to the city’s bus and subway system.  The Orange Line and Commuter Rail services connect the area to the heart of Boston and the neighboring towns.  It is situated close to shops, restaurants, grocery stores, parks and neighboring towns.  The farmer’s market held in the neighborhood’s center, Roslindale Village, and goes on all summer on Saturday morning.  Vendors of all different types of arts, crafts, and foods come to the neighborhood.  The Arnold Arboretum is a 265 acre park constructed as part of Frederick Law Olmsted’s Emerald Necklace project to provide Boston a connection through neighborhoods through it’s parks.  Jamaica Pond is also part of the emerald necklace which sits at the confluence of Jamaica Plain (a neighboring neighb</td>\n",
              "      <td>Roslindale</td>\n",
              "      <td>House</td>\n",
              "      <td>Private room</td>\n",
              "      <td>4</td>\n",
              "      <td>1.0</td>\n",
              "      <td>1.0</td>\n",
              "      <td>2.0</td>\n",
              "      <td>Real Bed</td>\n",
              "    </tr>\n",
              "    <tr>\n",
              "      <th>4</th>\n",
              "      <td>7651065</td>\n",
              "      <td>My comfy, clean and relaxing home is one block away from the bus line, on a quiet residential street.  Private room includes two comfortable single beds.  Full bath and half bath may be shared with 1-2 other guests.  Light breakfast included. AC Clean, attractive, private room, one block from the bus line, on a quiet, safe street. Two comfy single beds. Full bath and one half bath shared with 1-2 others. Kitchen privileges and breakfast included. Air Conditioned. Five minute walk to shops. You will have access to the front and side porches, the living room with TV, and the kitchen/dining area. I love my city and really enjoy sharing it with guests!  I live in the home and  share the kitchen and common spaces; my room is on the third floor.  I work full-time, and am out a lot.    I will be happy to provide you any information that would be helpful in navigating Boston.  It's a wonderful city and I hope to help make your visit here enjoyable. I suggest you get the \"What's App?\" phone app</td>\n",
              "      <td>I love the proximity to downtown, the neighborhood pride, safety, nice shops and restaurants within a 8-minute walk.  Roslindale is welcoming to all types of people.  The City website describes it:  \"Once considered a \"garden suburb\" of Boston, today's residents of Roslindale are still attracted to the neighborhood's natural beauty. Locals walk and bike in the Arnold Arboretum, a 265-acre oasis that is part of Frederick Law Olmsted's Emerald Necklace.....Roslindale Village is the city's original Main Street district and now one of the city's most vibrant, featuring several bistros, unique shops, and wireless Internet access. The MBTA Orange Line and Commuter Rail provide commuters with easy access to downtown.\"</td>\n",
              "      <td>Roslindale</td>\n",
              "      <td>House</td>\n",
              "      <td>Private room</td>\n",
              "      <td>2</td>\n",
              "      <td>1.5</td>\n",
              "      <td>1.0</td>\n",
              "      <td>2.0</td>\n",
              "      <td>Real Bed</td>\n",
              "    </tr>\n",
              "  </tbody>\n",
              "</table>\n",
              "</div>\n",
              "    <div class=\"colab-df-buttons\">\n",
              "\n",
              "  <div class=\"colab-df-container\">\n",
              "    <button class=\"colab-df-convert\" onclick=\"convertToInteractive('df-2801666b-4dee-4caf-af41-cb427f5dbcf6')\"\n",
              "            title=\"Convert this dataframe to an interactive table.\"\n",
              "            style=\"display:none;\">\n",
              "\n",
              "  <svg xmlns=\"http://www.w3.org/2000/svg\" height=\"24px\" viewBox=\"0 -960 960 960\">\n",
              "    <path d=\"M120-120v-720h720v720H120Zm60-500h600v-160H180v160Zm220 220h160v-160H400v160Zm0 220h160v-160H400v160ZM180-400h160v-160H180v160Zm440 0h160v-160H620v160ZM180-180h160v-160H180v160Zm440 0h160v-160H620v160Z\"/>\n",
              "  </svg>\n",
              "    </button>\n",
              "\n",
              "  <style>\n",
              "    .colab-df-container {\n",
              "      display:flex;\n",
              "      gap: 12px;\n",
              "    }\n",
              "\n",
              "    .colab-df-convert {\n",
              "      background-color: #E8F0FE;\n",
              "      border: none;\n",
              "      border-radius: 50%;\n",
              "      cursor: pointer;\n",
              "      display: none;\n",
              "      fill: #1967D2;\n",
              "      height: 32px;\n",
              "      padding: 0 0 0 0;\n",
              "      width: 32px;\n",
              "    }\n",
              "\n",
              "    .colab-df-convert:hover {\n",
              "      background-color: #E2EBFA;\n",
              "      box-shadow: 0px 1px 2px rgba(60, 64, 67, 0.3), 0px 1px 3px 1px rgba(60, 64, 67, 0.15);\n",
              "      fill: #174EA6;\n",
              "    }\n",
              "\n",
              "    .colab-df-buttons div {\n",
              "      margin-bottom: 4px;\n",
              "    }\n",
              "\n",
              "    [theme=dark] .colab-df-convert {\n",
              "      background-color: #3B4455;\n",
              "      fill: #D2E3FC;\n",
              "    }\n",
              "\n",
              "    [theme=dark] .colab-df-convert:hover {\n",
              "      background-color: #434B5C;\n",
              "      box-shadow: 0px 1px 3px 1px rgba(0, 0, 0, 0.15);\n",
              "      filter: drop-shadow(0px 1px 2px rgba(0, 0, 0, 0.3));\n",
              "      fill: #FFFFFF;\n",
              "    }\n",
              "  </style>\n",
              "\n",
              "    <script>\n",
              "      const buttonEl =\n",
              "        document.querySelector('#df-2801666b-4dee-4caf-af41-cb427f5dbcf6 button.colab-df-convert');\n",
              "      buttonEl.style.display =\n",
              "        google.colab.kernel.accessAllowed ? 'block' : 'none';\n",
              "\n",
              "      async function convertToInteractive(key) {\n",
              "        const element = document.querySelector('#df-2801666b-4dee-4caf-af41-cb427f5dbcf6');\n",
              "        const dataTable =\n",
              "          await google.colab.kernel.invokeFunction('convertToInteractive',\n",
              "                                                    [key], {});\n",
              "        if (!dataTable) return;\n",
              "\n",
              "        const docLinkHtml = 'Like what you see? Visit the ' +\n",
              "          '<a target=\"_blank\" href=https://colab.research.google.com/notebooks/data_table.ipynb>data table notebook</a>'\n",
              "          + ' to learn more about interactive tables.';\n",
              "        element.innerHTML = '';\n",
              "        dataTable['output_type'] = 'display_data';\n",
              "        await google.colab.output.renderOutput(dataTable, element);\n",
              "        const docLink = document.createElement('div');\n",
              "        docLink.innerHTML = docLinkHtml;\n",
              "        element.appendChild(docLink);\n",
              "      }\n",
              "    </script>\n",
              "  </div>\n",
              "\n",
              "\n",
              "<div id=\"df-2e99e55a-8af0-438b-be47-bd74003e96c6\">\n",
              "  <button class=\"colab-df-quickchart\" onclick=\"quickchart('df-2e99e55a-8af0-438b-be47-bd74003e96c6')\"\n",
              "            title=\"Suggest charts\"\n",
              "            style=\"display:none;\">\n",
              "\n",
              "<svg xmlns=\"http://www.w3.org/2000/svg\" height=\"24px\"viewBox=\"0 0 24 24\"\n",
              "     width=\"24px\">\n",
              "    <g>\n",
              "        <path d=\"M19 3H5c-1.1 0-2 .9-2 2v14c0 1.1.9 2 2 2h14c1.1 0 2-.9 2-2V5c0-1.1-.9-2-2-2zM9 17H7v-7h2v7zm4 0h-2V7h2v10zm4 0h-2v-4h2v4z\"/>\n",
              "    </g>\n",
              "</svg>\n",
              "  </button>\n",
              "\n",
              "<style>\n",
              "  .colab-df-quickchart {\n",
              "      --bg-color: #E8F0FE;\n",
              "      --fill-color: #1967D2;\n",
              "      --hover-bg-color: #E2EBFA;\n",
              "      --hover-fill-color: #174EA6;\n",
              "      --disabled-fill-color: #AAA;\n",
              "      --disabled-bg-color: #DDD;\n",
              "  }\n",
              "\n",
              "  [theme=dark] .colab-df-quickchart {\n",
              "      --bg-color: #3B4455;\n",
              "      --fill-color: #D2E3FC;\n",
              "      --hover-bg-color: #434B5C;\n",
              "      --hover-fill-color: #FFFFFF;\n",
              "      --disabled-bg-color: #3B4455;\n",
              "      --disabled-fill-color: #666;\n",
              "  }\n",
              "\n",
              "  .colab-df-quickchart {\n",
              "    background-color: var(--bg-color);\n",
              "    border: none;\n",
              "    border-radius: 50%;\n",
              "    cursor: pointer;\n",
              "    display: none;\n",
              "    fill: var(--fill-color);\n",
              "    height: 32px;\n",
              "    padding: 0;\n",
              "    width: 32px;\n",
              "  }\n",
              "\n",
              "  .colab-df-quickchart:hover {\n",
              "    background-color: var(--hover-bg-color);\n",
              "    box-shadow: 0 1px 2px rgba(60, 64, 67, 0.3), 0 1px 3px 1px rgba(60, 64, 67, 0.15);\n",
              "    fill: var(--button-hover-fill-color);\n",
              "  }\n",
              "\n",
              "  .colab-df-quickchart-complete:disabled,\n",
              "  .colab-df-quickchart-complete:disabled:hover {\n",
              "    background-color: var(--disabled-bg-color);\n",
              "    fill: var(--disabled-fill-color);\n",
              "    box-shadow: none;\n",
              "  }\n",
              "\n",
              "  .colab-df-spinner {\n",
              "    border: 2px solid var(--fill-color);\n",
              "    border-color: transparent;\n",
              "    border-bottom-color: var(--fill-color);\n",
              "    animation:\n",
              "      spin 1s steps(1) infinite;\n",
              "  }\n",
              "\n",
              "  @keyframes spin {\n",
              "    0% {\n",
              "      border-color: transparent;\n",
              "      border-bottom-color: var(--fill-color);\n",
              "      border-left-color: var(--fill-color);\n",
              "    }\n",
              "    20% {\n",
              "      border-color: transparent;\n",
              "      border-left-color: var(--fill-color);\n",
              "      border-top-color: var(--fill-color);\n",
              "    }\n",
              "    30% {\n",
              "      border-color: transparent;\n",
              "      border-left-color: var(--fill-color);\n",
              "      border-top-color: var(--fill-color);\n",
              "      border-right-color: var(--fill-color);\n",
              "    }\n",
              "    40% {\n",
              "      border-color: transparent;\n",
              "      border-right-color: var(--fill-color);\n",
              "      border-top-color: var(--fill-color);\n",
              "    }\n",
              "    60% {\n",
              "      border-color: transparent;\n",
              "      border-right-color: var(--fill-color);\n",
              "    }\n",
              "    80% {\n",
              "      border-color: transparent;\n",
              "      border-right-color: var(--fill-color);\n",
              "      border-bottom-color: var(--fill-color);\n",
              "    }\n",
              "    90% {\n",
              "      border-color: transparent;\n",
              "      border-bottom-color: var(--fill-color);\n",
              "    }\n",
              "  }\n",
              "</style>\n",
              "\n",
              "  <script>\n",
              "    async function quickchart(key) {\n",
              "      const quickchartButtonEl =\n",
              "        document.querySelector('#' + key + ' button');\n",
              "      quickchartButtonEl.disabled = true;  // To prevent multiple clicks.\n",
              "      quickchartButtonEl.classList.add('colab-df-spinner');\n",
              "      try {\n",
              "        const charts = await google.colab.kernel.invokeFunction(\n",
              "            'suggestCharts', [key], {});\n",
              "      } catch (error) {\n",
              "        console.error('Error during call to suggestCharts:', error);\n",
              "      }\n",
              "      quickchartButtonEl.classList.remove('colab-df-spinner');\n",
              "      quickchartButtonEl.classList.add('colab-df-quickchart-complete');\n",
              "    }\n",
              "    (() => {\n",
              "      let quickchartButtonEl =\n",
              "        document.querySelector('#df-2e99e55a-8af0-438b-be47-bd74003e96c6 button');\n",
              "      quickchartButtonEl.style.display =\n",
              "        google.colab.kernel.accessAllowed ? 'block' : 'none';\n",
              "    })();\n",
              "  </script>\n",
              "</div>\n",
              "    </div>\n",
              "  </div>\n"
            ],
            "application/vnd.google.colaboratory.intrinsic+json": {
              "type": "dataframe",
              "summary": "{\n  \"name\": \"boston_airbnb_df[['id', 'description', 'neighborhood_overview', 'neighbourhood_cleansed', 'property_type', 'room_type', 'accommodates', 'bathrooms', 'bedrooms', 'beds', 'bed_type']]\",\n  \"rows\": 5,\n  \"fields\": [\n    {\n      \"column\": \"id\",\n      \"properties\": {\n        \"dtype\": \"number\",\n        \"std\": 4984042,\n        \"min\": 6976,\n        \"max\": 12147973,\n        \"num_unique_values\": 5,\n        \"samples\": [\n          3075044,\n          7651065,\n          6976\n        ],\n        \"semantic_type\": \"\",\n        \"description\": \"\"\n      }\n    },\n    {\n      \"column\": \"description\",\n      \"properties\": {\n        \"dtype\": \"string\",\n        \"num_unique_values\": 5,\n        \"samples\": [\n          \"Charming and quiet room in a second floor 1910 condo building. The room has a full size bed, darkening curtains, window A/C unit. It's quiet because it's in the back of the house. Shared bathroom. Guests can use kitchen, living room. Pet friendly. Small but cozy and quite room with a full size bed. Ample street parking. Apt has one more bedroom (which I use) and large living space and kitchen that you can use.  Possibility to do laundry. Two porches. If I am at home, I am likely working in my home office, which is a separate room. I can help you settle in and give you tips and directions on the neighborhood and Boston.  The room is in Roslindale, a diverse and primarily residential neighborhood of Boston. It's well connected via public transportation to other neighborhoods and easy to access by car. Roslindale Square is a nice business district with supermarkets. banks, a bakery, etc. (See my Guidebook for some recommendations). The Arnold Arboretum is just steps away. Plenty of safe s\",\n          \"My comfy, clean and relaxing home is one block away from the bus line, on a quiet residential street.  Private room includes two comfortable single beds.  Full bath and half bath may be shared with 1-2 other guests.  Light breakfast included. AC Clean, attractive, private room, one block from the bus line, on a quiet, safe street. Two comfy single beds. Full bath and one half bath shared with 1-2 others. Kitchen privileges and breakfast included. Air Conditioned. Five minute walk to shops. You will have access to the front and side porches, the living room with TV, and the kitchen/dining area. I love my city and really enjoy sharing it with guests!  I live in the home and  share the kitchen and common spaces; my room is on the third floor.  I work full-time, and am out a lot.    I will be happy to provide you any information that would be helpful in navigating Boston.  It's a wonderful city and I hope to help make your visit here enjoyable. I suggest you get the \\\"What's App?\\\" phone app\",\n          \"Come stay with a friendly, middle-aged guy in the safe and quiet Roslindale neighborhood of Boston. You will have you own clean, furnished room (with cable TV, Wi-Fi, and a desk to work at) in an apartment that is filled with Mexican folk art. This is a well-maintained two-family house built in the 1940s. My apartment is on the second floor. This is a pet and smoke-free apartment.   PRICE: Price includes ALL utilities (heat, electricity, Wi-Fi, cable TV, air conditioner), parking in street, and use of back yard. NO SMOKING indoors or outside. Note that the bed is a size \\\"Full\\\" mattress, not a Queen or a King. This is ideal for one guest, but if it is two people traveling together, you can fit two in the bed, or the second person can sleep in the living room, on the long couch. (Not a fold-out couch, but comfortable). Additional fee for the second person is $20. The price listed is for one person.  I offer discounted rates for stays of one week or longer.   Guests get free coffee and a \"\n        ],\n        \"semantic_type\": \"\",\n        \"description\": \"\"\n      }\n    },\n    {\n      \"column\": \"neighborhood_overview\",\n      \"properties\": {\n        \"dtype\": \"string\",\n        \"num_unique_values\": 5,\n        \"samples\": [\n          \"The room is in Roslindale, a diverse and primarily residential neighborhood of Boston. It's well connected via public transportation to other neighborhoods and easy to access by car. Roslindale Square is a nice business district with supermarkets. banks, a bakery, etc. (See my Guidebook for some recommendations). The Arnold Arboretum is just steps away.\",\n          \"I love the proximity to downtown, the neighborhood pride, safety, nice shops and restaurants within a 8-minute walk.  Roslindale is welcoming to all types of people.  The City website describes it:  \\\"Once considered a \\\"garden suburb\\\" of Boston, today's residents of Roslindale are still attracted to the neighborhood's natural beauty. Locals walk and bike in the Arnold Arboretum, a 265-acre oasis that is part of Frederick Law Olmsted's Emerald Necklace.....Roslindale Village is the city's original Main Street district and now one of the city's most vibrant, featuring several bistros, unique shops, and wireless Internet access. The MBTA Orange Line and Commuter Rail provide commuters with easy access to downtown.\\\"\",\n          \"The LOCATION: Roslindale is a safe and diverse Boston neighborhood located between Jamaica Plain and West Roxbury. This apartment is on Ardale Street, a quiet side street off Centre Street.  This is about one-half mile from Faulkner Hospital, walking distance to the renowned Arnold Arboretum park (look for it on (SENSITIVE CONTENTS HIDDEN)), and about 20-minute drive to the Longwood Medical Center area. I have easy, restriction-free, on-street parking here, and a back yard. Just one block from the house, there is a 7-11 convenience store, a dry-cleaner, a Mexican restaurant, a pizza parlor, a popular sports bar and grill (similar to an Irish Pub), and another restaurant for breakfast and lunch.  The house is located 1/2 mile from Roslindale Square where you will find more restaurants, 4 bakeries, the public library and the post office. There is a superb farmers market here every Saturday. The fast-train to downtown Boston stops there, too.\"\n        ],\n        \"semantic_type\": \"\",\n        \"description\": \"\"\n      }\n    },\n    {\n      \"column\": \"neighbourhood_cleansed\",\n      \"properties\": {\n        \"dtype\": \"category\",\n        \"num_unique_values\": 1,\n        \"samples\": [\n          \"Roslindale\"\n        ],\n        \"semantic_type\": \"\",\n        \"description\": \"\"\n      }\n    },\n    {\n      \"column\": \"property_type\",\n      \"properties\": {\n        \"dtype\": \"category\",\n        \"num_unique_values\": 2,\n        \"samples\": [\n          \"Apartment\"\n        ],\n        \"semantic_type\": \"\",\n        \"description\": \"\"\n      }\n    },\n    {\n      \"column\": \"room_type\",\n      \"properties\": {\n        \"dtype\": \"category\",\n        \"num_unique_values\": 2,\n        \"samples\": [\n          \"Private room\"\n        ],\n        \"semantic_type\": \"\",\n        \"description\": \"\"\n      }\n    },\n    {\n      \"column\": \"accommodates\",\n      \"properties\": {\n        \"dtype\": \"number\",\n        \"std\": 1,\n        \"min\": 2,\n        \"max\": 4,\n        \"num_unique_values\": 2,\n        \"samples\": [\n          2\n        ],\n        \"semantic_type\": \"\",\n        \"description\": \"\"\n      }\n    },\n    {\n      \"column\": \"bathrooms\",\n      \"properties\": {\n        \"dtype\": \"number\",\n        \"std\": 0.27386127875258304,\n        \"min\": 1.0,\n        \"max\": 1.5,\n        \"num_unique_values\": 2,\n        \"samples\": [\n          1.0\n        ],\n        \"semantic_type\": \"\",\n        \"description\": \"\"\n      }\n    },\n    {\n      \"column\": \"bedrooms\",\n      \"properties\": {\n        \"dtype\": \"number\",\n        \"std\": 0.44721359549995804,\n        \"min\": 1.0,\n        \"max\": 2.0,\n        \"num_unique_values\": 2,\n        \"samples\": [\n          1.0\n        ],\n        \"semantic_type\": \"\",\n        \"description\": \"\"\n      }\n    },\n    {\n      \"column\": \"beds\",\n      \"properties\": {\n        \"dtype\": \"number\",\n        \"std\": 0.8366600265340756,\n        \"min\": 1.0,\n        \"max\": 3.0,\n        \"num_unique_values\": 3,\n        \"samples\": [\n          3.0\n        ],\n        \"semantic_type\": \"\",\n        \"description\": \"\"\n      }\n    },\n    {\n      \"column\": \"bed_type\",\n      \"properties\": {\n        \"dtype\": \"category\",\n        \"num_unique_values\": 1,\n        \"samples\": [\n          \"Real Bed\"\n        ],\n        \"semantic_type\": \"\",\n        \"description\": \"\"\n      }\n    }\n  ]\n}"
            }
          },
          "metadata": {},
          "execution_count": 68
        }
      ]
    },
    {
      "cell_type": "code",
      "source": [
        "boston_airbnb_df[['description', 'neighborhood_overview', 'neighbourhood_cleansed', 'property_type', 'room_type', 'accommodates', 'bathrooms', 'bedrooms', 'beds', 'bed_type']].describe()"
      ],
      "metadata": {
        "colab": {
          "base_uri": "https://localhost:8080/",
          "height": 300
        },
        "id": "AeJDuxunMZUl",
        "outputId": "2bb447d4-b57c-4cf3-9323-931a4abe0d44"
      },
      "execution_count": 18,
      "outputs": [
        {
          "output_type": "execute_result",
          "data": {
            "text/plain": [
              "       accommodates    bathrooms     bedrooms         beds\n",
              "count   3585.000000  3571.000000  3575.000000  3576.000000\n",
              "mean       3.041283     1.221647     1.255944     1.609060\n",
              "std        1.778929     0.501487     0.753060     1.011745\n",
              "min        1.000000     0.000000     0.000000     0.000000\n",
              "25%        2.000000     1.000000     1.000000     1.000000\n",
              "50%        2.000000     1.000000     1.000000     1.000000\n",
              "75%        4.000000     1.000000     2.000000     2.000000\n",
              "max       16.000000     6.000000     5.000000    16.000000"
            ],
            "text/html": [
              "\n",
              "  <div id=\"df-de61e3ca-2b2a-4a47-a953-6c8d4894cec1\" class=\"colab-df-container\">\n",
              "    <div>\n",
              "<style scoped>\n",
              "    .dataframe tbody tr th:only-of-type {\n",
              "        vertical-align: middle;\n",
              "    }\n",
              "\n",
              "    .dataframe tbody tr th {\n",
              "        vertical-align: top;\n",
              "    }\n",
              "\n",
              "    .dataframe thead th {\n",
              "        text-align: right;\n",
              "    }\n",
              "</style>\n",
              "<table border=\"1\" class=\"dataframe\">\n",
              "  <thead>\n",
              "    <tr style=\"text-align: right;\">\n",
              "      <th></th>\n",
              "      <th>accommodates</th>\n",
              "      <th>bathrooms</th>\n",
              "      <th>bedrooms</th>\n",
              "      <th>beds</th>\n",
              "    </tr>\n",
              "  </thead>\n",
              "  <tbody>\n",
              "    <tr>\n",
              "      <th>count</th>\n",
              "      <td>3585.000000</td>\n",
              "      <td>3571.000000</td>\n",
              "      <td>3575.000000</td>\n",
              "      <td>3576.000000</td>\n",
              "    </tr>\n",
              "    <tr>\n",
              "      <th>mean</th>\n",
              "      <td>3.041283</td>\n",
              "      <td>1.221647</td>\n",
              "      <td>1.255944</td>\n",
              "      <td>1.609060</td>\n",
              "    </tr>\n",
              "    <tr>\n",
              "      <th>std</th>\n",
              "      <td>1.778929</td>\n",
              "      <td>0.501487</td>\n",
              "      <td>0.753060</td>\n",
              "      <td>1.011745</td>\n",
              "    </tr>\n",
              "    <tr>\n",
              "      <th>min</th>\n",
              "      <td>1.000000</td>\n",
              "      <td>0.000000</td>\n",
              "      <td>0.000000</td>\n",
              "      <td>0.000000</td>\n",
              "    </tr>\n",
              "    <tr>\n",
              "      <th>25%</th>\n",
              "      <td>2.000000</td>\n",
              "      <td>1.000000</td>\n",
              "      <td>1.000000</td>\n",
              "      <td>1.000000</td>\n",
              "    </tr>\n",
              "    <tr>\n",
              "      <th>50%</th>\n",
              "      <td>2.000000</td>\n",
              "      <td>1.000000</td>\n",
              "      <td>1.000000</td>\n",
              "      <td>1.000000</td>\n",
              "    </tr>\n",
              "    <tr>\n",
              "      <th>75%</th>\n",
              "      <td>4.000000</td>\n",
              "      <td>1.000000</td>\n",
              "      <td>2.000000</td>\n",
              "      <td>2.000000</td>\n",
              "    </tr>\n",
              "    <tr>\n",
              "      <th>max</th>\n",
              "      <td>16.000000</td>\n",
              "      <td>6.000000</td>\n",
              "      <td>5.000000</td>\n",
              "      <td>16.000000</td>\n",
              "    </tr>\n",
              "  </tbody>\n",
              "</table>\n",
              "</div>\n",
              "    <div class=\"colab-df-buttons\">\n",
              "\n",
              "  <div class=\"colab-df-container\">\n",
              "    <button class=\"colab-df-convert\" onclick=\"convertToInteractive('df-de61e3ca-2b2a-4a47-a953-6c8d4894cec1')\"\n",
              "            title=\"Convert this dataframe to an interactive table.\"\n",
              "            style=\"display:none;\">\n",
              "\n",
              "  <svg xmlns=\"http://www.w3.org/2000/svg\" height=\"24px\" viewBox=\"0 -960 960 960\">\n",
              "    <path d=\"M120-120v-720h720v720H120Zm60-500h600v-160H180v160Zm220 220h160v-160H400v160Zm0 220h160v-160H400v160ZM180-400h160v-160H180v160Zm440 0h160v-160H620v160ZM180-180h160v-160H180v160Zm440 0h160v-160H620v160Z\"/>\n",
              "  </svg>\n",
              "    </button>\n",
              "\n",
              "  <style>\n",
              "    .colab-df-container {\n",
              "      display:flex;\n",
              "      gap: 12px;\n",
              "    }\n",
              "\n",
              "    .colab-df-convert {\n",
              "      background-color: #E8F0FE;\n",
              "      border: none;\n",
              "      border-radius: 50%;\n",
              "      cursor: pointer;\n",
              "      display: none;\n",
              "      fill: #1967D2;\n",
              "      height: 32px;\n",
              "      padding: 0 0 0 0;\n",
              "      width: 32px;\n",
              "    }\n",
              "\n",
              "    .colab-df-convert:hover {\n",
              "      background-color: #E2EBFA;\n",
              "      box-shadow: 0px 1px 2px rgba(60, 64, 67, 0.3), 0px 1px 3px 1px rgba(60, 64, 67, 0.15);\n",
              "      fill: #174EA6;\n",
              "    }\n",
              "\n",
              "    .colab-df-buttons div {\n",
              "      margin-bottom: 4px;\n",
              "    }\n",
              "\n",
              "    [theme=dark] .colab-df-convert {\n",
              "      background-color: #3B4455;\n",
              "      fill: #D2E3FC;\n",
              "    }\n",
              "\n",
              "    [theme=dark] .colab-df-convert:hover {\n",
              "      background-color: #434B5C;\n",
              "      box-shadow: 0px 1px 3px 1px rgba(0, 0, 0, 0.15);\n",
              "      filter: drop-shadow(0px 1px 2px rgba(0, 0, 0, 0.3));\n",
              "      fill: #FFFFFF;\n",
              "    }\n",
              "  </style>\n",
              "\n",
              "    <script>\n",
              "      const buttonEl =\n",
              "        document.querySelector('#df-de61e3ca-2b2a-4a47-a953-6c8d4894cec1 button.colab-df-convert');\n",
              "      buttonEl.style.display =\n",
              "        google.colab.kernel.accessAllowed ? 'block' : 'none';\n",
              "\n",
              "      async function convertToInteractive(key) {\n",
              "        const element = document.querySelector('#df-de61e3ca-2b2a-4a47-a953-6c8d4894cec1');\n",
              "        const dataTable =\n",
              "          await google.colab.kernel.invokeFunction('convertToInteractive',\n",
              "                                                    [key], {});\n",
              "        if (!dataTable) return;\n",
              "\n",
              "        const docLinkHtml = 'Like what you see? Visit the ' +\n",
              "          '<a target=\"_blank\" href=https://colab.research.google.com/notebooks/data_table.ipynb>data table notebook</a>'\n",
              "          + ' to learn more about interactive tables.';\n",
              "        element.innerHTML = '';\n",
              "        dataTable['output_type'] = 'display_data';\n",
              "        await google.colab.output.renderOutput(dataTable, element);\n",
              "        const docLink = document.createElement('div');\n",
              "        docLink.innerHTML = docLinkHtml;\n",
              "        element.appendChild(docLink);\n",
              "      }\n",
              "    </script>\n",
              "  </div>\n",
              "\n",
              "\n",
              "<div id=\"df-8e3803a5-c006-42c8-893e-74d92bf83f95\">\n",
              "  <button class=\"colab-df-quickchart\" onclick=\"quickchart('df-8e3803a5-c006-42c8-893e-74d92bf83f95')\"\n",
              "            title=\"Suggest charts\"\n",
              "            style=\"display:none;\">\n",
              "\n",
              "<svg xmlns=\"http://www.w3.org/2000/svg\" height=\"24px\"viewBox=\"0 0 24 24\"\n",
              "     width=\"24px\">\n",
              "    <g>\n",
              "        <path d=\"M19 3H5c-1.1 0-2 .9-2 2v14c0 1.1.9 2 2 2h14c1.1 0 2-.9 2-2V5c0-1.1-.9-2-2-2zM9 17H7v-7h2v7zm4 0h-2V7h2v10zm4 0h-2v-4h2v4z\"/>\n",
              "    </g>\n",
              "</svg>\n",
              "  </button>\n",
              "\n",
              "<style>\n",
              "  .colab-df-quickchart {\n",
              "      --bg-color: #E8F0FE;\n",
              "      --fill-color: #1967D2;\n",
              "      --hover-bg-color: #E2EBFA;\n",
              "      --hover-fill-color: #174EA6;\n",
              "      --disabled-fill-color: #AAA;\n",
              "      --disabled-bg-color: #DDD;\n",
              "  }\n",
              "\n",
              "  [theme=dark] .colab-df-quickchart {\n",
              "      --bg-color: #3B4455;\n",
              "      --fill-color: #D2E3FC;\n",
              "      --hover-bg-color: #434B5C;\n",
              "      --hover-fill-color: #FFFFFF;\n",
              "      --disabled-bg-color: #3B4455;\n",
              "      --disabled-fill-color: #666;\n",
              "  }\n",
              "\n",
              "  .colab-df-quickchart {\n",
              "    background-color: var(--bg-color);\n",
              "    border: none;\n",
              "    border-radius: 50%;\n",
              "    cursor: pointer;\n",
              "    display: none;\n",
              "    fill: var(--fill-color);\n",
              "    height: 32px;\n",
              "    padding: 0;\n",
              "    width: 32px;\n",
              "  }\n",
              "\n",
              "  .colab-df-quickchart:hover {\n",
              "    background-color: var(--hover-bg-color);\n",
              "    box-shadow: 0 1px 2px rgba(60, 64, 67, 0.3), 0 1px 3px 1px rgba(60, 64, 67, 0.15);\n",
              "    fill: var(--button-hover-fill-color);\n",
              "  }\n",
              "\n",
              "  .colab-df-quickchart-complete:disabled,\n",
              "  .colab-df-quickchart-complete:disabled:hover {\n",
              "    background-color: var(--disabled-bg-color);\n",
              "    fill: var(--disabled-fill-color);\n",
              "    box-shadow: none;\n",
              "  }\n",
              "\n",
              "  .colab-df-spinner {\n",
              "    border: 2px solid var(--fill-color);\n",
              "    border-color: transparent;\n",
              "    border-bottom-color: var(--fill-color);\n",
              "    animation:\n",
              "      spin 1s steps(1) infinite;\n",
              "  }\n",
              "\n",
              "  @keyframes spin {\n",
              "    0% {\n",
              "      border-color: transparent;\n",
              "      border-bottom-color: var(--fill-color);\n",
              "      border-left-color: var(--fill-color);\n",
              "    }\n",
              "    20% {\n",
              "      border-color: transparent;\n",
              "      border-left-color: var(--fill-color);\n",
              "      border-top-color: var(--fill-color);\n",
              "    }\n",
              "    30% {\n",
              "      border-color: transparent;\n",
              "      border-left-color: var(--fill-color);\n",
              "      border-top-color: var(--fill-color);\n",
              "      border-right-color: var(--fill-color);\n",
              "    }\n",
              "    40% {\n",
              "      border-color: transparent;\n",
              "      border-right-color: var(--fill-color);\n",
              "      border-top-color: var(--fill-color);\n",
              "    }\n",
              "    60% {\n",
              "      border-color: transparent;\n",
              "      border-right-color: var(--fill-color);\n",
              "    }\n",
              "    80% {\n",
              "      border-color: transparent;\n",
              "      border-right-color: var(--fill-color);\n",
              "      border-bottom-color: var(--fill-color);\n",
              "    }\n",
              "    90% {\n",
              "      border-color: transparent;\n",
              "      border-bottom-color: var(--fill-color);\n",
              "    }\n",
              "  }\n",
              "</style>\n",
              "\n",
              "  <script>\n",
              "    async function quickchart(key) {\n",
              "      const quickchartButtonEl =\n",
              "        document.querySelector('#' + key + ' button');\n",
              "      quickchartButtonEl.disabled = true;  // To prevent multiple clicks.\n",
              "      quickchartButtonEl.classList.add('colab-df-spinner');\n",
              "      try {\n",
              "        const charts = await google.colab.kernel.invokeFunction(\n",
              "            'suggestCharts', [key], {});\n",
              "      } catch (error) {\n",
              "        console.error('Error during call to suggestCharts:', error);\n",
              "      }\n",
              "      quickchartButtonEl.classList.remove('colab-df-spinner');\n",
              "      quickchartButtonEl.classList.add('colab-df-quickchart-complete');\n",
              "    }\n",
              "    (() => {\n",
              "      let quickchartButtonEl =\n",
              "        document.querySelector('#df-8e3803a5-c006-42c8-893e-74d92bf83f95 button');\n",
              "      quickchartButtonEl.style.display =\n",
              "        google.colab.kernel.accessAllowed ? 'block' : 'none';\n",
              "    })();\n",
              "  </script>\n",
              "</div>\n",
              "    </div>\n",
              "  </div>\n"
            ],
            "application/vnd.google.colaboratory.intrinsic+json": {
              "type": "dataframe",
              "summary": "{\n  \"name\": \"boston_airbnb_df[['description', 'neighborhood_overview', 'neighbourhood_cleansed', 'property_type', 'room_type', 'accommodates', 'bathrooms', 'bedrooms', 'beds', 'bed_type']]\",\n  \"rows\": 8,\n  \"fields\": [\n    {\n      \"column\": \"accommodates\",\n      \"properties\": {\n        \"dtype\": \"number\",\n        \"std\": 1265.9921444051213,\n        \"min\": 1.0,\n        \"max\": 3585.0,\n        \"num_unique_values\": 7,\n        \"samples\": [\n          3585.0,\n          3.0412831241283125,\n          4.0\n        ],\n        \"semantic_type\": \"\",\n        \"description\": \"\"\n      }\n    },\n    {\n      \"column\": \"bathrooms\",\n      \"properties\": {\n        \"dtype\": \"number\",\n        \"std\": 1261.9989341252356,\n        \"min\": 0.0,\n        \"max\": 3571.0,\n        \"num_unique_values\": 6,\n        \"samples\": [\n          3571.0,\n          1.221646597591711,\n          6.0\n        ],\n        \"semantic_type\": \"\",\n        \"description\": \"\"\n      }\n    },\n    {\n      \"column\": \"bedrooms\",\n      \"properties\": {\n        \"dtype\": \"number\",\n        \"std\": 1263.3982277216,\n        \"min\": 0.0,\n        \"max\": 3575.0,\n        \"num_unique_values\": 7,\n        \"samples\": [\n          3575.0,\n          1.255944055944056,\n          2.0\n        ],\n        \"semantic_type\": \"\",\n        \"description\": \"\"\n      }\n    },\n    {\n      \"column\": \"beds\",\n      \"properties\": {\n        \"dtype\": \"number\",\n        \"std\": 1263.1752876042235,\n        \"min\": 0.0,\n        \"max\": 3576.0,\n        \"num_unique_values\": 7,\n        \"samples\": [\n          3576.0,\n          1.6090604026845639,\n          2.0\n        ],\n        \"semantic_type\": \"\",\n        \"description\": \"\"\n      }\n    }\n  ]\n}"
            }
          },
          "metadata": {},
          "execution_count": 18
        }
      ]
    },
    {
      "cell_type": "code",
      "source": [
        "boston_airbnb_df[['description', 'neighborhood_overview', 'neighbourhood_cleansed', 'property_type', 'room_type', 'accommodates', 'bathrooms', 'bedrooms', 'beds', 'bed_type']].dtypes"
      ],
      "metadata": {
        "colab": {
          "base_uri": "https://localhost:8080/"
        },
        "id": "EXIFRfgtPEwi",
        "outputId": "4e2cbca6-2c8c-4ee6-84c1-146f8612f1d3"
      },
      "execution_count": 22,
      "outputs": [
        {
          "output_type": "execute_result",
          "data": {
            "text/plain": [
              "description                object\n",
              "neighborhood_overview      object\n",
              "neighbourhood_cleansed     object\n",
              "property_type              object\n",
              "room_type                  object\n",
              "accommodates                int64\n",
              "bathrooms                 float64\n",
              "bedrooms                  float64\n",
              "beds                      float64\n",
              "bed_type                   object\n",
              "dtype: object"
            ]
          },
          "metadata": {},
          "execution_count": 22
        }
      ]
    },
    {
      "cell_type": "code",
      "source": [
        "boston_airbnb_calendar_df.dtypes"
      ],
      "metadata": {
        "colab": {
          "base_uri": "https://localhost:8080/"
        },
        "id": "NB8rsaS3Q9Qt",
        "outputId": "6fa1a57a-7a25-4002-ec9f-3f33bd4a4497"
      },
      "execution_count": 28,
      "outputs": [
        {
          "output_type": "execute_result",
          "data": {
            "text/plain": [
              "listing_id     int64\n",
              "date          object\n",
              "available     object\n",
              "price         object\n",
              "dtype: object"
            ]
          },
          "metadata": {},
          "execution_count": 28
        }
      ]
    },
    {
      "cell_type": "markdown",
      "source": [
        "The data types are not correct for the columns date, available and price."
      ],
      "metadata": {
        "id": "snnBpI3JXQC3"
      }
    },
    {
      "cell_type": "markdown",
      "source": [
        "## Data preparation"
      ],
      "metadata": {
        "id": "9MhZzkJqXkv4"
      }
    },
    {
      "cell_type": "markdown",
      "source": [
        "In this section, we will create a cleaned version of the raw data. We will impute the missing values detected in previos section and correct the erroneous data types, as well as some basic transformations of general use."
      ],
      "metadata": {
        "id": "MTR6bHeXXo5G"
      }
    },
    {
      "cell_type": "markdown",
      "source": [
        "### Imputing missing values"
      ],
      "metadata": {
        "id": "HufNCnM0Yg0n"
      }
    },
    {
      "cell_type": "code",
      "source": [
        "listing_df = boston_airbnb_df[['id', 'description', 'neighborhood_overview', 'neighbourhood_cleansed', 'property_type', 'room_type', 'accommodates', 'bathrooms', 'bedrooms', 'beds', 'bed_type']].copy()"
      ],
      "metadata": {
        "id": "SbbQ4s7HYpiH"
      },
      "execution_count": 69,
      "outputs": []
    },
    {
      "cell_type": "code",
      "source": [
        "listing_df['bathrooms'].fillna((listing_df['bathrooms'].mode()[0]), inplace=True)\n",
        "listing_df['bedrooms'].fillna((listing_df['bedrooms'].mode()[0]), inplace=True)\n",
        "listing_df['beds'].fillna((listing_df['beds'].mode()[0]), inplace=True)\n",
        "listing_df['property_type'].fillna((listing_df['property_type'].mode()[0]), inplace=True)"
      ],
      "metadata": {
        "id": "oPOt_CwnYjvV"
      },
      "execution_count": 70,
      "outputs": []
    },
    {
      "cell_type": "code",
      "source": [
        "listing_df.isnull().sum()"
      ],
      "metadata": {
        "colab": {
          "base_uri": "https://localhost:8080/"
        },
        "id": "afFaKiWvXoJK",
        "outputId": "c4fe1f4b-c74b-4e21-e831-adf2340d0f8d"
      },
      "execution_count": 71,
      "outputs": [
        {
          "output_type": "execute_result",
          "data": {
            "text/plain": [
              "id                           0\n",
              "description                  0\n",
              "neighborhood_overview     1415\n",
              "neighbourhood_cleansed       0\n",
              "property_type                0\n",
              "room_type                    0\n",
              "accommodates                 0\n",
              "bathrooms                    0\n",
              "bedrooms                     0\n",
              "beds                         0\n",
              "bed_type                     0\n",
              "dtype: int64"
            ]
          },
          "metadata": {},
          "execution_count": 71
        }
      ]
    },
    {
      "cell_type": "markdown",
      "source": [
        "### Data types corrections"
      ],
      "metadata": {
        "id": "J6u1XTW-ZQrI"
      }
    },
    {
      "cell_type": "code",
      "source": [
        "boston_airbnb_calendar_normalized_df = boston_airbnb_calendar_df.copy()"
      ],
      "metadata": {
        "id": "fPMRsBM3Znus"
      },
      "execution_count": 72,
      "outputs": []
    },
    {
      "cell_type": "code",
      "source": [
        "# Price column normalization\n",
        "price_normalized = [x if pd.isna(x) else x[1:].replace(',', '') for x in boston_airbnb_calendar_df['price']]\n",
        "boston_airbnb_calendar_normalized_df['price_normalized'] = price_normalized\n",
        "boston_airbnb_calendar_normalized_df['price_normalized'] = boston_airbnb_calendar_normalized_df['price_normalized'].astype(float)\n",
        "\n",
        "\n",
        "# Available column normalization\n",
        "available_normalized = [True if x == 't' else False for x in boston_airbnb_calendar_df['available']]\n",
        "boston_airbnb_calendar_normalized_df['available_normalized'] = available_normalized\n",
        "\n",
        "# date column normalization\n",
        "boston_airbnb_calendar_normalized_df['date_normalized'] = pd.to_datetime(boston_airbnb_calendar_normalized_df['date'])\n"
      ],
      "metadata": {
        "id": "K6HfCQmPZnDk"
      },
      "execution_count": 73,
      "outputs": []
    },
    {
      "cell_type": "markdown",
      "source": [
        "### Creation of date time columns"
      ],
      "metadata": {
        "id": "NBOtr7FMaBeK"
      }
    },
    {
      "cell_type": "code",
      "source": [
        "# Creation of a month-year column\n",
        "month_year = [x[:7] for x in boston_airbnb_calendar_df['date']]\n",
        "boston_airbnb_calendar_normalized_df['month_year'] = month_year\n",
        "boston_airbnb_calendar_normalized_df['month_year'] = pd.to_datetime(boston_airbnb_calendar_normalized_df['month_year'], format='%Y-%m')"
      ],
      "metadata": {
        "id": "zwLMDQ18Z-HR"
      },
      "execution_count": 74,
      "outputs": []
    },
    {
      "cell_type": "code",
      "source": [
        "boston_airbnb_calendar_normalized_df.dtypes"
      ],
      "metadata": {
        "colab": {
          "base_uri": "https://localhost:8080/"
        },
        "id": "7b6283F8aLco",
        "outputId": "11822278-a876-49bd-e68e-c3fd306cda80"
      },
      "execution_count": 40,
      "outputs": [
        {
          "output_type": "execute_result",
          "data": {
            "text/plain": [
              "listing_id                       int64\n",
              "date                            object\n",
              "available                       object\n",
              "price                           object\n",
              "price_normalized               float64\n",
              "available_normalized              bool\n",
              "date_normalized         datetime64[ns]\n",
              "month_year              datetime64[ns]\n",
              "dtype: object"
            ]
          },
          "metadata": {},
          "execution_count": 40
        }
      ]
    },
    {
      "cell_type": "markdown",
      "source": [
        "## Data modelling"
      ],
      "metadata": {
        "id": "dCXmjtNEaTAf"
      }
    },
    {
      "cell_type": "code",
      "source": [
        "api_key = \"YOUR-API-KEY-HERE\"\n",
        "openai.api_key = api_key"
      ],
      "metadata": {
        "id": "WdBxO4vypNef"
      },
      "execution_count": null,
      "outputs": []
    },
    {
      "cell_type": "markdown",
      "source": [
        "We leverage the power of LLM for generating the vibe of each neighborhood from the descriptions. The steps that we will take follow and standard RAG pattern:\n",
        "\n",
        "  - Generate the embeddings for the descriptions of the neighborhood and sotre it in a vector database\n",
        "  - For each question about the neighboord`s vibe, retrieve the most relevant context\n",
        "  - Generate an appropiate prompt and let LLM resolve the question with the provided context"
      ],
      "metadata": {
        "id": "lSihhXVM8zxV"
      }
    },
    {
      "cell_type": "code",
      "source": [
        "api_key = \"YOUR-API-KEY-HERE\"\n",
        "openai.api_key = api_key"
      ],
      "metadata": {
        "id": "jDqOP58hcHKT"
      },
      "execution_count": null,
      "outputs": []
    },
    {
      "cell_type": "markdown",
      "source": [
        "Here are the auxiliar functions that will be used in this section:"
      ],
      "metadata": {
        "id": "I0Ot0c43cLS_"
      }
    },
    {
      "cell_type": "code",
      "source": [
        "def generate_embeddings(MODEL_NAME, data):\n",
        "  \"\"\"\n",
        "\n",
        "  Args:\n",
        "    MODEL_NAME: LLM model used to generate the embeddings\n",
        "    data: List of string from which to abtain the embeddgins\n",
        "\n",
        "  Returns:\n",
        "\n",
        "  \"\"\"\n",
        "\n",
        "\n",
        "  model = SentenceTransformer(MODEL_NAME)\n",
        "  embeddings = model.encode(data)\n",
        "  return embeddings"
      ],
      "metadata": {
        "id": "ya2ddvzRcQFd"
      },
      "execution_count": null,
      "outputs": []
    },
    {
      "cell_type": "code",
      "source": [
        "def create_table_to_database(table_name, table_schema, db_instance):\n",
        "  \"\"\"\n",
        "\n",
        "  Args:\n",
        "    table_name: table name for the table to be created\n",
        "    table_schema: table schema for the table to be created\n",
        "    db_instance: db instance on whoch we crate the table\n",
        "  \"\"\"\n",
        "  db_instance.drop_table(table_name, ignore_missing=True)\n",
        "  table = db_instance.create_table(table_name, schema=table_schema)\n",
        "  return table"
      ],
      "metadata": {
        "id": "UkHccNJgcTfv"
      },
      "execution_count": null,
      "outputs": []
    },
    {
      "cell_type": "code",
      "source": [
        "def get_prompt_neighbourhood_vibe(vibe_question, neighborhood_descriptions, max_tokens=4096):\n",
        "  \"\"\"\n",
        "\n",
        "  Args:\n",
        "    vibe_question: a formulation for the vibe of the neighborhood\n",
        "    neighborhhod: neighborhood name\n",
        "    max_tokens: maximum number of tokens allowed for the propmt.\n",
        "  \"\"\"\n",
        "\n",
        "  propmt = \"\"\"\n",
        "\n",
        "  Given the context provided below, generate a description for the vibe of the neighborhood.\n",
        "  The information about the neighborhoud must be extracted from the context and it is not allowed to include any information that does not appear in the context.\n",
        "\n",
        "  Context: {}\n",
        "\n",
        "\n",
        "  question: {}\n",
        "  Neighborhood description:\n",
        "\n",
        "  \"\"\"\n",
        "\n",
        "  tokenizer = tiktoken.get_encoding('cl100k_base')\n",
        "  current_number_tokens = len(tokenizer.encode(vibe_question)) + len(tokenizer.encode(propmt))\n",
        "  l_context = []\n",
        "\n",
        "  # Construct the string in a format suitable for the prompt template\n",
        "\n",
        "  for text in neighborhood_descriptions:\n",
        "    current_number_tokens += len(tokenizer.encode(text))\n",
        "    if current_number_tokens <= max_tokens:\n",
        "      l_context.append(text)\n",
        "    else:\n",
        "      break\n",
        "\n",
        "  context = '\\n\\n###\\n\\n'.join(l_context)\n",
        "\n",
        "  return propmt.format(context, vibe_question)"
      ],
      "metadata": {
        "id": "8ko448CvcWqk"
      },
      "execution_count": null,
      "outputs": []
    },
    {
      "cell_type": "code",
      "source": [
        "def generate_answer(prompt_template, max_tokens=2024):\n",
        "    \"\"\"\n",
        "\n",
        "    Args:\n",
        "      prompt_template: prompt template to be sent via API to OpenAI\n",
        "      max_tokens: maximum number of tokens allowed for the propmt.\n",
        "\n",
        "    Returns:\n",
        "\n",
        "    \"\"\"\n",
        "    try:\n",
        "        # Calling the OpenAI API with a system message and our prompt in the user message content\n",
        "        # Use openai.ChatCompletion.create for openai < 1.0\n",
        "        # openai.chat.completions.create for openai > 1.0\n",
        "        response = openai.ChatCompletion.create(\n",
        "          model=\"gpt-3.5-turbo\",\n",
        "          messages=[\n",
        "          {\n",
        "            \"role\": \"user\",\n",
        "            \"content\": prompt_template\n",
        "          }\n",
        "          ],\n",
        "        temperature=1,\n",
        "        max_tokens=max_tokens,\n",
        "        top_p=1,\n",
        "        frequency_penalty=0,\n",
        "        presence_penalty=0\n",
        "        )\n",
        "        # The response is a JSON object containing more information than the generated review. We want to return only the message content\n",
        "        return response.choices[0].message.content\n",
        "    except Exception as e:\n",
        "        return f\"An error occurred: {e}\""
      ],
      "metadata": {
        "id": "ntI3Xt5ecZ9K"
      },
      "execution_count": null,
      "outputs": []
    },
    {
      "cell_type": "code",
      "source": [
        "def generate_neighborhood_vibes(neighboods, neighbood_descriptions, neighborhood_table, max_tokens = 1000):\n",
        "  \"\"\"\n",
        "\n",
        "  Args:\n",
        "    neighboods: set of neighborhoods\n",
        "    neighbood_descriptions: list of neighborhood descriptions\n",
        "    neighborhood_table: neghborhood data base table\n",
        "    max_tokens: max tokens allowed for the propmt\n",
        "  \"\"\"\n",
        "\n",
        "  responses = []\n",
        "  for neighborhood in neighboods:\n",
        "    question = 'Which is the vibe for the {} neighborhood?'\n",
        "    question = question.format(neighborhood)\n",
        "\n",
        "    # generate embedding for the question\n",
        "    question_embedding = generate_embeddings(MODEL_NAME, [question])[0]\n",
        "\n",
        "\n",
        "    # prompt generation\n",
        "    filter = \"neighborhood == '{}'\".format(neighborhood)\n",
        "    top_k_best = neighborhood_table.search(question_embedding).where(filter).metric('cosine').limit(1000000).to_pandas()\n",
        "    neighborhood_descriptions = list(top_k_best['description'])\n",
        "\n",
        "    prompt = get_prompt_neighbourhood_vibe(question, neighborhood_descriptions, max_tokens=max_tokens)\n",
        "\n",
        "\n",
        "    # Call to OpenAI in order to get the response\n",
        "    answer = generate_answer(prompt, max_tokens=max_tokens)\n",
        "    responses.append((neighborhood, answer))\n",
        "  return responses"
      ],
      "metadata": {
        "id": "8NLiKykPcgZg"
      },
      "execution_count": null,
      "outputs": []
    },
    {
      "cell_type": "markdown",
      "source": [
        "### Generation of the vector database\n"
      ],
      "metadata": {
        "id": "0GPgifpQ9wOH"
      }
    },
    {
      "cell_type": "code",
      "source": [
        "# Creation of the database\n",
        "db = lancedb.connect('~/.lancedb')"
      ],
      "metadata": {
        "id": "X3a24z1_WIom"
      },
      "execution_count": null,
      "outputs": []
    },
    {
      "cell_type": "code",
      "source": [
        "# Creation of the table\n",
        "table_name = 'neighborhood_description'\n",
        "\n",
        "# Creation of the schema for the table\n",
        "class NeighborhoodOverview(LanceModel):\n",
        "  vector: vector(384)\n",
        "  neighborhood:str\n",
        "  description: str\n",
        "\n",
        "neighborhood_table = create_table_to_database(table_name, NeighborhoodOverview, db)"
      ],
      "metadata": {
        "id": "7A41ZVRiWanl"
      },
      "execution_count": null,
      "outputs": []
    },
    {
      "cell_type": "code",
      "source": [
        "# Create data to populate the database\n",
        "neighbood_descriptions = list(listing_df[listing_df['neighborhood_overview'].notnull()]['neighborhood_overview'])\n",
        "neighboods = list(listing_df[listing_df['neighborhood_overview'].notnull()]['neighbourhood_cleansed'])\n"
      ],
      "metadata": {
        "id": "7Rsdji8RXQRr"
      },
      "execution_count": 44,
      "outputs": []
    },
    {
      "cell_type": "code",
      "source": [
        "# Generation of the embeddings\n",
        "MODEL_NAME = 'paraphrase-MiniLM-L6-v2'\n",
        "embeddings = generate_embeddings(MODEL_NAME, neighbood_descriptions)"
      ],
      "metadata": {
        "id": "ySIbSjKMZVfV"
      },
      "execution_count": null,
      "outputs": []
    },
    {
      "cell_type": "code",
      "source": [
        "# Creation of a list in order to poputale the negihborhood table data base\n",
        "neighborhoodinfo = []\n",
        "for neighborhood_desc, neighborhhood, embedding in zip(neighbood_descriptions, neighboods, list(embeddings)):\n",
        "  neighborhoodinfo.append(NeighborhoodOverview(\n",
        "      vector=embedding,\n",
        "      neighborhood=neighborhhood,\n",
        "      description=neighborhood_desc\n",
        "    )\n",
        "  )"
      ],
      "metadata": {
        "id": "NZTbvF6qZIzT"
      },
      "execution_count": null,
      "outputs": []
    },
    {
      "cell_type": "code",
      "source": [
        "# Populate the database table\n",
        "neighborhood_table.add(neighborhoodinfo)"
      ],
      "metadata": {
        "id": "e9ETw3K8CyI7"
      },
      "execution_count": null,
      "outputs": []
    },
    {
      "cell_type": "markdown",
      "source": [
        "### Generation of the vibes description for the neighborhoods"
      ],
      "metadata": {
        "id": "HoesmA82coqQ"
      }
    },
    {
      "cell_type": "code",
      "source": [
        "### BLOCK COMMENTED TO AVOID UNNECESARY CALL TO OPENAI API, INCURRING IN AN EXTRA COST ###\n",
        "\n",
        "\n",
        "# Call to OpenAI to generate the vibes from the neighborhood descriptions, using prompt engineering techniques\n",
        "\n",
        "#neighborhood_vibes = generate_neighborhood_vibes(neighboods, neighbood_descriptions, neighborhood_table)\n",
        "\n",
        "# Creation of a dataframe to store the results\n",
        "\n",
        "#t_neighborhoods = []\n",
        "#t_neighborhood_vibes = []\n",
        "#for t in neighborhood_vibes:\n",
        "#  t_neighborhoods.append(t[0])\n",
        "#  t_neighborhood_vibes.append(t[1])\n",
        "\n",
        "\n",
        "#neighborhood_vibes_df = pd.DataFrame()\n",
        "#neighborhood_vibes_df['neighborhood'] = t_neighborhoods\n",
        "#neighborhood_vibes_df['neighborhood_vibe'] = t_neighborhood_vibes\n",
        "\n",
        "# Persistence of the results to avoid unnecesary calls to Opean AI API\n",
        "\n",
        "#neighborhood_vibes_df.to_csv('neighborhood_vibes.csv', index=False)"
      ],
      "metadata": {
        "id": "bYdjR-jwqEv-"
      },
      "execution_count": null,
      "outputs": []
    },
    {
      "cell_type": "markdown",
      "source": [
        "### Question 2"
      ],
      "metadata": {
        "id": "45f_bCM4Z4mD"
      }
    },
    {
      "cell_type": "markdown",
      "source": [
        "In this section we will create two temporal series in a month-year basis, representing:\n",
        "\n",
        "  - the percentage of availability for the listings\n",
        "  - The average price of listings\n",
        "\n",
        "\n",
        "The idea is to study the two series in order to see the relationship between them, if any."
      ],
      "metadata": {
        "id": "cYUogkL9dAi1"
      }
    },
    {
      "cell_type": "code",
      "source": [
        "# Block of calculations for the time series\n",
        "t_df_boston_my = boston_airbnb_calendar_normalized_df.groupby(['month_year']).size().reset_index(name=\"total_count\")\n",
        "t_df_boston_mya = boston_airbnb_calendar_normalized_df.groupby(['month_year', 'available_normalized']).size().reset_index(name=\"count\")\n",
        "t_df_boston_available = pd.merge(t_df_boston_my, t_df_boston_mya, on='month_year', how='inner')\n",
        "t_df_boston_available['availability_perc'] = t_df_boston_available['count'] / t_df_boston_available['total_count']\n",
        "t_df_boston_available = t_df_boston_available[t_df_boston_available['available_normalized'] == True]\n",
        "\n",
        "t_df_boton_price = boston_airbnb_calendar_normalized_df[boston_airbnb_calendar_normalized_df['available_normalized'] == True].groupby(['month_year'])['price_normalized'].sum().reset_index(name=\"total_price\")\n",
        "\n",
        "q1_time_series_df = pd.merge(t_df_boston_available, t_df_boton_price, on='month_year', how='inner')\n",
        "q1_time_series_df['avg_price'] = q1_time_series_df['total_price'] / q1_time_series_df['count']\n",
        "q1_time_series_df.set_index('month_year', inplace=True)\n",
        "\n",
        "# Remove data from temporal datasets\n",
        "t_df_boston_my[0:0]\n",
        "t_df_boston_mya[0:0]\n",
        "t_df_boston_available[0:0]\n",
        "t_df_boton_price[0:0]"
      ],
      "metadata": {
        "colab": {
          "base_uri": "https://localhost:8080/",
          "height": 53
        },
        "id": "B4dn-ZjKxeFd",
        "outputId": "1bf030f2-d4d2-4439-d9f4-02c24f52fe30"
      },
      "execution_count": 49,
      "outputs": [
        {
          "output_type": "execute_result",
          "data": {
            "text/plain": [
              "Empty DataFrame\n",
              "Columns: [month_year, total_price]\n",
              "Index: []"
            ],
            "text/html": [
              "\n",
              "  <div id=\"df-aa6849d0-4625-4569-8a49-b6cd252688bc\" class=\"colab-df-container\">\n",
              "    <div>\n",
              "<style scoped>\n",
              "    .dataframe tbody tr th:only-of-type {\n",
              "        vertical-align: middle;\n",
              "    }\n",
              "\n",
              "    .dataframe tbody tr th {\n",
              "        vertical-align: top;\n",
              "    }\n",
              "\n",
              "    .dataframe thead th {\n",
              "        text-align: right;\n",
              "    }\n",
              "</style>\n",
              "<table border=\"1\" class=\"dataframe\">\n",
              "  <thead>\n",
              "    <tr style=\"text-align: right;\">\n",
              "      <th></th>\n",
              "      <th>month_year</th>\n",
              "      <th>total_price</th>\n",
              "    </tr>\n",
              "  </thead>\n",
              "  <tbody>\n",
              "  </tbody>\n",
              "</table>\n",
              "</div>\n",
              "    <div class=\"colab-df-buttons\">\n",
              "\n",
              "  <div class=\"colab-df-container\">\n",
              "    <button class=\"colab-df-convert\" onclick=\"convertToInteractive('df-aa6849d0-4625-4569-8a49-b6cd252688bc')\"\n",
              "            title=\"Convert this dataframe to an interactive table.\"\n",
              "            style=\"display:none;\">\n",
              "\n",
              "  <svg xmlns=\"http://www.w3.org/2000/svg\" height=\"24px\" viewBox=\"0 -960 960 960\">\n",
              "    <path d=\"M120-120v-720h720v720H120Zm60-500h600v-160H180v160Zm220 220h160v-160H400v160Zm0 220h160v-160H400v160ZM180-400h160v-160H180v160Zm440 0h160v-160H620v160ZM180-180h160v-160H180v160Zm440 0h160v-160H620v160Z\"/>\n",
              "  </svg>\n",
              "    </button>\n",
              "\n",
              "  <style>\n",
              "    .colab-df-container {\n",
              "      display:flex;\n",
              "      gap: 12px;\n",
              "    }\n",
              "\n",
              "    .colab-df-convert {\n",
              "      background-color: #E8F0FE;\n",
              "      border: none;\n",
              "      border-radius: 50%;\n",
              "      cursor: pointer;\n",
              "      display: none;\n",
              "      fill: #1967D2;\n",
              "      height: 32px;\n",
              "      padding: 0 0 0 0;\n",
              "      width: 32px;\n",
              "    }\n",
              "\n",
              "    .colab-df-convert:hover {\n",
              "      background-color: #E2EBFA;\n",
              "      box-shadow: 0px 1px 2px rgba(60, 64, 67, 0.3), 0px 1px 3px 1px rgba(60, 64, 67, 0.15);\n",
              "      fill: #174EA6;\n",
              "    }\n",
              "\n",
              "    .colab-df-buttons div {\n",
              "      margin-bottom: 4px;\n",
              "    }\n",
              "\n",
              "    [theme=dark] .colab-df-convert {\n",
              "      background-color: #3B4455;\n",
              "      fill: #D2E3FC;\n",
              "    }\n",
              "\n",
              "    [theme=dark] .colab-df-convert:hover {\n",
              "      background-color: #434B5C;\n",
              "      box-shadow: 0px 1px 3px 1px rgba(0, 0, 0, 0.15);\n",
              "      filter: drop-shadow(0px 1px 2px rgba(0, 0, 0, 0.3));\n",
              "      fill: #FFFFFF;\n",
              "    }\n",
              "  </style>\n",
              "\n",
              "    <script>\n",
              "      const buttonEl =\n",
              "        document.querySelector('#df-aa6849d0-4625-4569-8a49-b6cd252688bc button.colab-df-convert');\n",
              "      buttonEl.style.display =\n",
              "        google.colab.kernel.accessAllowed ? 'block' : 'none';\n",
              "\n",
              "      async function convertToInteractive(key) {\n",
              "        const element = document.querySelector('#df-aa6849d0-4625-4569-8a49-b6cd252688bc');\n",
              "        const dataTable =\n",
              "          await google.colab.kernel.invokeFunction('convertToInteractive',\n",
              "                                                    [key], {});\n",
              "        if (!dataTable) return;\n",
              "\n",
              "        const docLinkHtml = 'Like what you see? Visit the ' +\n",
              "          '<a target=\"_blank\" href=https://colab.research.google.com/notebooks/data_table.ipynb>data table notebook</a>'\n",
              "          + ' to learn more about interactive tables.';\n",
              "        element.innerHTML = '';\n",
              "        dataTable['output_type'] = 'display_data';\n",
              "        await google.colab.output.renderOutput(dataTable, element);\n",
              "        const docLink = document.createElement('div');\n",
              "        docLink.innerHTML = docLinkHtml;\n",
              "        element.appendChild(docLink);\n",
              "      }\n",
              "    </script>\n",
              "  </div>\n",
              "\n",
              "    </div>\n",
              "  </div>\n"
            ],
            "application/vnd.google.colaboratory.intrinsic+json": {
              "type": "dataframe",
              "summary": "{\n  \"name\": \"t_df_boton_price[0:0]\",\n  \"rows\": 0,\n  \"fields\": [\n    {\n      \"column\": \"month_year\",\n      \"properties\": {\n        \"dtype\": \"date\",\n        \"min\": \"NaT\",\n        \"max\": \"NaT\",\n        \"num_unique_values\": 0,\n        \"samples\": [],\n        \"semantic_type\": \"\",\n        \"description\": \"\"\n      }\n    },\n    {\n      \"column\": \"total_price\",\n      \"properties\": {\n        \"dtype\": \"number\",\n        \"std\": null,\n        \"min\": null,\n        \"max\": null,\n        \"num_unique_values\": 0,\n        \"samples\": [],\n        \"semantic_type\": \"\",\n        \"description\": \"\"\n      }\n    }\n  ]\n}"
            }
          },
          "metadata": {},
          "execution_count": 49
        }
      ]
    },
    {
      "cell_type": "markdown",
      "source": [
        "The busiest times are from april to september, and the prices spikes in a range from 15 - 70 dollars, depending on the availavitity."
      ],
      "metadata": {
        "id": "9sxHLhVHxDpd"
      }
    },
    {
      "cell_type": "markdown",
      "source": [
        "### question 3"
      ],
      "metadata": {
        "id": "LxlmR9ZOzPs1"
      }
    },
    {
      "cell_type": "markdown",
      "source": [
        "In this sections, we will leverage the k-means model to create calculate the group of each listing."
      ],
      "metadata": {
        "id": "UtSrgjwAft7O"
      }
    },
    {
      "cell_type": "code",
      "source": [
        "listing_characteristics = listing_df[['property_type', 'room_type', 'accommodates', 'bathrooms', 'bedrooms', 'beds', 'bed_type']].copy()"
      ],
      "metadata": {
        "id": "7AwmqpSlnybW"
      },
      "execution_count": 52,
      "outputs": []
    },
    {
      "cell_type": "code",
      "source": [
        "listing_chracteristics_norm = pd.get_dummies(listing_characteristics, columns=['property_type', 'room_type', 'bed_type'])"
      ],
      "metadata": {
        "id": "7y1a9k3Ieg2v"
      },
      "execution_count": 53,
      "outputs": []
    },
    {
      "cell_type": "code",
      "source": [
        "scaler = preprocessing.MinMaxScaler()\n",
        "listing_chracteristics_norm[['accommodates', 'bathrooms', 'bedrooms', 'beds']] = scaler.fit_transform(listing_chracteristics_norm[['accommodates', 'bathrooms', 'bedrooms', 'beds']])"
      ],
      "metadata": {
        "id": "aeMdJXElYsOg"
      },
      "execution_count": 54,
      "outputs": []
    },
    {
      "cell_type": "code",
      "source": [
        "listing_chracteristics_norm.head()"
      ],
      "metadata": {
        "colab": {
          "base_uri": "https://localhost:8080/",
          "height": 273
        },
        "id": "pDE6jiG1YxU_",
        "outputId": "ccfc285c-fcdc-4d9c-ee1b-db2956bc7b93"
      },
      "execution_count": 55,
      "outputs": [
        {
          "output_type": "execute_result",
          "data": {
            "text/plain": [
              "   accommodates  bathrooms  bedrooms    beds  property_type_Apartment  \\\n",
              "0      0.200000   0.250000       0.4  0.1875                    False   \n",
              "1      0.066667   0.166667       0.2  0.0625                     True   \n",
              "2      0.066667   0.166667       0.2  0.0625                     True   \n",
              "3      0.200000   0.166667       0.2  0.1250                    False   \n",
              "4      0.066667   0.250000       0.2  0.1250                    False   \n",
              "\n",
              "   property_type_Bed & Breakfast  property_type_Boat  property_type_Camper/RV  \\\n",
              "0                          False               False                    False   \n",
              "1                          False               False                    False   \n",
              "2                          False               False                    False   \n",
              "3                          False               False                    False   \n",
              "4                          False               False                    False   \n",
              "\n",
              "   property_type_Condominium  property_type_Dorm  ...  \\\n",
              "0                      False               False  ...   \n",
              "1                      False               False  ...   \n",
              "2                      False               False  ...   \n",
              "3                      False               False  ...   \n",
              "4                      False               False  ...   \n",
              "\n",
              "   property_type_Townhouse  property_type_Villa  room_type_Entire home/apt  \\\n",
              "0                    False                False                       True   \n",
              "1                    False                False                      False   \n",
              "2                    False                False                      False   \n",
              "3                    False                False                      False   \n",
              "4                    False                False                      False   \n",
              "\n",
              "   room_type_Private room  room_type_Shared room  bed_type_Airbed  \\\n",
              "0                   False                  False            False   \n",
              "1                    True                  False            False   \n",
              "2                    True                  False            False   \n",
              "3                    True                  False            False   \n",
              "4                    True                  False            False   \n",
              "\n",
              "   bed_type_Couch  bed_type_Futon  bed_type_Pull-out Sofa  bed_type_Real Bed  \n",
              "0           False           False                   False               True  \n",
              "1           False           False                   False               True  \n",
              "2           False           False                   False               True  \n",
              "3           False           False                   False               True  \n",
              "4           False           False                   False               True  \n",
              "\n",
              "[5 rows x 25 columns]"
            ],
            "text/html": [
              "\n",
              "  <div id=\"df-f4050373-b6f4-445b-9797-b12364730835\" class=\"colab-df-container\">\n",
              "    <div>\n",
              "<style scoped>\n",
              "    .dataframe tbody tr th:only-of-type {\n",
              "        vertical-align: middle;\n",
              "    }\n",
              "\n",
              "    .dataframe tbody tr th {\n",
              "        vertical-align: top;\n",
              "    }\n",
              "\n",
              "    .dataframe thead th {\n",
              "        text-align: right;\n",
              "    }\n",
              "</style>\n",
              "<table border=\"1\" class=\"dataframe\">\n",
              "  <thead>\n",
              "    <tr style=\"text-align: right;\">\n",
              "      <th></th>\n",
              "      <th>accommodates</th>\n",
              "      <th>bathrooms</th>\n",
              "      <th>bedrooms</th>\n",
              "      <th>beds</th>\n",
              "      <th>property_type_Apartment</th>\n",
              "      <th>property_type_Bed &amp; Breakfast</th>\n",
              "      <th>property_type_Boat</th>\n",
              "      <th>property_type_Camper/RV</th>\n",
              "      <th>property_type_Condominium</th>\n",
              "      <th>property_type_Dorm</th>\n",
              "      <th>...</th>\n",
              "      <th>property_type_Townhouse</th>\n",
              "      <th>property_type_Villa</th>\n",
              "      <th>room_type_Entire home/apt</th>\n",
              "      <th>room_type_Private room</th>\n",
              "      <th>room_type_Shared room</th>\n",
              "      <th>bed_type_Airbed</th>\n",
              "      <th>bed_type_Couch</th>\n",
              "      <th>bed_type_Futon</th>\n",
              "      <th>bed_type_Pull-out Sofa</th>\n",
              "      <th>bed_type_Real Bed</th>\n",
              "    </tr>\n",
              "  </thead>\n",
              "  <tbody>\n",
              "    <tr>\n",
              "      <th>0</th>\n",
              "      <td>0.200000</td>\n",
              "      <td>0.250000</td>\n",
              "      <td>0.4</td>\n",
              "      <td>0.1875</td>\n",
              "      <td>False</td>\n",
              "      <td>False</td>\n",
              "      <td>False</td>\n",
              "      <td>False</td>\n",
              "      <td>False</td>\n",
              "      <td>False</td>\n",
              "      <td>...</td>\n",
              "      <td>False</td>\n",
              "      <td>False</td>\n",
              "      <td>True</td>\n",
              "      <td>False</td>\n",
              "      <td>False</td>\n",
              "      <td>False</td>\n",
              "      <td>False</td>\n",
              "      <td>False</td>\n",
              "      <td>False</td>\n",
              "      <td>True</td>\n",
              "    </tr>\n",
              "    <tr>\n",
              "      <th>1</th>\n",
              "      <td>0.066667</td>\n",
              "      <td>0.166667</td>\n",
              "      <td>0.2</td>\n",
              "      <td>0.0625</td>\n",
              "      <td>True</td>\n",
              "      <td>False</td>\n",
              "      <td>False</td>\n",
              "      <td>False</td>\n",
              "      <td>False</td>\n",
              "      <td>False</td>\n",
              "      <td>...</td>\n",
              "      <td>False</td>\n",
              "      <td>False</td>\n",
              "      <td>False</td>\n",
              "      <td>True</td>\n",
              "      <td>False</td>\n",
              "      <td>False</td>\n",
              "      <td>False</td>\n",
              "      <td>False</td>\n",
              "      <td>False</td>\n",
              "      <td>True</td>\n",
              "    </tr>\n",
              "    <tr>\n",
              "      <th>2</th>\n",
              "      <td>0.066667</td>\n",
              "      <td>0.166667</td>\n",
              "      <td>0.2</td>\n",
              "      <td>0.0625</td>\n",
              "      <td>True</td>\n",
              "      <td>False</td>\n",
              "      <td>False</td>\n",
              "      <td>False</td>\n",
              "      <td>False</td>\n",
              "      <td>False</td>\n",
              "      <td>...</td>\n",
              "      <td>False</td>\n",
              "      <td>False</td>\n",
              "      <td>False</td>\n",
              "      <td>True</td>\n",
              "      <td>False</td>\n",
              "      <td>False</td>\n",
              "      <td>False</td>\n",
              "      <td>False</td>\n",
              "      <td>False</td>\n",
              "      <td>True</td>\n",
              "    </tr>\n",
              "    <tr>\n",
              "      <th>3</th>\n",
              "      <td>0.200000</td>\n",
              "      <td>0.166667</td>\n",
              "      <td>0.2</td>\n",
              "      <td>0.1250</td>\n",
              "      <td>False</td>\n",
              "      <td>False</td>\n",
              "      <td>False</td>\n",
              "      <td>False</td>\n",
              "      <td>False</td>\n",
              "      <td>False</td>\n",
              "      <td>...</td>\n",
              "      <td>False</td>\n",
              "      <td>False</td>\n",
              "      <td>False</td>\n",
              "      <td>True</td>\n",
              "      <td>False</td>\n",
              "      <td>False</td>\n",
              "      <td>False</td>\n",
              "      <td>False</td>\n",
              "      <td>False</td>\n",
              "      <td>True</td>\n",
              "    </tr>\n",
              "    <tr>\n",
              "      <th>4</th>\n",
              "      <td>0.066667</td>\n",
              "      <td>0.250000</td>\n",
              "      <td>0.2</td>\n",
              "      <td>0.1250</td>\n",
              "      <td>False</td>\n",
              "      <td>False</td>\n",
              "      <td>False</td>\n",
              "      <td>False</td>\n",
              "      <td>False</td>\n",
              "      <td>False</td>\n",
              "      <td>...</td>\n",
              "      <td>False</td>\n",
              "      <td>False</td>\n",
              "      <td>False</td>\n",
              "      <td>True</td>\n",
              "      <td>False</td>\n",
              "      <td>False</td>\n",
              "      <td>False</td>\n",
              "      <td>False</td>\n",
              "      <td>False</td>\n",
              "      <td>True</td>\n",
              "    </tr>\n",
              "  </tbody>\n",
              "</table>\n",
              "<p>5 rows × 25 columns</p>\n",
              "</div>\n",
              "    <div class=\"colab-df-buttons\">\n",
              "\n",
              "  <div class=\"colab-df-container\">\n",
              "    <button class=\"colab-df-convert\" onclick=\"convertToInteractive('df-f4050373-b6f4-445b-9797-b12364730835')\"\n",
              "            title=\"Convert this dataframe to an interactive table.\"\n",
              "            style=\"display:none;\">\n",
              "\n",
              "  <svg xmlns=\"http://www.w3.org/2000/svg\" height=\"24px\" viewBox=\"0 -960 960 960\">\n",
              "    <path d=\"M120-120v-720h720v720H120Zm60-500h600v-160H180v160Zm220 220h160v-160H400v160Zm0 220h160v-160H400v160ZM180-400h160v-160H180v160Zm440 0h160v-160H620v160ZM180-180h160v-160H180v160Zm440 0h160v-160H620v160Z\"/>\n",
              "  </svg>\n",
              "    </button>\n",
              "\n",
              "  <style>\n",
              "    .colab-df-container {\n",
              "      display:flex;\n",
              "      gap: 12px;\n",
              "    }\n",
              "\n",
              "    .colab-df-convert {\n",
              "      background-color: #E8F0FE;\n",
              "      border: none;\n",
              "      border-radius: 50%;\n",
              "      cursor: pointer;\n",
              "      display: none;\n",
              "      fill: #1967D2;\n",
              "      height: 32px;\n",
              "      padding: 0 0 0 0;\n",
              "      width: 32px;\n",
              "    }\n",
              "\n",
              "    .colab-df-convert:hover {\n",
              "      background-color: #E2EBFA;\n",
              "      box-shadow: 0px 1px 2px rgba(60, 64, 67, 0.3), 0px 1px 3px 1px rgba(60, 64, 67, 0.15);\n",
              "      fill: #174EA6;\n",
              "    }\n",
              "\n",
              "    .colab-df-buttons div {\n",
              "      margin-bottom: 4px;\n",
              "    }\n",
              "\n",
              "    [theme=dark] .colab-df-convert {\n",
              "      background-color: #3B4455;\n",
              "      fill: #D2E3FC;\n",
              "    }\n",
              "\n",
              "    [theme=dark] .colab-df-convert:hover {\n",
              "      background-color: #434B5C;\n",
              "      box-shadow: 0px 1px 3px 1px rgba(0, 0, 0, 0.15);\n",
              "      filter: drop-shadow(0px 1px 2px rgba(0, 0, 0, 0.3));\n",
              "      fill: #FFFFFF;\n",
              "    }\n",
              "  </style>\n",
              "\n",
              "    <script>\n",
              "      const buttonEl =\n",
              "        document.querySelector('#df-f4050373-b6f4-445b-9797-b12364730835 button.colab-df-convert');\n",
              "      buttonEl.style.display =\n",
              "        google.colab.kernel.accessAllowed ? 'block' : 'none';\n",
              "\n",
              "      async function convertToInteractive(key) {\n",
              "        const element = document.querySelector('#df-f4050373-b6f4-445b-9797-b12364730835');\n",
              "        const dataTable =\n",
              "          await google.colab.kernel.invokeFunction('convertToInteractive',\n",
              "                                                    [key], {});\n",
              "        if (!dataTable) return;\n",
              "\n",
              "        const docLinkHtml = 'Like what you see? Visit the ' +\n",
              "          '<a target=\"_blank\" href=https://colab.research.google.com/notebooks/data_table.ipynb>data table notebook</a>'\n",
              "          + ' to learn more about interactive tables.';\n",
              "        element.innerHTML = '';\n",
              "        dataTable['output_type'] = 'display_data';\n",
              "        await google.colab.output.renderOutput(dataTable, element);\n",
              "        const docLink = document.createElement('div');\n",
              "        docLink.innerHTML = docLinkHtml;\n",
              "        element.appendChild(docLink);\n",
              "      }\n",
              "    </script>\n",
              "  </div>\n",
              "\n",
              "\n",
              "<div id=\"df-493a143f-beb3-428f-b48b-ee33b78a3a1d\">\n",
              "  <button class=\"colab-df-quickchart\" onclick=\"quickchart('df-493a143f-beb3-428f-b48b-ee33b78a3a1d')\"\n",
              "            title=\"Suggest charts\"\n",
              "            style=\"display:none;\">\n",
              "\n",
              "<svg xmlns=\"http://www.w3.org/2000/svg\" height=\"24px\"viewBox=\"0 0 24 24\"\n",
              "     width=\"24px\">\n",
              "    <g>\n",
              "        <path d=\"M19 3H5c-1.1 0-2 .9-2 2v14c0 1.1.9 2 2 2h14c1.1 0 2-.9 2-2V5c0-1.1-.9-2-2-2zM9 17H7v-7h2v7zm4 0h-2V7h2v10zm4 0h-2v-4h2v4z\"/>\n",
              "    </g>\n",
              "</svg>\n",
              "  </button>\n",
              "\n",
              "<style>\n",
              "  .colab-df-quickchart {\n",
              "      --bg-color: #E8F0FE;\n",
              "      --fill-color: #1967D2;\n",
              "      --hover-bg-color: #E2EBFA;\n",
              "      --hover-fill-color: #174EA6;\n",
              "      --disabled-fill-color: #AAA;\n",
              "      --disabled-bg-color: #DDD;\n",
              "  }\n",
              "\n",
              "  [theme=dark] .colab-df-quickchart {\n",
              "      --bg-color: #3B4455;\n",
              "      --fill-color: #D2E3FC;\n",
              "      --hover-bg-color: #434B5C;\n",
              "      --hover-fill-color: #FFFFFF;\n",
              "      --disabled-bg-color: #3B4455;\n",
              "      --disabled-fill-color: #666;\n",
              "  }\n",
              "\n",
              "  .colab-df-quickchart {\n",
              "    background-color: var(--bg-color);\n",
              "    border: none;\n",
              "    border-radius: 50%;\n",
              "    cursor: pointer;\n",
              "    display: none;\n",
              "    fill: var(--fill-color);\n",
              "    height: 32px;\n",
              "    padding: 0;\n",
              "    width: 32px;\n",
              "  }\n",
              "\n",
              "  .colab-df-quickchart:hover {\n",
              "    background-color: var(--hover-bg-color);\n",
              "    box-shadow: 0 1px 2px rgba(60, 64, 67, 0.3), 0 1px 3px 1px rgba(60, 64, 67, 0.15);\n",
              "    fill: var(--button-hover-fill-color);\n",
              "  }\n",
              "\n",
              "  .colab-df-quickchart-complete:disabled,\n",
              "  .colab-df-quickchart-complete:disabled:hover {\n",
              "    background-color: var(--disabled-bg-color);\n",
              "    fill: var(--disabled-fill-color);\n",
              "    box-shadow: none;\n",
              "  }\n",
              "\n",
              "  .colab-df-spinner {\n",
              "    border: 2px solid var(--fill-color);\n",
              "    border-color: transparent;\n",
              "    border-bottom-color: var(--fill-color);\n",
              "    animation:\n",
              "      spin 1s steps(1) infinite;\n",
              "  }\n",
              "\n",
              "  @keyframes spin {\n",
              "    0% {\n",
              "      border-color: transparent;\n",
              "      border-bottom-color: var(--fill-color);\n",
              "      border-left-color: var(--fill-color);\n",
              "    }\n",
              "    20% {\n",
              "      border-color: transparent;\n",
              "      border-left-color: var(--fill-color);\n",
              "      border-top-color: var(--fill-color);\n",
              "    }\n",
              "    30% {\n",
              "      border-color: transparent;\n",
              "      border-left-color: var(--fill-color);\n",
              "      border-top-color: var(--fill-color);\n",
              "      border-right-color: var(--fill-color);\n",
              "    }\n",
              "    40% {\n",
              "      border-color: transparent;\n",
              "      border-right-color: var(--fill-color);\n",
              "      border-top-color: var(--fill-color);\n",
              "    }\n",
              "    60% {\n",
              "      border-color: transparent;\n",
              "      border-right-color: var(--fill-color);\n",
              "    }\n",
              "    80% {\n",
              "      border-color: transparent;\n",
              "      border-right-color: var(--fill-color);\n",
              "      border-bottom-color: var(--fill-color);\n",
              "    }\n",
              "    90% {\n",
              "      border-color: transparent;\n",
              "      border-bottom-color: var(--fill-color);\n",
              "    }\n",
              "  }\n",
              "</style>\n",
              "\n",
              "  <script>\n",
              "    async function quickchart(key) {\n",
              "      const quickchartButtonEl =\n",
              "        document.querySelector('#' + key + ' button');\n",
              "      quickchartButtonEl.disabled = true;  // To prevent multiple clicks.\n",
              "      quickchartButtonEl.classList.add('colab-df-spinner');\n",
              "      try {\n",
              "        const charts = await google.colab.kernel.invokeFunction(\n",
              "            'suggestCharts', [key], {});\n",
              "      } catch (error) {\n",
              "        console.error('Error during call to suggestCharts:', error);\n",
              "      }\n",
              "      quickchartButtonEl.classList.remove('colab-df-spinner');\n",
              "      quickchartButtonEl.classList.add('colab-df-quickchart-complete');\n",
              "    }\n",
              "    (() => {\n",
              "      let quickchartButtonEl =\n",
              "        document.querySelector('#df-493a143f-beb3-428f-b48b-ee33b78a3a1d button');\n",
              "      quickchartButtonEl.style.display =\n",
              "        google.colab.kernel.accessAllowed ? 'block' : 'none';\n",
              "    })();\n",
              "  </script>\n",
              "</div>\n",
              "    </div>\n",
              "  </div>\n"
            ],
            "application/vnd.google.colaboratory.intrinsic+json": {
              "type": "dataframe",
              "variable_name": "listing_chracteristics_norm"
            }
          },
          "metadata": {},
          "execution_count": 55
        }
      ]
    },
    {
      "cell_type": "code",
      "source": [
        "# Over a number of different cluster counts...\n",
        "scores = []\n",
        "centers = list(range(2,10))\n",
        "    # run k-means clustering on the data and...\n",
        "for center in centers:\n",
        "    print(\"Processing k means with n_clusters: {}\".format(center))\n",
        "    kmeans = KMeans(n_clusters=center, n_init=20)\n",
        "    model = kmeans.fit(listing_chracteristics_norm)\n",
        "    # compute the average within-cluster distances.\n",
        "    score = np.abs(model.score(listing_chracteristics_norm))\n",
        "    scores.append(score)"
      ],
      "metadata": {
        "colab": {
          "base_uri": "https://localhost:8080/"
        },
        "id": "MHaIQE2Xwmdh",
        "outputId": "ef1557da-2c69-4058-84c1-62ab86aaa878"
      },
      "execution_count": 56,
      "outputs": [
        {
          "output_type": "stream",
          "name": "stdout",
          "text": [
            "Processing k means with n_clusters: 2\n",
            "Processing k means with n_clusters: 3\n",
            "Processing k means with n_clusters: 4\n",
            "Processing k means with n_clusters: 5\n",
            "Processing k means with n_clusters: 6\n",
            "Processing k means with n_clusters: 7\n",
            "Processing k means with n_clusters: 8\n",
            "Processing k means with n_clusters: 9\n"
          ]
        }
      ]
    },
    {
      "cell_type": "code",
      "source": [
        "plt.plot(centers, scores, linestyle='--', marker='o', color='b');\n",
        "plt.xlabel('K');\n",
        "plt.ylabel('SSE');\n",
        "plt.title('SSE vs. K');"
      ],
      "metadata": {
        "colab": {
          "base_uri": "https://localhost:8080/",
          "height": 472
        },
        "id": "saSu-rFIzufc",
        "outputId": "b6aa5f60-88cf-4c82-f7fd-ca4830277027"
      },
      "execution_count": 57,
      "outputs": [
        {
          "output_type": "display_data",
          "data": {
            "text/plain": [
              "<Figure size 640x480 with 1 Axes>"
            ],
            "image/png": "[encoded data removed]"
          },
          "metadata": {}
        }
      ]
    },
    {
      "cell_type": "code",
      "source": [
        "# cluster predictions for the general population demographics data.\n",
        "selected_n_clusters = 4\n",
        "kmeans = KMeans(n_clusters=selected_n_clusters, n_init=20, random_state=999)\n",
        "model = kmeans.fit(listing_chracteristics_norm)\n",
        "kmeans_pred = model.predict(listing_chracteristics_norm)"
      ],
      "metadata": {
        "id": "Z-HTht3f1YOE"
      },
      "execution_count": 58,
      "outputs": []
    },
    {
      "cell_type": "code",
      "source": [
        "set(kmeans_pred)"
      ],
      "metadata": {
        "colab": {
          "base_uri": "https://localhost:8080/"
        },
        "id": "jX4rAm1ugMVy",
        "outputId": "dd7bf8c3-278d-4e15-cf80-94ced447639a"
      },
      "execution_count": 59,
      "outputs": [
        {
          "output_type": "execute_result",
          "data": {
            "text/plain": [
              "{0, 1, 2, 3}"
            ]
          },
          "metadata": {},
          "execution_count": 59
        }
      ]
    },
    {
      "cell_type": "code",
      "source": [
        "listing_characteristics['cluster'] = kmeans_pred"
      ],
      "metadata": {
        "id": "P_RehYRH2USs"
      },
      "execution_count": 60,
      "outputs": []
    },
    {
      "cell_type": "code",
      "source": [
        "listing_characteristics.head()"
      ],
      "metadata": {
        "colab": {
          "base_uri": "https://localhost:8080/",
          "height": 206
        },
        "id": "oPnBD_DE6g9X",
        "outputId": "a18cd3fc-bb43-4250-fd25-ed72b39a88fa"
      },
      "execution_count": 61,
      "outputs": [
        {
          "output_type": "execute_result",
          "data": {
            "text/plain": [
              "  property_type        room_type  accommodates  bathrooms  bedrooms  beds  \\\n",
              "0         House  Entire home/apt             4        1.5       2.0   3.0   \n",
              "1     Apartment     Private room             2        1.0       1.0   1.0   \n",
              "2     Apartment     Private room             2        1.0       1.0   1.0   \n",
              "3         House     Private room             4        1.0       1.0   2.0   \n",
              "4         House     Private room             2        1.5       1.0   2.0   \n",
              "\n",
              "   bed_type  cluster  \n",
              "0  Real Bed        3  \n",
              "1  Real Bed        1  \n",
              "2  Real Bed        1  \n",
              "3  Real Bed        2  \n",
              "4  Real Bed        2  "
            ],
            "text/html": [
              "\n",
              "  <div id=\"df-d7d02fd4-4503-4fae-bca9-eb33082f7620\" class=\"colab-df-container\">\n",
              "    <div>\n",
              "<style scoped>\n",
              "    .dataframe tbody tr th:only-of-type {\n",
              "        vertical-align: middle;\n",
              "    }\n",
              "\n",
              "    .dataframe tbody tr th {\n",
              "        vertical-align: top;\n",
              "    }\n",
              "\n",
              "    .dataframe thead th {\n",
              "        text-align: right;\n",
              "    }\n",
              "</style>\n",
              "<table border=\"1\" class=\"dataframe\">\n",
              "  <thead>\n",
              "    <tr style=\"text-align: right;\">\n",
              "      <th></th>\n",
              "      <th>property_type</th>\n",
              "      <th>room_type</th>\n",
              "      <th>accommodates</th>\n",
              "      <th>bathrooms</th>\n",
              "      <th>bedrooms</th>\n",
              "      <th>beds</th>\n",
              "      <th>bed_type</th>\n",
              "      <th>cluster</th>\n",
              "    </tr>\n",
              "  </thead>\n",
              "  <tbody>\n",
              "    <tr>\n",
              "      <th>0</th>\n",
              "      <td>House</td>\n",
              "      <td>Entire home/apt</td>\n",
              "      <td>4</td>\n",
              "      <td>1.5</td>\n",
              "      <td>2.0</td>\n",
              "      <td>3.0</td>\n",
              "      <td>Real Bed</td>\n",
              "      <td>3</td>\n",
              "    </tr>\n",
              "    <tr>\n",
              "      <th>1</th>\n",
              "      <td>Apartment</td>\n",
              "      <td>Private room</td>\n",
              "      <td>2</td>\n",
              "      <td>1.0</td>\n",
              "      <td>1.0</td>\n",
              "      <td>1.0</td>\n",
              "      <td>Real Bed</td>\n",
              "      <td>1</td>\n",
              "    </tr>\n",
              "    <tr>\n",
              "      <th>2</th>\n",
              "      <td>Apartment</td>\n",
              "      <td>Private room</td>\n",
              "      <td>2</td>\n",
              "      <td>1.0</td>\n",
              "      <td>1.0</td>\n",
              "      <td>1.0</td>\n",
              "      <td>Real Bed</td>\n",
              "      <td>1</td>\n",
              "    </tr>\n",
              "    <tr>\n",
              "      <th>3</th>\n",
              "      <td>House</td>\n",
              "      <td>Private room</td>\n",
              "      <td>4</td>\n",
              "      <td>1.0</td>\n",
              "      <td>1.0</td>\n",
              "      <td>2.0</td>\n",
              "      <td>Real Bed</td>\n",
              "      <td>2</td>\n",
              "    </tr>\n",
              "    <tr>\n",
              "      <th>4</th>\n",
              "      <td>House</td>\n",
              "      <td>Private room</td>\n",
              "      <td>2</td>\n",
              "      <td>1.5</td>\n",
              "      <td>1.0</td>\n",
              "      <td>2.0</td>\n",
              "      <td>Real Bed</td>\n",
              "      <td>2</td>\n",
              "    </tr>\n",
              "  </tbody>\n",
              "</table>\n",
              "</div>\n",
              "    <div class=\"colab-df-buttons\">\n",
              "\n",
              "  <div class=\"colab-df-container\">\n",
              "    <button class=\"colab-df-convert\" onclick=\"convertToInteractive('df-d7d02fd4-4503-4fae-bca9-eb33082f7620')\"\n",
              "            title=\"Convert this dataframe to an interactive table.\"\n",
              "            style=\"display:none;\">\n",
              "\n",
              "  <svg xmlns=\"http://www.w3.org/2000/svg\" height=\"24px\" viewBox=\"0 -960 960 960\">\n",
              "    <path d=\"M120-120v-720h720v720H120Zm60-500h600v-160H180v160Zm220 220h160v-160H400v160Zm0 220h160v-160H400v160ZM180-400h160v-160H180v160Zm440 0h160v-160H620v160ZM180-180h160v-160H180v160Zm440 0h160v-160H620v160Z\"/>\n",
              "  </svg>\n",
              "    </button>\n",
              "\n",
              "  <style>\n",
              "    .colab-df-container {\n",
              "      display:flex;\n",
              "      gap: 12px;\n",
              "    }\n",
              "\n",
              "    .colab-df-convert {\n",
              "      background-color: #E8F0FE;\n",
              "      border: none;\n",
              "      border-radius: 50%;\n",
              "      cursor: pointer;\n",
              "      display: none;\n",
              "      fill: #1967D2;\n",
              "      height: 32px;\n",
              "      padding: 0 0 0 0;\n",
              "      width: 32px;\n",
              "    }\n",
              "\n",
              "    .colab-df-convert:hover {\n",
              "      background-color: #E2EBFA;\n",
              "      box-shadow: 0px 1px 2px rgba(60, 64, 67, 0.3), 0px 1px 3px 1px rgba(60, 64, 67, 0.15);\n",
              "      fill: #174EA6;\n",
              "    }\n",
              "\n",
              "    .colab-df-buttons div {\n",
              "      margin-bottom: 4px;\n",
              "    }\n",
              "\n",
              "    [theme=dark] .colab-df-convert {\n",
              "      background-color: #3B4455;\n",
              "      fill: #D2E3FC;\n",
              "    }\n",
              "\n",
              "    [theme=dark] .colab-df-convert:hover {\n",
              "      background-color: #434B5C;\n",
              "      box-shadow: 0px 1px 3px 1px rgba(0, 0, 0, 0.15);\n",
              "      filter: drop-shadow(0px 1px 2px rgba(0, 0, 0, 0.3));\n",
              "      fill: #FFFFFF;\n",
              "    }\n",
              "  </style>\n",
              "\n",
              "    <script>\n",
              "      const buttonEl =\n",
              "        document.querySelector('#df-d7d02fd4-4503-4fae-bca9-eb33082f7620 button.colab-df-convert');\n",
              "      buttonEl.style.display =\n",
              "        google.colab.kernel.accessAllowed ? 'block' : 'none';\n",
              "\n",
              "      async function convertToInteractive(key) {\n",
              "        const element = document.querySelector('#df-d7d02fd4-4503-4fae-bca9-eb33082f7620');\n",
              "        const dataTable =\n",
              "          await google.colab.kernel.invokeFunction('convertToInteractive',\n",
              "                                                    [key], {});\n",
              "        if (!dataTable) return;\n",
              "\n",
              "        const docLinkHtml = 'Like what you see? Visit the ' +\n",
              "          '<a target=\"_blank\" href=https://colab.research.google.com/notebooks/data_table.ipynb>data table notebook</a>'\n",
              "          + ' to learn more about interactive tables.';\n",
              "        element.innerHTML = '';\n",
              "        dataTable['output_type'] = 'display_data';\n",
              "        await google.colab.output.renderOutput(dataTable, element);\n",
              "        const docLink = document.createElement('div');\n",
              "        docLink.innerHTML = docLinkHtml;\n",
              "        element.appendChild(docLink);\n",
              "      }\n",
              "    </script>\n",
              "  </div>\n",
              "\n",
              "\n",
              "<div id=\"df-2f3d2212-b371-4c97-84a5-4d9ab9ef0b43\">\n",
              "  <button class=\"colab-df-quickchart\" onclick=\"quickchart('df-2f3d2212-b371-4c97-84a5-4d9ab9ef0b43')\"\n",
              "            title=\"Suggest charts\"\n",
              "            style=\"display:none;\">\n",
              "\n",
              "<svg xmlns=\"http://www.w3.org/2000/svg\" height=\"24px\"viewBox=\"0 0 24 24\"\n",
              "     width=\"24px\">\n",
              "    <g>\n",
              "        <path d=\"M19 3H5c-1.1 0-2 .9-2 2v14c0 1.1.9 2 2 2h14c1.1 0 2-.9 2-2V5c0-1.1-.9-2-2-2zM9 17H7v-7h2v7zm4 0h-2V7h2v10zm4 0h-2v-4h2v4z\"/>\n",
              "    </g>\n",
              "</svg>\n",
              "  </button>\n",
              "\n",
              "<style>\n",
              "  .colab-df-quickchart {\n",
              "      --bg-color: #E8F0FE;\n",
              "      --fill-color: #1967D2;\n",
              "      --hover-bg-color: #E2EBFA;\n",
              "      --hover-fill-color: #174EA6;\n",
              "      --disabled-fill-color: #AAA;\n",
              "      --disabled-bg-color: #DDD;\n",
              "  }\n",
              "\n",
              "  [theme=dark] .colab-df-quickchart {\n",
              "      --bg-color: #3B4455;\n",
              "      --fill-color: #D2E3FC;\n",
              "      --hover-bg-color: #434B5C;\n",
              "      --hover-fill-color: #FFFFFF;\n",
              "      --disabled-bg-color: #3B4455;\n",
              "      --disabled-fill-color: #666;\n",
              "  }\n",
              "\n",
              "  .colab-df-quickchart {\n",
              "    background-color: var(--bg-color);\n",
              "    border: none;\n",
              "    border-radius: 50%;\n",
              "    cursor: pointer;\n",
              "    display: none;\n",
              "    fill: var(--fill-color);\n",
              "    height: 32px;\n",
              "    padding: 0;\n",
              "    width: 32px;\n",
              "  }\n",
              "\n",
              "  .colab-df-quickchart:hover {\n",
              "    background-color: var(--hover-bg-color);\n",
              "    box-shadow: 0 1px 2px rgba(60, 64, 67, 0.3), 0 1px 3px 1px rgba(60, 64, 67, 0.15);\n",
              "    fill: var(--button-hover-fill-color);\n",
              "  }\n",
              "\n",
              "  .colab-df-quickchart-complete:disabled,\n",
              "  .colab-df-quickchart-complete:disabled:hover {\n",
              "    background-color: var(--disabled-bg-color);\n",
              "    fill: var(--disabled-fill-color);\n",
              "    box-shadow: none;\n",
              "  }\n",
              "\n",
              "  .colab-df-spinner {\n",
              "    border: 2px solid var(--fill-color);\n",
              "    border-color: transparent;\n",
              "    border-bottom-color: var(--fill-color);\n",
              "    animation:\n",
              "      spin 1s steps(1) infinite;\n",
              "  }\n",
              "\n",
              "  @keyframes spin {\n",
              "    0% {\n",
              "      border-color: transparent;\n",
              "      border-bottom-color: var(--fill-color);\n",
              "      border-left-color: var(--fill-color);\n",
              "    }\n",
              "    20% {\n",
              "      border-color: transparent;\n",
              "      border-left-color: var(--fill-color);\n",
              "      border-top-color: var(--fill-color);\n",
              "    }\n",
              "    30% {\n",
              "      border-color: transparent;\n",
              "      border-left-color: var(--fill-color);\n",
              "      border-top-color: var(--fill-color);\n",
              "      border-right-color: var(--fill-color);\n",
              "    }\n",
              "    40% {\n",
              "      border-color: transparent;\n",
              "      border-right-color: var(--fill-color);\n",
              "      border-top-color: var(--fill-color);\n",
              "    }\n",
              "    60% {\n",
              "      border-color: transparent;\n",
              "      border-right-color: var(--fill-color);\n",
              "    }\n",
              "    80% {\n",
              "      border-color: transparent;\n",
              "      border-right-color: var(--fill-color);\n",
              "      border-bottom-color: var(--fill-color);\n",
              "    }\n",
              "    90% {\n",
              "      border-color: transparent;\n",
              "      border-bottom-color: var(--fill-color);\n",
              "    }\n",
              "  }\n",
              "</style>\n",
              "\n",
              "  <script>\n",
              "    async function quickchart(key) {\n",
              "      const quickchartButtonEl =\n",
              "        document.querySelector('#' + key + ' button');\n",
              "      quickchartButtonEl.disabled = true;  // To prevent multiple clicks.\n",
              "      quickchartButtonEl.classList.add('colab-df-spinner');\n",
              "      try {\n",
              "        const charts = await google.colab.kernel.invokeFunction(\n",
              "            'suggestCharts', [key], {});\n",
              "      } catch (error) {\n",
              "        console.error('Error during call to suggestCharts:', error);\n",
              "      }\n",
              "      quickchartButtonEl.classList.remove('colab-df-spinner');\n",
              "      quickchartButtonEl.classList.add('colab-df-quickchart-complete');\n",
              "    }\n",
              "    (() => {\n",
              "      let quickchartButtonEl =\n",
              "        document.querySelector('#df-2f3d2212-b371-4c97-84a5-4d9ab9ef0b43 button');\n",
              "      quickchartButtonEl.style.display =\n",
              "        google.colab.kernel.accessAllowed ? 'block' : 'none';\n",
              "    })();\n",
              "  </script>\n",
              "</div>\n",
              "    </div>\n",
              "  </div>\n"
            ],
            "application/vnd.google.colaboratory.intrinsic+json": {
              "type": "dataframe",
              "variable_name": "listing_characteristics",
              "summary": "{\n  \"name\": \"listing_characteristics\",\n  \"rows\": 3585,\n  \"fields\": [\n    {\n      \"column\": \"property_type\",\n      \"properties\": {\n        \"dtype\": \"category\",\n        \"num_unique_values\": 13,\n        \"samples\": [\n          \"Other\",\n          \"Boat\",\n          \"House\"\n        ],\n        \"semantic_type\": \"\",\n        \"description\": \"\"\n      }\n    },\n    {\n      \"column\": \"room_type\",\n      \"properties\": {\n        \"dtype\": \"category\",\n        \"num_unique_values\": 3,\n        \"samples\": [\n          \"Entire home/apt\",\n          \"Private room\",\n          \"Shared room\"\n        ],\n        \"semantic_type\": \"\",\n        \"description\": \"\"\n      }\n    },\n    {\n      \"column\": \"accommodates\",\n      \"properties\": {\n        \"dtype\": \"number\",\n        \"std\": 1,\n        \"min\": 1,\n        \"max\": 16,\n        \"num_unique_values\": 14,\n        \"samples\": [\n          9,\n          12,\n          4\n        ],\n        \"semantic_type\": \"\",\n        \"description\": \"\"\n      }\n    },\n    {\n      \"column\": \"bathrooms\",\n      \"properties\": {\n        \"dtype\": \"number\",\n        \"std\": 0.5006975639375277,\n        \"min\": 0.0,\n        \"max\": 6.0,\n        \"num_unique_values\": 12,\n        \"samples\": [\n          5.0,\n          4.0,\n          1.5\n        ],\n        \"semantic_type\": \"\",\n        \"description\": \"\"\n      }\n    },\n    {\n      \"column\": \"bedrooms\",\n      \"properties\": {\n        \"dtype\": \"number\",\n        \"std\": 0.7521294982434301,\n        \"min\": 0.0,\n        \"max\": 5.0,\n        \"num_unique_values\": 6,\n        \"samples\": [\n          2.0,\n          1.0,\n          5.0\n        ],\n        \"semantic_type\": \"\",\n        \"description\": \"\"\n      }\n    },\n    {\n      \"column\": \"beds\",\n      \"properties\": {\n        \"dtype\": \"number\",\n        \"std\": 1.010933070579784,\n        \"min\": 0.0,\n        \"max\": 16.0,\n        \"num_unique_values\": 11,\n        \"samples\": [\n          4.0,\n          3.0,\n          0.0\n        ],\n        \"semantic_type\": \"\",\n        \"description\": \"\"\n      }\n    },\n    {\n      \"column\": \"bed_type\",\n      \"properties\": {\n        \"dtype\": \"category\",\n        \"num_unique_values\": 5,\n        \"samples\": [\n          \"Pull-out Sofa\",\n          \"Couch\",\n          \"Futon\"\n        ],\n        \"semantic_type\": \"\",\n        \"description\": \"\"\n      }\n    },\n    {\n      \"column\": \"cluster\",\n      \"properties\": {\n        \"dtype\": \"int32\",\n        \"num_unique_values\": 4,\n        \"samples\": [\n          1,\n          0,\n          3\n        ],\n        \"semantic_type\": \"\",\n        \"description\": \"\"\n      }\n    }\n  ]\n}"
            }
          },
          "metadata": {},
          "execution_count": 61
        }
      ]
    },
    {
      "cell_type": "markdown",
      "source": [
        "Finally, in this section we will perform the calculations needed for the time series used in the question 2, but also including the group dimension."
      ],
      "metadata": {
        "id": "PJzGuyhDgh1h"
      }
    },
    {
      "cell_type": "code",
      "source": [
        "# Enrich the listing dataset with the cluster it belongs to\n",
        "listing_df['cluster'] = kmeans_pred\n",
        "cluster_dict = {0: 'Whole apartment', 1: 'Apartement private room', 2: 'Home private room', 3: 'Others entier property'}\n",
        "cluster_description = [cluster_dict[x] for x in listing_df['cluster']]\n",
        "listing_df['cluster_description'] = cluster_description"
      ],
      "metadata": {
        "id": "cdcrW3L7GVcQ"
      },
      "execution_count": 79,
      "outputs": []
    },
    {
      "cell_type": "code",
      "source": [
        "# Same calculus as in the previous question, including the cluster dimension\n",
        "t_calendar_inner_listing_df = listing_df.merge(boston_airbnb_calendar_normalized_df, left_on='id', right_on='listing_id', how='inner')\n",
        "t_df_boston_my = t_calendar_inner_listing_df.groupby(['month_year', 'cluster_description']).size().reset_index(name=\"total_count\")\n",
        "t_df_boston_mya = t_calendar_inner_listing_df.groupby(['month_year', 'cluster_description', 'available_normalized']).size().reset_index(name=\"count\")\n",
        "t_df_boston_available = pd.merge(t_df_boston_my, t_df_boston_mya, on=['month_year', 'cluster_description'], how='inner')\n",
        "t_df_boston_available['availability_perc'] = t_df_boston_available['count'] / t_df_boston_available['total_count']\n",
        "t_df_boston_available = t_df_boston_available[t_df_boston_available['available_normalized'] == True]\n",
        "\n",
        "t_df_boton_price = t_calendar_inner_listing_df[t_calendar_inner_listing_df['available_normalized'] == True].groupby(['cluster_description', 'month_year'])['price_normalized'].sum().reset_index(name=\"total_price\")\n",
        "\n",
        "q3_time_series_df = pd.merge(t_df_boston_available, t_df_boton_price, on=['month_year', 'cluster_description'], how='inner')\n",
        "q3_time_series_df['avg_price'] = q3_time_series_df['total_price'] / q3_time_series_df['count']\n",
        "q3_time_series_df.set_index('month_year', inplace=True)\n",
        "\n",
        "# remove temporal data\n",
        "t_calendar_inner_listing_df[0:0]\n",
        "t_df_boston_my[0:0]\n",
        "t_df_boston_mya[0:0]\n",
        "t_df_boston_available[0:0]\n",
        "t_df_boton_price[0:0]"
      ],
      "metadata": {
        "id": "sXvQLangNGNv",
        "colab": {
          "base_uri": "https://localhost:8080/",
          "height": 53
        },
        "outputId": "4d38eeef-405d-41cc-aa82-78ab1b2932df"
      },
      "execution_count": 84,
      "outputs": [
        {
          "output_type": "execute_result",
          "data": {
            "text/plain": [
              "Empty DataFrame\n",
              "Columns: [cluster_description, month_year, total_price]\n",
              "Index: []"
            ],
            "text/html": [
              "\n",
              "  <div id=\"df-740e43b7-304a-4a58-bd51-2c3ad5a400f8\" class=\"colab-df-container\">\n",
              "    <div>\n",
              "<style scoped>\n",
              "    .dataframe tbody tr th:only-of-type {\n",
              "        vertical-align: middle;\n",
              "    }\n",
              "\n",
              "    .dataframe tbody tr th {\n",
              "        vertical-align: top;\n",
              "    }\n",
              "\n",
              "    .dataframe thead th {\n",
              "        text-align: right;\n",
              "    }\n",
              "</style>\n",
              "<table border=\"1\" class=\"dataframe\">\n",
              "  <thead>\n",
              "    <tr style=\"text-align: right;\">\n",
              "      <th></th>\n",
              "      <th>cluster_description</th>\n",
              "      <th>month_year</th>\n",
              "      <th>total_price</th>\n",
              "    </tr>\n",
              "  </thead>\n",
              "  <tbody>\n",
              "  </tbody>\n",
              "</table>\n",
              "</div>\n",
              "    <div class=\"colab-df-buttons\">\n",
              "\n",
              "  <div class=\"colab-df-container\">\n",
              "    <button class=\"colab-df-convert\" onclick=\"convertToInteractive('df-740e43b7-304a-4a58-bd51-2c3ad5a400f8')\"\n",
              "            title=\"Convert this dataframe to an interactive table.\"\n",
              "            style=\"display:none;\">\n",
              "\n",
              "  <svg xmlns=\"http://www.w3.org/2000/svg\" height=\"24px\" viewBox=\"0 -960 960 960\">\n",
              "    <path d=\"M120-120v-720h720v720H120Zm60-500h600v-160H180v160Zm220 220h160v-160H400v160Zm0 220h160v-160H400v160ZM180-400h160v-160H180v160Zm440 0h160v-160H620v160ZM180-180h160v-160H180v160Zm440 0h160v-160H620v160Z\"/>\n",
              "  </svg>\n",
              "    </button>\n",
              "\n",
              "  <style>\n",
              "    .colab-df-container {\n",
              "      display:flex;\n",
              "      gap: 12px;\n",
              "    }\n",
              "\n",
              "    .colab-df-convert {\n",
              "      background-color: #E8F0FE;\n",
              "      border: none;\n",
              "      border-radius: 50%;\n",
              "      cursor: pointer;\n",
              "      display: none;\n",
              "      fill: #1967D2;\n",
              "      height: 32px;\n",
              "      padding: 0 0 0 0;\n",
              "      width: 32px;\n",
              "    }\n",
              "\n",
              "    .colab-df-convert:hover {\n",
              "      background-color: #E2EBFA;\n",
              "      box-shadow: 0px 1px 2px rgba(60, 64, 67, 0.3), 0px 1px 3px 1px rgba(60, 64, 67, 0.15);\n",
              "      fill: #174EA6;\n",
              "    }\n",
              "\n",
              "    .colab-df-buttons div {\n",
              "      margin-bottom: 4px;\n",
              "    }\n",
              "\n",
              "    [theme=dark] .colab-df-convert {\n",
              "      background-color: #3B4455;\n",
              "      fill: #D2E3FC;\n",
              "    }\n",
              "\n",
              "    [theme=dark] .colab-df-convert:hover {\n",
              "      background-color: #434B5C;\n",
              "      box-shadow: 0px 1px 3px 1px rgba(0, 0, 0, 0.15);\n",
              "      filter: drop-shadow(0px 1px 2px rgba(0, 0, 0, 0.3));\n",
              "      fill: #FFFFFF;\n",
              "    }\n",
              "  </style>\n",
              "\n",
              "    <script>\n",
              "      const buttonEl =\n",
              "        document.querySelector('#df-740e43b7-304a-4a58-bd51-2c3ad5a400f8 button.colab-df-convert');\n",
              "      buttonEl.style.display =\n",
              "        google.colab.kernel.accessAllowed ? 'block' : 'none';\n",
              "\n",
              "      async function convertToInteractive(key) {\n",
              "        const element = document.querySelector('#df-740e43b7-304a-4a58-bd51-2c3ad5a400f8');\n",
              "        const dataTable =\n",
              "          await google.colab.kernel.invokeFunction('convertToInteractive',\n",
              "                                                    [key], {});\n",
              "        if (!dataTable) return;\n",
              "\n",
              "        const docLinkHtml = 'Like what you see? Visit the ' +\n",
              "          '<a target=\"_blank\" href=https://colab.research.google.com/notebooks/data_table.ipynb>data table notebook</a>'\n",
              "          + ' to learn more about interactive tables.';\n",
              "        element.innerHTML = '';\n",
              "        dataTable['output_type'] = 'display_data';\n",
              "        await google.colab.output.renderOutput(dataTable, element);\n",
              "        const docLink = document.createElement('div');\n",
              "        docLink.innerHTML = docLinkHtml;\n",
              "        element.appendChild(docLink);\n",
              "      }\n",
              "    </script>\n",
              "  </div>\n",
              "\n",
              "    </div>\n",
              "  </div>\n"
            ],
            "application/vnd.google.colaboratory.intrinsic+json": {
              "type": "dataframe",
              "repr_error": "Out of range float values are not JSON compliant: nan"
            }
          },
          "metadata": {},
          "execution_count": 84
        }
      ]
    },
    {
      "cell_type": "code",
      "source": [
        "\n",
        "# Crear una figura y ejes\n",
        "fig, (ax1, ax2) = plt.subplots(1, 2, figsize=(20, 6), sharex=True)\n",
        "\n",
        "# Graficar la primera serie en el primer eje\n",
        "sns.lineplot(data=q3_time_series_df, x='month_year', y='availability_perc', hue='cluster_description', marker='o', ax=ax1)\n",
        "ax1.set_title('Time series for availability % by month and year')\n",
        "ax1.set_xlabel('Month-year')\n",
        "ax1.set_ylabel('Availability %')\n",
        "ax1.grid(False)\n",
        "\n",
        "# Graficar la segunda serie en el segundo eje\n",
        "sns.lineplot(data=q3_time_series_df, x='month_year', y='avg_price', hue='cluster_description', marker='o', ax=ax2)\n",
        "ax2.set_title('Average price by month and year')\n",
        "ax2.set_xlabel('Month-year')\n",
        "ax2.set_ylabel('Average pirce $')\n",
        "ax2.grid(False)\n",
        "\n",
        "# Rotar las etiquetas del eje X para ambos gráficos\n",
        "plt.setp(ax1.xaxis.get_majorticklabels(), rotation=45)\n",
        "plt.setp(ax2.xaxis.get_majorticklabels(), rotation=45)\n",
        "\n",
        "# Ajustar el diseño del gráfico\n",
        "fig.tight_layout()\n",
        "\n",
        "# Mostrar el gráfico\n",
        "plt.show()"
      ],
      "metadata": {
        "colab": {
          "base_uri": "https://localhost:8080/",
          "height": 607
        },
        "id": "DbWHI0TnD_gD",
        "outputId": "fce33421-bf2a-47a7-a628-524d00f691d7"
      },
      "execution_count": 85,
      "outputs": [
        {
          "output_type": "display_data",
          "data": {
            "text/plain": [
              "<Figure size 2000x600 with 2 Axes>"
            ],
            "image/png": "[encoded data removed]"
          },
          "metadata": {}
        }
      ]
    },
    {
      "cell_type": "markdown",
      "source": [
        "## Result evaluation"
      ],
      "metadata": {
        "id": "wNnsmoY6iwZL"
      }
    },
    {
      "cell_type": "markdown",
      "source": [
        "### Question 1"
      ],
      "metadata": {
        "id": "QtZTQ0guiyjw"
      }
    },
    {
      "cell_type": "markdown",
      "source": [
        "For the quesiton one, we will read the generated vibes description for the neighborhood. It can be cheched the generated descriptions are quite reasonable:"
      ],
      "metadata": {
        "id": "F72XSf7Pi1OE"
      }
    },
    {
      "cell_type": "code",
      "source": [
        "data_dir = '/content/gdrive/MyDrive/neighborhood_vibes.csv'\n",
        "neighborhood_vibes_df = pd.read_csv(data_dir)"
      ],
      "metadata": {
        "id": "oaKJvxD2ix6A"
      },
      "execution_count": 86,
      "outputs": []
    },
    {
      "cell_type": "code",
      "source": [
        "neighborhood_vibes_df"
      ],
      "metadata": {
        "colab": {
          "base_uri": "https://localhost:8080/",
          "height": 1000
        },
        "id": "koNPxhVFjLM2",
        "outputId": "1dc6799e-9c37-452a-f4c4-b87ee0dd87a2"
      },
      "execution_count": 87,
      "outputs": [
        {
          "output_type": "execute_result",
          "data": {
            "text/plain": [
              "               neighborhood  \\\n",
              "0                  Downtown   \n",
              "1               Bay Village   \n",
              "2               Beacon Hill   \n",
              "3                 South End   \n",
              "4                  Brighton   \n",
              "5              South Boston   \n",
              "6             Jamaica Plain   \n",
              "7                 Hyde Park   \n",
              "8               Charlestown   \n",
              "9   South Boston Waterfront   \n",
              "10             Mission Hill   \n",
              "11                North End   \n",
              "12               Roslindale   \n",
              "13               Dorchester   \n",
              "14                 Back Bay   \n",
              "15         Leather District   \n",
              "16                   Fenway   \n",
              "17             West Roxbury   \n",
              "18                  Roxbury   \n",
              "19                 West End   \n",
              "20                Chinatown   \n",
              "21              East Boston   \n",
              "22                  Allston   \n",
              "23    Longwood Medical Area   \n",
              "24                 Mattapan   \n",
              "\n",
              "                                                                                                                                                                                                                                                                                                                                                                                                                                                                                                                                                                                                                                                                                                                                                                                                                                                        neighborhood_vibe  \n",
              "0                                                                                                                                                                                                                                                                                                                                                                                                                                              The vibe of the Downtown neighborhood is lively, vibrant, and convenient. It is a central location with easy access to restaurants, bars, nightlife, public transportation, and various city attractions. The area is bustling with activity, offering plenty of options for entertainment and exploration. With its proximity to popular landmarks and cultural sites, Downtown Boston is a hub of excitement and energy.  \n",
              "1                                                                                                                                                                                                                                                      The vibe of the Bay Village neighborhood is described as cute, quiet, and quaint, making it a hidden gem and one of the most unique neighborhoods in town. It is known for its local charm, fabulous location, and proximity to wonderful restaurants, cafes, theaters, and parks. The neighborhood is centrally located, offering easy access to public transportation and nearby attractions such as Boston Commons, the Charles River, Copley Square, and the Theatre District. The presence of street gas lamps adds charm to the streets, creating a peaceful and charming atmosphere in the heart of Boston.  \n",
              "2                                                                                               The vibe of the Beacon Hill neighborhood is one of historical charm, safety, and quaintness. With its rich history, picturesque architecture, and cobblestone streets, Beacon Hill offers a peaceful and serene atmosphere, making you feel like you've traveled back in time to the colonial days. The neighborhood boasts a combination of old-world charm and contemporary amenities, with a variety of local shops, restaurants, and taverns to explore. The proximity to the Boston Common and the Charles River adds to the neighborhood's appeal, providing opportunities for relaxation and learning about American history. Overall, Beacon Hill is a prestigious and desirable neighborhood known for its beauty, rich history, and central location in Boston.  \n",
              "3                                                                                                                                                                                                                                                          The South End is a trendy, vibrant, and diverse neighborhood known for its historic architecture, charming boutiques, sophisticated eateries, and thriving arts scene. Residents take pride in living here, with owner-operated businesses offering creative offerings. The area is very walkable, with lush trees and flowers lining the streets, creating a European feel. The neighborhood is home to a mix of old and young residents from various backgrounds, making it a culturally rich community. Overall, the South End exudes a lively and welcoming vibe with plenty of local charm and character.  \n",
              "4                                                                                                                                                                                           The vibe of the Brighton neighborhood is a mix of suburban charm and city convenience. It is a safe and family-friendly area with a diverse selection of cafes, restaurants, and bars to explore. The neighborhood offers easy access to public transportation, making it convenient for residents to travel to different parts of Boston and beyond. With parks, green areas, and proximity to universities like Boston College and Boston University, Brighton is a quiet and scenic residential area with a laid-back atmosphere. Additionally, the neighborhood provides options for dining, shopping, and recreational activities, catering to both locals and visitors.  \n",
              "5                                                                                                                                                                                                                                                                                                                    South Boston has a vibrant and lively vibe with a mix of old and new attractions. It offers a true neighborhood feel while being close to downtown and the waterfront, providing easy access to explore the city. The neighborhood boasts a variety of restaurants, bars, coffee shops, and even a beach nearby, making it a desirable location for both locals and visitors. In addition, South Boston is described as having a bustling nightlife, with plenty of options for entertainment, while maintaining a residential feel during the week.  \n",
              "6                                                                                                                                                                                                                                                                                                                                                                                                                                                                                                                                        Jamaica Plain is a vibrant, diverse, and eclectic neighborhood with a strong sense of community. It is known for its green spaces, cultural diversity, local restaurants, and artistic influences. The neighborhood offers a mix of urban amenities and a small-town feel, making it a unique and lively place to live or visit.  \n",
              "7                                                                                                                                                                                                                                                                                                                                                                                                                                                           Hyde Park is a peaceful and family-friendly neighborhood, with a strong sense of community and cultural diversity. It is known for its quiet and safe streets, with easy access to amenities such as parks, restaurants, shops, and public transportation. The vibe of the neighborhood is characterized by a relaxed and welcoming atmosphere, where residents can enjoy a mix of urban and suburban living.  \n",
              "8                                                                                                                                                                                                                            The vibe of the Charlestown neighborhood is one that blends historical charm with modern amenities. It is a quiet, residential area with tree-lined streets and historic landmarks such as the Bunker Hill Monument and the Navy Yard. Residents enjoy a sense of community, with people playing in the streets and catching up on the sidewalks. Despite its historical significance, Charlestown offers easy access to downtown Boston, Cambridge, and other parts of the city via public transit. Overall, Charlestown is described as a charming, safe, and family-friendly neighborhood with a mix of colonial and maritime influences.  \n",
              "9   The vibe of the South Boston Waterfront neighborhood is vibrant and lively, with a mix of fine dining, shopping, entertainment, and waterfront attractions at your doorstep. The area is known for its artistic experiences, ranging from jazz shows to theatrical presentations. There are many options for outdoor dining and waterfront restaurants, as well as authentic city pubs and breweries for those looking for a drink. The neighborhood has a vibrant nightlife scene, with many great restaurants and bars within walking distance. The Seaport District has quickly become a popular destination for conferences, restaurants, and entertainment, adding to the dynamic atmosphere of the neighborhood. Overall, the South Boston Waterfront neighborhood offers a trendy and bustling environment with a mix of city vibes and waterfront relaxation.  \n",
              "10                                                                                                                                                                                                                                                                                                                                            Mission Hill has a vibrant, diverse, and laid back college vibe with a strong sense of community among neighbors. It offers easy access to public transportation and downtown, with a variety of bars and restaurants within walking distance. The neighborhood is bustling with activity, especially at night, and is known for its younger demographic. Additionally, Mission Hill's proximity to parks, museums, and schools, as well as its affordable housing options, make it a desirable and lively area to live in.  \n",
              "11                                                                                                                                                                                                                                                                                                                                                                                  The North End neighborhood is a charming mix of winding streets, historic landmarks, and boutiques. With a strong Italian American population, the area is known for its delicious food, including fine Italian restaurants and bakeries. The neighborhood is full of charm and character, with friendly locals and a lively atmosphere. It is conveniently located close to downtown Boston and is a beloved quarter of the city, with a mix of old world Italy and energetic vibes.  \n",
              "12                                                                                                                                                                                                                                                                                                                            Roslindale is a quiet, family-friendly, and vibrant neighborhood in Boston that prides itself on its natural beauty, safety, and welcoming atmosphere. With convenient access to downtown Boston, a variety of shops and restaurants in Roslindale Village, and the tranquil Arnold Arboretum, residents enjoy a perfect balance of urban amenities and suburban charm. The neighborhood's diverse community, proximity to public transportation, and thriving local businesses create a lively and welcoming vibe for all types of people.  \n",
              "13                                                                                                                                                                                                                                                                                  Dorchester is a diverse and ever-growing neighborhood with evidence of its eclectic nature found in the variety of establishments. From urban bistros that transform into gay clubs at night to authentic Vietnamese restaurants, Irish Pubs, local craft beer stores, and Cape Verdian businesses, cafes, and restaurants, the neighborhood showcases its diversity. With a mix of gentrified areas, community gardens, a range of culinary options, and access to parks and waterfront activities, Dorchester offers a vibrant and welcoming vibe for residents and visitors alike.  \n",
              "14                                                                                                                                                                                                                                                                                                                                                                                   The vibe of the Back Bay neighborhood is historic, prestigious, safe, picturesque, vibrant, and trendy. With its beautiful brownstone homes, tree-lined streets, upscale shopping and dining options, and proximity to cultural institutions and green spaces, Back Bay is a sought-after destination for residents and visitors alike. The neighborhood exudes an old-world charm with modern amenities, creating a unique blend of elegance and excitement in the heart of Boston.  \n",
              "15                                                                                                                                                                                                                                                                                                                                                The Leather District neighborhood in Boston Financial District is bustling and vibrant, offering a central location with easy access to various parts of the city. With its proximity to South Station, Chinatown, Downtown Crossing, the harbor, and Boston Common, residents can enjoy a diverse array of dining, shopping, entertainment, and outdoor activities within walking distance. The neighborhood boasts a mix of historic charm and modern amenities, making it a convenient and lively area to call home.  \n",
              "16                                                                                                                                                                                                                                                                                                                                                                                                                                                                                                                                                          Vibrant and cultural neighborhood with a mix of entertainment, dining options, and green spaces. Close to Fenway Park, restaurants, bars, and museums, offering a lively atmosphere for residents and visitors alike. Safe, diverse, and centrally located, providing easy access to various parts of Boston.  \n",
              "17                                                                                                                                                                                                                                                                                                                                                    The neighborhood of West Roxbury is described as safe, quiet, and family-friendly. It is praised for its convenience, with easy access to amenities such as grocery stores, coffee shops, and restaurants within walking distance. Residents and visitors alike appreciate the residential feel of the area, with green spaces and parks nearby. The neighborhood is described as a suburb within the city, offering a peaceful and welcoming atmosphere for those looking for a comfortable place to live or stay.  \n",
              "18                                                                                                                                                                                                                                                                       The vibe of the Roxbury neighborhood can be described as urban, multicultural, and economically diverse. It is a community with a mix of Victorian architecture and run-down buildings, with occasional graffiti and homeless individuals on the main street. Residents can expect to hear sirens from the nearby hospital, a lady preaching with a bullhorn, loud music from cars, and occasional yelling outside. Despite these aspects, residents feel safe and have strong relationships with their neighbors. It is a lively neighborhood with a lot of character and a sense of community.  \n",
              "19                                                                                                                                                                                                                                                                                                                                                                                                The vibe of the West End neighborhood is vibrant and bustling, with a perfect mix of urban convenience and scenic beauty. It offers an enviable location with easy access to shopping, restaurants, and pubs on Charles Street. Residents can enjoy breathtaking panoramic views of the Boston Harbor, the Charles River, Cambridge, Beacon Hill, and the Back Bay. The neighborhood is safe, friendly, and within walking distance to everything residents might need.  \n",
              "20                                                                                                                                                                                                                                                                                                                                                              Chinatown is a constantly lively and vibrant neighborhood in the city, with a 24-hour diner, plenty of restaurants open late, and several bars and lounges in the area. The neighborhood offers a mix of Chinese, Vietnamese, Thai, Malaysian, and Japanese cuisine, making it a great spot for diverse and inexpensive dining experiences. With bike rentals nearby for leisurely travel needs, Chinatown is bustling and offers a bustling urban atmosphere perfect for exploring the city's offerings.  \n",
              "21                                                                                                                      The vibe of the East Boston neighborhood can be described as diverse, eclectic, and up-and-coming. It maintains a strong sense of community while offering a variety of authentic Italian and Latin American restaurants. The neighborhood is undergoing redevelopment with new parks, libraries, and gyms. East Boston is a safe and family-friendly area with easy access to downtown Boston and the airport. It is a gateway for immigrants and residents enjoy beautiful waterfront views of the city skyline. The neighborhood is known for its mix of old and new architecture, reflecting its rich immigrant history. Overall, East Boston offers a vibrant and diverse atmosphere with a strong sense of community and cultural heritage.  \n",
              "22                                                                                                                                                                                                                                                                                                           The vibe of the Allston neighborhood is eclectic, vibrant, and youthful. It is a bustling area with a mix of different cultures, students, artists, and hipsters. The neighborhood offers a variety of ethnic restaurants, bars, and music venues, making it a popular choice for young adults. Residents enjoy the affordability of the neighborhood and the convenience of being able to walk to everything they need for work and play. Allston is known for its cool, grungy atmosphere and is a favorite among locals but often overlooked by tourists.  \n",
              "23                                                                                                                                                                                                                                                                                                                   This neighborhood exudes a peaceful and family-friendly atmosphere, offering a quiet escape from the nearby city chaos. With a serene river walk just across the street, it provides a perfect balance between tranquility and urban convenience. The area is ideal for extended stays, attracting those seeking a home away from home in the heart of the Longwood Medical and Academic Area. Additionally, the proximity to public transportation makes it easy to access downtown Boston and other popular attractions within a short train ride.  \n",
              "24                                                                                                                                                                                                                                                                                                                                                                                                                                                                  The neighborhood has a suburban feel with a mix of residential areas and nearby shops. It is close to public transportation, making it easy to access tourist attractions and other areas of Boston. The presence of Deer and turkeys walking around gives it a unique touch of nature in the midst of city living. It is a quiet and welcoming area that offers a peaceful atmosphere for residents.  "
            ],
            "text/html": [
              "\n",
              "  <div id=\"df-6bf794b7-a086-47cd-96fe-a86f724b5b5d\" class=\"colab-df-container\">\n",
              "    <div>\n",
              "<style scoped>\n",
              "    .dataframe tbody tr th:only-of-type {\n",
              "        vertical-align: middle;\n",
              "    }\n",
              "\n",
              "    .dataframe tbody tr th {\n",
              "        vertical-align: top;\n",
              "    }\n",
              "\n",
              "    .dataframe thead th {\n",
              "        text-align: right;\n",
              "    }\n",
              "</style>\n",
              "<table border=\"1\" class=\"dataframe\">\n",
              "  <thead>\n",
              "    <tr style=\"text-align: right;\">\n",
              "      <th></th>\n",
              "      <th>neighborhood</th>\n",
              "      <th>neighborhood_vibe</th>\n",
              "    </tr>\n",
              "  </thead>\n",
              "  <tbody>\n",
              "    <tr>\n",
              "      <th>0</th>\n",
              "      <td>Downtown</td>\n",
              "      <td>The vibe of the Downtown neighborhood is lively, vibrant, and convenient. It is a central location with easy access to restaurants, bars, nightlife, public transportation, and various city attractions. The area is bustling with activity, offering plenty of options for entertainment and exploration. With its proximity to popular landmarks and cultural sites, Downtown Boston is a hub of excitement and energy.</td>\n",
              "    </tr>\n",
              "    <tr>\n",
              "      <th>1</th>\n",
              "      <td>Bay Village</td>\n",
              "      <td>The vibe of the Bay Village neighborhood is described as cute, quiet, and quaint, making it a hidden gem and one of the most unique neighborhoods in town. It is known for its local charm, fabulous location, and proximity to wonderful restaurants, cafes, theaters, and parks. The neighborhood is centrally located, offering easy access to public transportation and nearby attractions such as Boston Commons, the Charles River, Copley Square, and the Theatre District. The presence of street gas lamps adds charm to the streets, creating a peaceful and charming atmosphere in the heart of Boston.</td>\n",
              "    </tr>\n",
              "    <tr>\n",
              "      <th>2</th>\n",
              "      <td>Beacon Hill</td>\n",
              "      <td>The vibe of the Beacon Hill neighborhood is one of historical charm, safety, and quaintness. With its rich history, picturesque architecture, and cobblestone streets, Beacon Hill offers a peaceful and serene atmosphere, making you feel like you've traveled back in time to the colonial days. The neighborhood boasts a combination of old-world charm and contemporary amenities, with a variety of local shops, restaurants, and taverns to explore. The proximity to the Boston Common and the Charles River adds to the neighborhood's appeal, providing opportunities for relaxation and learning about American history. Overall, Beacon Hill is a prestigious and desirable neighborhood known for its beauty, rich history, and central location in Boston.</td>\n",
              "    </tr>\n",
              "    <tr>\n",
              "      <th>3</th>\n",
              "      <td>South End</td>\n",
              "      <td>The South End is a trendy, vibrant, and diverse neighborhood known for its historic architecture, charming boutiques, sophisticated eateries, and thriving arts scene. Residents take pride in living here, with owner-operated businesses offering creative offerings. The area is very walkable, with lush trees and flowers lining the streets, creating a European feel. The neighborhood is home to a mix of old and young residents from various backgrounds, making it a culturally rich community. Overall, the South End exudes a lively and welcoming vibe with plenty of local charm and character.</td>\n",
              "    </tr>\n",
              "    <tr>\n",
              "      <th>4</th>\n",
              "      <td>Brighton</td>\n",
              "      <td>The vibe of the Brighton neighborhood is a mix of suburban charm and city convenience. It is a safe and family-friendly area with a diverse selection of cafes, restaurants, and bars to explore. The neighborhood offers easy access to public transportation, making it convenient for residents to travel to different parts of Boston and beyond. With parks, green areas, and proximity to universities like Boston College and Boston University, Brighton is a quiet and scenic residential area with a laid-back atmosphere. Additionally, the neighborhood provides options for dining, shopping, and recreational activities, catering to both locals and visitors.</td>\n",
              "    </tr>\n",
              "    <tr>\n",
              "      <th>5</th>\n",
              "      <td>South Boston</td>\n",
              "      <td>South Boston has a vibrant and lively vibe with a mix of old and new attractions. It offers a true neighborhood feel while being close to downtown and the waterfront, providing easy access to explore the city. The neighborhood boasts a variety of restaurants, bars, coffee shops, and even a beach nearby, making it a desirable location for both locals and visitors. In addition, South Boston is described as having a bustling nightlife, with plenty of options for entertainment, while maintaining a residential feel during the week.</td>\n",
              "    </tr>\n",
              "    <tr>\n",
              "      <th>6</th>\n",
              "      <td>Jamaica Plain</td>\n",
              "      <td>Jamaica Plain is a vibrant, diverse, and eclectic neighborhood with a strong sense of community. It is known for its green spaces, cultural diversity, local restaurants, and artistic influences. The neighborhood offers a mix of urban amenities and a small-town feel, making it a unique and lively place to live or visit.</td>\n",
              "    </tr>\n",
              "    <tr>\n",
              "      <th>7</th>\n",
              "      <td>Hyde Park</td>\n",
              "      <td>Hyde Park is a peaceful and family-friendly neighborhood, with a strong sense of community and cultural diversity. It is known for its quiet and safe streets, with easy access to amenities such as parks, restaurants, shops, and public transportation. The vibe of the neighborhood is characterized by a relaxed and welcoming atmosphere, where residents can enjoy a mix of urban and suburban living.</td>\n",
              "    </tr>\n",
              "    <tr>\n",
              "      <th>8</th>\n",
              "      <td>Charlestown</td>\n",
              "      <td>The vibe of the Charlestown neighborhood is one that blends historical charm with modern amenities. It is a quiet, residential area with tree-lined streets and historic landmarks such as the Bunker Hill Monument and the Navy Yard. Residents enjoy a sense of community, with people playing in the streets and catching up on the sidewalks. Despite its historical significance, Charlestown offers easy access to downtown Boston, Cambridge, and other parts of the city via public transit. Overall, Charlestown is described as a charming, safe, and family-friendly neighborhood with a mix of colonial and maritime influences.</td>\n",
              "    </tr>\n",
              "    <tr>\n",
              "      <th>9</th>\n",
              "      <td>South Boston Waterfront</td>\n",
              "      <td>The vibe of the South Boston Waterfront neighborhood is vibrant and lively, with a mix of fine dining, shopping, entertainment, and waterfront attractions at your doorstep. The area is known for its artistic experiences, ranging from jazz shows to theatrical presentations. There are many options for outdoor dining and waterfront restaurants, as well as authentic city pubs and breweries for those looking for a drink. The neighborhood has a vibrant nightlife scene, with many great restaurants and bars within walking distance. The Seaport District has quickly become a popular destination for conferences, restaurants, and entertainment, adding to the dynamic atmosphere of the neighborhood. Overall, the South Boston Waterfront neighborhood offers a trendy and bustling environment with a mix of city vibes and waterfront relaxation.</td>\n",
              "    </tr>\n",
              "    <tr>\n",
              "      <th>10</th>\n",
              "      <td>Mission Hill</td>\n",
              "      <td>Mission Hill has a vibrant, diverse, and laid back college vibe with a strong sense of community among neighbors. It offers easy access to public transportation and downtown, with a variety of bars and restaurants within walking distance. The neighborhood is bustling with activity, especially at night, and is known for its younger demographic. Additionally, Mission Hill's proximity to parks, museums, and schools, as well as its affordable housing options, make it a desirable and lively area to live in.</td>\n",
              "    </tr>\n",
              "    <tr>\n",
              "      <th>11</th>\n",
              "      <td>North End</td>\n",
              "      <td>The North End neighborhood is a charming mix of winding streets, historic landmarks, and boutiques. With a strong Italian American population, the area is known for its delicious food, including fine Italian restaurants and bakeries. The neighborhood is full of charm and character, with friendly locals and a lively atmosphere. It is conveniently located close to downtown Boston and is a beloved quarter of the city, with a mix of old world Italy and energetic vibes.</td>\n",
              "    </tr>\n",
              "    <tr>\n",
              "      <th>12</th>\n",
              "      <td>Roslindale</td>\n",
              "      <td>Roslindale is a quiet, family-friendly, and vibrant neighborhood in Boston that prides itself on its natural beauty, safety, and welcoming atmosphere. With convenient access to downtown Boston, a variety of shops and restaurants in Roslindale Village, and the tranquil Arnold Arboretum, residents enjoy a perfect balance of urban amenities and suburban charm. The neighborhood's diverse community, proximity to public transportation, and thriving local businesses create a lively and welcoming vibe for all types of people.</td>\n",
              "    </tr>\n",
              "    <tr>\n",
              "      <th>13</th>\n",
              "      <td>Dorchester</td>\n",
              "      <td>Dorchester is a diverse and ever-growing neighborhood with evidence of its eclectic nature found in the variety of establishments. From urban bistros that transform into gay clubs at night to authentic Vietnamese restaurants, Irish Pubs, local craft beer stores, and Cape Verdian businesses, cafes, and restaurants, the neighborhood showcases its diversity. With a mix of gentrified areas, community gardens, a range of culinary options, and access to parks and waterfront activities, Dorchester offers a vibrant and welcoming vibe for residents and visitors alike.</td>\n",
              "    </tr>\n",
              "    <tr>\n",
              "      <th>14</th>\n",
              "      <td>Back Bay</td>\n",
              "      <td>The vibe of the Back Bay neighborhood is historic, prestigious, safe, picturesque, vibrant, and trendy. With its beautiful brownstone homes, tree-lined streets, upscale shopping and dining options, and proximity to cultural institutions and green spaces, Back Bay is a sought-after destination for residents and visitors alike. The neighborhood exudes an old-world charm with modern amenities, creating a unique blend of elegance and excitement in the heart of Boston.</td>\n",
              "    </tr>\n",
              "    <tr>\n",
              "      <th>15</th>\n",
              "      <td>Leather District</td>\n",
              "      <td>The Leather District neighborhood in Boston Financial District is bustling and vibrant, offering a central location with easy access to various parts of the city. With its proximity to South Station, Chinatown, Downtown Crossing, the harbor, and Boston Common, residents can enjoy a diverse array of dining, shopping, entertainment, and outdoor activities within walking distance. The neighborhood boasts a mix of historic charm and modern amenities, making it a convenient and lively area to call home.</td>\n",
              "    </tr>\n",
              "    <tr>\n",
              "      <th>16</th>\n",
              "      <td>Fenway</td>\n",
              "      <td>Vibrant and cultural neighborhood with a mix of entertainment, dining options, and green spaces. Close to Fenway Park, restaurants, bars, and museums, offering a lively atmosphere for residents and visitors alike. Safe, diverse, and centrally located, providing easy access to various parts of Boston.</td>\n",
              "    </tr>\n",
              "    <tr>\n",
              "      <th>17</th>\n",
              "      <td>West Roxbury</td>\n",
              "      <td>The neighborhood of West Roxbury is described as safe, quiet, and family-friendly. It is praised for its convenience, with easy access to amenities such as grocery stores, coffee shops, and restaurants within walking distance. Residents and visitors alike appreciate the residential feel of the area, with green spaces and parks nearby. The neighborhood is described as a suburb within the city, offering a peaceful and welcoming atmosphere for those looking for a comfortable place to live or stay.</td>\n",
              "    </tr>\n",
              "    <tr>\n",
              "      <th>18</th>\n",
              "      <td>Roxbury</td>\n",
              "      <td>The vibe of the Roxbury neighborhood can be described as urban, multicultural, and economically diverse. It is a community with a mix of Victorian architecture and run-down buildings, with occasional graffiti and homeless individuals on the main street. Residents can expect to hear sirens from the nearby hospital, a lady preaching with a bullhorn, loud music from cars, and occasional yelling outside. Despite these aspects, residents feel safe and have strong relationships with their neighbors. It is a lively neighborhood with a lot of character and a sense of community.</td>\n",
              "    </tr>\n",
              "    <tr>\n",
              "      <th>19</th>\n",
              "      <td>West End</td>\n",
              "      <td>The vibe of the West End neighborhood is vibrant and bustling, with a perfect mix of urban convenience and scenic beauty. It offers an enviable location with easy access to shopping, restaurants, and pubs on Charles Street. Residents can enjoy breathtaking panoramic views of the Boston Harbor, the Charles River, Cambridge, Beacon Hill, and the Back Bay. The neighborhood is safe, friendly, and within walking distance to everything residents might need.</td>\n",
              "    </tr>\n",
              "    <tr>\n",
              "      <th>20</th>\n",
              "      <td>Chinatown</td>\n",
              "      <td>Chinatown is a constantly lively and vibrant neighborhood in the city, with a 24-hour diner, plenty of restaurants open late, and several bars and lounges in the area. The neighborhood offers a mix of Chinese, Vietnamese, Thai, Malaysian, and Japanese cuisine, making it a great spot for diverse and inexpensive dining experiences. With bike rentals nearby for leisurely travel needs, Chinatown is bustling and offers a bustling urban atmosphere perfect for exploring the city's offerings.</td>\n",
              "    </tr>\n",
              "    <tr>\n",
              "      <th>21</th>\n",
              "      <td>East Boston</td>\n",
              "      <td>The vibe of the East Boston neighborhood can be described as diverse, eclectic, and up-and-coming. It maintains a strong sense of community while offering a variety of authentic Italian and Latin American restaurants. The neighborhood is undergoing redevelopment with new parks, libraries, and gyms. East Boston is a safe and family-friendly area with easy access to downtown Boston and the airport. It is a gateway for immigrants and residents enjoy beautiful waterfront views of the city skyline. The neighborhood is known for its mix of old and new architecture, reflecting its rich immigrant history. Overall, East Boston offers a vibrant and diverse atmosphere with a strong sense of community and cultural heritage.</td>\n",
              "    </tr>\n",
              "    <tr>\n",
              "      <th>22</th>\n",
              "      <td>Allston</td>\n",
              "      <td>The vibe of the Allston neighborhood is eclectic, vibrant, and youthful. It is a bustling area with a mix of different cultures, students, artists, and hipsters. The neighborhood offers a variety of ethnic restaurants, bars, and music venues, making it a popular choice for young adults. Residents enjoy the affordability of the neighborhood and the convenience of being able to walk to everything they need for work and play. Allston is known for its cool, grungy atmosphere and is a favorite among locals but often overlooked by tourists.</td>\n",
              "    </tr>\n",
              "    <tr>\n",
              "      <th>23</th>\n",
              "      <td>Longwood Medical Area</td>\n",
              "      <td>This neighborhood exudes a peaceful and family-friendly atmosphere, offering a quiet escape from the nearby city chaos. With a serene river walk just across the street, it provides a perfect balance between tranquility and urban convenience. The area is ideal for extended stays, attracting those seeking a home away from home in the heart of the Longwood Medical and Academic Area. Additionally, the proximity to public transportation makes it easy to access downtown Boston and other popular attractions within a short train ride.</td>\n",
              "    </tr>\n",
              "    <tr>\n",
              "      <th>24</th>\n",
              "      <td>Mattapan</td>\n",
              "      <td>The neighborhood has a suburban feel with a mix of residential areas and nearby shops. It is close to public transportation, making it easy to access tourist attractions and other areas of Boston. The presence of Deer and turkeys walking around gives it a unique touch of nature in the midst of city living. It is a quiet and welcoming area that offers a peaceful atmosphere for residents.</td>\n",
              "    </tr>\n",
              "  </tbody>\n",
              "</table>\n",
              "</div>\n",
              "    <div class=\"colab-df-buttons\">\n",
              "\n",
              "  <div class=\"colab-df-container\">\n",
              "    <button class=\"colab-df-convert\" onclick=\"convertToInteractive('df-6bf794b7-a086-47cd-96fe-a86f724b5b5d')\"\n",
              "            title=\"Convert this dataframe to an interactive table.\"\n",
              "            style=\"display:none;\">\n",
              "\n",
              "  <svg xmlns=\"http://www.w3.org/2000/svg\" height=\"24px\" viewBox=\"0 -960 960 960\">\n",
              "    <path d=\"M120-120v-720h720v720H120Zm60-500h600v-160H180v160Zm220 220h160v-160H400v160Zm0 220h160v-160H400v160ZM180-400h160v-160H180v160Zm440 0h160v-160H620v160ZM180-180h160v-160H180v160Zm440 0h160v-160H620v160Z\"/>\n",
              "  </svg>\n",
              "    </button>\n",
              "\n",
              "  <style>\n",
              "    .colab-df-container {\n",
              "      display:flex;\n",
              "      gap: 12px;\n",
              "    }\n",
              "\n",
              "    .colab-df-convert {\n",
              "      background-color: #E8F0FE;\n",
              "      border: none;\n",
              "      border-radius: 50%;\n",
              "      cursor: pointer;\n",
              "      display: none;\n",
              "      fill: #1967D2;\n",
              "      height: 32px;\n",
              "      padding: 0 0 0 0;\n",
              "      width: 32px;\n",
              "    }\n",
              "\n",
              "    .colab-df-convert:hover {\n",
              "      background-color: #E2EBFA;\n",
              "      box-shadow: 0px 1px 2px rgba(60, 64, 67, 0.3), 0px 1px 3px 1px rgba(60, 64, 67, 0.15);\n",
              "      fill: #174EA6;\n",
              "    }\n",
              "\n",
              "    .colab-df-buttons div {\n",
              "      margin-bottom: 4px;\n",
              "    }\n",
              "\n",
              "    [theme=dark] .colab-df-convert {\n",
              "      background-color: #3B4455;\n",
              "      fill: #D2E3FC;\n",
              "    }\n",
              "\n",
              "    [theme=dark] .colab-df-convert:hover {\n",
              "      background-color: #434B5C;\n",
              "      box-shadow: 0px 1px 3px 1px rgba(0, 0, 0, 0.15);\n",
              "      filter: drop-shadow(0px 1px 2px rgba(0, 0, 0, 0.3));\n",
              "      fill: #FFFFFF;\n",
              "    }\n",
              "  </style>\n",
              "\n",
              "    <script>\n",
              "      const buttonEl =\n",
              "        document.querySelector('#df-6bf794b7-a086-47cd-96fe-a86f724b5b5d button.colab-df-convert');\n",
              "      buttonEl.style.display =\n",
              "        google.colab.kernel.accessAllowed ? 'block' : 'none';\n",
              "\n",
              "      async function convertToInteractive(key) {\n",
              "        const element = document.querySelector('#df-6bf794b7-a086-47cd-96fe-a86f724b5b5d');\n",
              "        const dataTable =\n",
              "          await google.colab.kernel.invokeFunction('convertToInteractive',\n",
              "                                                    [key], {});\n",
              "        if (!dataTable) return;\n",
              "\n",
              "        const docLinkHtml = 'Like what you see? Visit the ' +\n",
              "          '<a target=\"_blank\" href=https://colab.research.google.com/notebooks/data_table.ipynb>data table notebook</a>'\n",
              "          + ' to learn more about interactive tables.';\n",
              "        element.innerHTML = '';\n",
              "        dataTable['output_type'] = 'display_data';\n",
              "        await google.colab.output.renderOutput(dataTable, element);\n",
              "        const docLink = document.createElement('div');\n",
              "        docLink.innerHTML = docLinkHtml;\n",
              "        element.appendChild(docLink);\n",
              "      }\n",
              "    </script>\n",
              "  </div>\n",
              "\n",
              "\n",
              "<div id=\"df-8da7972a-fd47-45e8-a9a4-2a140a2ee884\">\n",
              "  <button class=\"colab-df-quickchart\" onclick=\"quickchart('df-8da7972a-fd47-45e8-a9a4-2a140a2ee884')\"\n",
              "            title=\"Suggest charts\"\n",
              "            style=\"display:none;\">\n",
              "\n",
              "<svg xmlns=\"http://www.w3.org/2000/svg\" height=\"24px\"viewBox=\"0 0 24 24\"\n",
              "     width=\"24px\">\n",
              "    <g>\n",
              "        <path d=\"M19 3H5c-1.1 0-2 .9-2 2v14c0 1.1.9 2 2 2h14c1.1 0 2-.9 2-2V5c0-1.1-.9-2-2-2zM9 17H7v-7h2v7zm4 0h-2V7h2v10zm4 0h-2v-4h2v4z\"/>\n",
              "    </g>\n",
              "</svg>\n",
              "  </button>\n",
              "\n",
              "<style>\n",
              "  .colab-df-quickchart {\n",
              "      --bg-color: #E8F0FE;\n",
              "      --fill-color: #1967D2;\n",
              "      --hover-bg-color: #E2EBFA;\n",
              "      --hover-fill-color: #174EA6;\n",
              "      --disabled-fill-color: #AAA;\n",
              "      --disabled-bg-color: #DDD;\n",
              "  }\n",
              "\n",
              "  [theme=dark] .colab-df-quickchart {\n",
              "      --bg-color: #3B4455;\n",
              "      --fill-color: #D2E3FC;\n",
              "      --hover-bg-color: #434B5C;\n",
              "      --hover-fill-color: #FFFFFF;\n",
              "      --disabled-bg-color: #3B4455;\n",
              "      --disabled-fill-color: #666;\n",
              "  }\n",
              "\n",
              "  .colab-df-quickchart {\n",
              "    background-color: var(--bg-color);\n",
              "    border: none;\n",
              "    border-radius: 50%;\n",
              "    cursor: pointer;\n",
              "    display: none;\n",
              "    fill: var(--fill-color);\n",
              "    height: 32px;\n",
              "    padding: 0;\n",
              "    width: 32px;\n",
              "  }\n",
              "\n",
              "  .colab-df-quickchart:hover {\n",
              "    background-color: var(--hover-bg-color);\n",
              "    box-shadow: 0 1px 2px rgba(60, 64, 67, 0.3), 0 1px 3px 1px rgba(60, 64, 67, 0.15);\n",
              "    fill: var(--button-hover-fill-color);\n",
              "  }\n",
              "\n",
              "  .colab-df-quickchart-complete:disabled,\n",
              "  .colab-df-quickchart-complete:disabled:hover {\n",
              "    background-color: var(--disabled-bg-color);\n",
              "    fill: var(--disabled-fill-color);\n",
              "    box-shadow: none;\n",
              "  }\n",
              "\n",
              "  .colab-df-spinner {\n",
              "    border: 2px solid var(--fill-color);\n",
              "    border-color: transparent;\n",
              "    border-bottom-color: var(--fill-color);\n",
              "    animation:\n",
              "      spin 1s steps(1) infinite;\n",
              "  }\n",
              "\n",
              "  @keyframes spin {\n",
              "    0% {\n",
              "      border-color: transparent;\n",
              "      border-bottom-color: var(--fill-color);\n",
              "      border-left-color: var(--fill-color);\n",
              "    }\n",
              "    20% {\n",
              "      border-color: transparent;\n",
              "      border-left-color: var(--fill-color);\n",
              "      border-top-color: var(--fill-color);\n",
              "    }\n",
              "    30% {\n",
              "      border-color: transparent;\n",
              "      border-left-color: var(--fill-color);\n",
              "      border-top-color: var(--fill-color);\n",
              "      border-right-color: var(--fill-color);\n",
              "    }\n",
              "    40% {\n",
              "      border-color: transparent;\n",
              "      border-right-color: var(--fill-color);\n",
              "      border-top-color: var(--fill-color);\n",
              "    }\n",
              "    60% {\n",
              "      border-color: transparent;\n",
              "      border-right-color: var(--fill-color);\n",
              "    }\n",
              "    80% {\n",
              "      border-color: transparent;\n",
              "      border-right-color: var(--fill-color);\n",
              "      border-bottom-color: var(--fill-color);\n",
              "    }\n",
              "    90% {\n",
              "      border-color: transparent;\n",
              "      border-bottom-color: var(--fill-color);\n",
              "    }\n",
              "  }\n",
              "</style>\n",
              "\n",
              "  <script>\n",
              "    async function quickchart(key) {\n",
              "      const quickchartButtonEl =\n",
              "        document.querySelector('#' + key + ' button');\n",
              "      quickchartButtonEl.disabled = true;  // To prevent multiple clicks.\n",
              "      quickchartButtonEl.classList.add('colab-df-spinner');\n",
              "      try {\n",
              "        const charts = await google.colab.kernel.invokeFunction(\n",
              "            'suggestCharts', [key], {});\n",
              "      } catch (error) {\n",
              "        console.error('Error during call to suggestCharts:', error);\n",
              "      }\n",
              "      quickchartButtonEl.classList.remove('colab-df-spinner');\n",
              "      quickchartButtonEl.classList.add('colab-df-quickchart-complete');\n",
              "    }\n",
              "    (() => {\n",
              "      let quickchartButtonEl =\n",
              "        document.querySelector('#df-8da7972a-fd47-45e8-a9a4-2a140a2ee884 button');\n",
              "      quickchartButtonEl.style.display =\n",
              "        google.colab.kernel.accessAllowed ? 'block' : 'none';\n",
              "    })();\n",
              "  </script>\n",
              "</div>\n",
              "    </div>\n",
              "  </div>\n"
            ],
            "application/vnd.google.colaboratory.intrinsic+json": {
              "type": "dataframe",
              "variable_name": "neighborhood_vibes_df",
              "summary": "{\n  \"name\": \"neighborhood_vibes_df\",\n  \"rows\": 25,\n  \"fields\": [\n    {\n      \"column\": \"neighborhood\",\n      \"properties\": {\n        \"dtype\": \"string\",\n        \"num_unique_values\": 25,\n        \"samples\": [\n          \"Charlestown\",\n          \"Fenway\",\n          \"Downtown\"\n        ],\n        \"semantic_type\": \"\",\n        \"description\": \"\"\n      }\n    },\n    {\n      \"column\": \"neighborhood_vibe\",\n      \"properties\": {\n        \"dtype\": \"string\",\n        \"num_unique_values\": 25,\n        \"samples\": [\n          \"The vibe of the Charlestown neighborhood is one that blends historical charm with modern amenities. It is a quiet, residential area with tree-lined streets and historic landmarks such as the Bunker Hill Monument and the Navy Yard. Residents enjoy a sense of community, with people playing in the streets and catching up on the sidewalks. Despite its historical significance, Charlestown offers easy access to downtown Boston, Cambridge, and other parts of the city via public transit. Overall, Charlestown is described as a charming, safe, and family-friendly neighborhood with a mix of colonial and maritime influences.\",\n          \"Vibrant and cultural neighborhood with a mix of entertainment, dining options, and green spaces. Close to Fenway Park, restaurants, bars, and museums, offering a lively atmosphere for residents and visitors alike. Safe, diverse, and centrally located, providing easy access to various parts of Boston.\",\n          \"The vibe of the Downtown neighborhood is lively, vibrant, and convenient. It is a central location with easy access to restaurants, bars, nightlife, public transportation, and various city attractions. The area is bustling with activity, offering plenty of options for entertainment and exploration. With its proximity to popular landmarks and cultural sites, Downtown Boston is a hub of excitement and energy.\"\n        ],\n        \"semantic_type\": \"\",\n        \"description\": \"\"\n      }\n    }\n  ]\n}"
            }
          },
          "metadata": {},
          "execution_count": 87
        }
      ]
    },
    {
      "cell_type": "markdown",
      "source": [
        "###Question 2"
      ],
      "metadata": {
        "id": "VuRkZd33jMqv"
      }
    },
    {
      "cell_type": "markdown",
      "source": [
        "In order to answer the question 2, we will plot the data based on the previous calculations, in order to generate some insights:"
      ],
      "metadata": {
        "id": "a6UJDd8tjOuD"
      }
    },
    {
      "cell_type": "code",
      "source": [
        "# Seleccionar colores de la paleta de colores de seaborn\n",
        "orange_color = 'black'\n",
        "blue_color = 'blue'\n",
        "\n",
        "# Generar el gráfico con seaborn\n",
        "fig, ax1 = plt.subplots(figsize=(10, 6))\n",
        "\n",
        "# Graficar la primera serie en el primer eje\n",
        "sns.lineplot(data=q1_time_series_df, x=q1_time_series_df.index, y='avg_price', ax=ax1, color=orange_color, marker='o', alpha=0.7)\n",
        "ax1.set_xlabel('Fecha', fontsize=12)\n",
        "ax1.set_ylabel('Average price $', color=orange_color, fontsize=12)\n",
        "ax1.tick_params(axis='y', labelcolor=orange_color)\n",
        "\n",
        "# Rotar las etiquetas del eje X\n",
        "plt.xticks(rotation=45)\n",
        "\n",
        "# Crear el segundo eje que comparte el mismo eje x\n",
        "ax2 = ax1.twinx()\n",
        "\n",
        "# Graficar la segunda serie en el segundo eje\n",
        "sns.lineplot(data=q1_time_series_df, x=q1_time_series_df.index, y='availability_perc', ax=ax2, color=blue_color, marker='o', alpha=0.7)\n",
        "ax2.set_ylabel('% Availability', color=blue_color, fontsize=12)\n",
        "ax2.tick_params(axis='y', labelcolor=blue_color)\n",
        "\n",
        "# Agregar un título\n",
        "plt.title('Availability percentage (blue) vs average price (black)', fontsize=14)\n",
        "\n",
        "# Mejorar la presentación de las leyendas\n",
        "# fig.legend(loc='upper right', bbox_to_anchor=(0.9, 0.9), bbox_transform=ax1.transAxes, fontsize=12)\n",
        "\n",
        "# Agregar un borde negro alrededor del área de trazado\n",
        "for spine in ax1.spines.values():\n",
        "    spine.set_edgecolor('black')\n",
        "    spine.set_linewidth(1)\n",
        "\n",
        "\n",
        "# Eliminar el fondo con rayas\n",
        "ax1.set_facecolor('white')\n",
        "ax2.set_facecolor('white')\n",
        "\n",
        "# Eliminar la cuadrícula\n",
        "ax1.grid(False)\n",
        "ax2.grid(False)\n",
        "\n",
        "# Ajustar el diseño del gráfico\n",
        "fig.tight_layout()\n",
        "\n",
        "# Mostrar el gráfico\n",
        "plt.show()"
      ],
      "metadata": {
        "colab": {
          "base_uri": "https://localhost:8080/",
          "height": 607
        },
        "id": "4nyVfvhSjN6I",
        "outputId": "c4867e94-28a5-4502-ed75-d2e571879ce1"
      },
      "execution_count": 88,
      "outputs": [
        {
          "output_type": "display_data",
          "data": {
            "text/plain": [
              "<Figure size 1000x600 with 2 Axes>"
            ],
            "image/png": "[encoded data removed]"
          },
          "metadata": {}
        }
      ]
    },
    {
      "cell_type": "markdown",
      "source": [
        "As expected, this reflects the law of supply and demand, the higher the availability, the lower the price. As a note, it seems in September 2016 it occurred some event that left the availability at a minimum.\n",
        "\n",
        "Excluding this month, the fluctuation seems to be around 20–25$."
      ],
      "metadata": {
        "id": "yrvuaCwjjfQs"
      }
    },
    {
      "cell_type": "markdown",
      "source": [
        "### Question 3"
      ],
      "metadata": {
        "id": "Qcal3DpnjmTk"
      }
    },
    {
      "cell_type": "markdown",
      "source": [
        "To interpretate the clusters, we will use the next function:"
      ],
      "metadata": {
        "id": "Zkl7agj8kF6z"
      }
    },
    {
      "cell_type": "code",
      "source": [
        "kmeans.n_clusters"
      ],
      "metadata": {
        "colab": {
          "base_uri": "https://localhost:8080/"
        },
        "id": "LOxcD-y7k8Zi",
        "outputId": "3888de3b-c5af-42a1-af4a-25781b853026"
      },
      "execution_count": 90,
      "outputs": [
        {
          "output_type": "execute_result",
          "data": {
            "text/plain": [
              "4"
            ]
          },
          "metadata": {},
          "execution_count": 90
        }
      ]
    },
    {
      "cell_type": "code",
      "source": [
        "def get_centroids_interpretation(kmeans, columns, scaler):\n",
        "  \"\"\"\n",
        "\n",
        "  Args:\n",
        "    kmeans: trained kmeans model\n",
        "    columns: columns for the original data, previous to any normalization\n",
        "    scaler: scaler used to unnormalize the data\n",
        "  \"\"\"\n",
        "  for index in range(kmeans.n_clusters):\n",
        "      center = kmeans.cluster_centers_[index].reshape(1, -1)\n",
        "      original_center = scaler.inverse_transform(kmeans.cluster_centers_[index][[0, 1, 2, 3]].reshape(1, -1))\n",
        "      center[0][0]  = original_center[0][0]\n",
        "      center[0][1]  = original_center[0][1]\n",
        "      center[0][2]  = original_center[0][2]\n",
        "      center[0][3]  = original_center[0][3]\n",
        "      for i, column in enumerate(columns):\n",
        "        print(\"Column {}, value {}\".format(column, center[0][i]))\n",
        "      print(\" ####################################### \")"
      ],
      "metadata": {
        "id": "H2KG1RoikQJn"
      },
      "execution_count": 92,
      "outputs": []
    },
    {
      "cell_type": "code",
      "source": [
        "get_centroids_interpretation(kmeans, listing_chracteristics_norm.columns, scaler)"
      ],
      "metadata": {
        "colab": {
          "base_uri": "https://localhost:8080/"
        },
        "id": "BwOc2NyblZ5D",
        "outputId": "0bce0191-e76b-4e79-8ba7-5e46d3068383"
      },
      "execution_count": 93,
      "outputs": [
        {
          "output_type": "stream",
          "name": "stdout",
          "text": [
            "Column accommodates, value 3.664779161947907\n",
            "Column bathrooms, value 1.2038505096262733\n",
            "Column bedrooms, value 1.3346545866364663\n",
            "Column beds, value 1.786523216308043\n",
            "Column property_type_Apartment, value 1.0000000000000127\n",
            "Column property_type_Bed & Breakfast, value -3.677613769070831e-16\n",
            "Column property_type_Boat, value 9.497611030973019e-17\n",
            "Column property_type_Camper/RV, value -9.595189226496714e-18\n",
            "Column property_type_Condominium, value -2.7755575615628914e-17\n",
            "Column property_type_Dorm, value -1.919037845299343e-17\n",
            "Column property_type_Entire Floor, value -3.838075690598686e-17\n",
            "Column property_type_Guesthouse, value -9.595189226496714e-18\n",
            "Column property_type_House, value 1.4988010832439613e-15\n",
            "Column property_type_Loft, value 4.597017211338539e-16\n",
            "Column property_type_Other, value 5.637851296924623e-17\n",
            "Column property_type_Townhouse, value 6.019490461639521e-16\n",
            "Column property_type_Villa, value 4.7488055154865094e-17\n",
            "Column room_type_Entire home/apt, value 1.000000000000011\n",
            "Column room_type_Private room, value 3.3306690738754696e-16\n",
            "Column room_type_Shared room, value 2.636779683484747e-16\n",
            "Column bed_type_Airbed, value 1.3183898417423734e-16\n",
            "Column bed_type_Couch, value 3.2959746043559335e-17\n",
            "Column bed_type_Futon, value 0.006795016987542295\n",
            "Column bed_type_Pull-out Sofa, value 0.004530011325028139\n",
            "Column bed_type_Real Bed, value 0.9886749716874298\n",
            " ####################################### \n",
            "Column accommodates, value 1.8021201413427508\n",
            "Column bathrooms, value 1.068315665488809\n",
            "Column bedrooms, value 1.0000000000000002\n",
            "Column beds, value 1.1154299175500637\n",
            "Column property_type_Apartment, value 0.9999999999999994\n",
            "Column property_type_Bed & Breakfast, value 1.734723475976807e-18\n",
            "Column property_type_Boat, value -4.336808689942018e-17\n",
            "Column property_type_Camper/RV, value 3.3610267347050637e-18\n",
            "Column property_type_Condominium, value -1.3877787807814457e-17\n",
            "Column property_type_Dorm, value 6.7220534694101275e-18\n",
            "Column property_type_Entire Floor, value 1.3444106938820255e-17\n",
            "Column property_type_Guesthouse, value 3.3610267347050637e-18\n",
            "Column property_type_House, value 2.220446049250313e-15\n",
            "Column property_type_Loft, value 6.765421556309548e-17\n",
            "Column property_type_Other, value 8.239936510889834e-17\n",
            "Column property_type_Townhouse, value 3.174543961037557e-16\n",
            "Column property_type_Villa, value -2.168404344971009e-17\n",
            "Column room_type_Entire home/apt, value -4.884981308350689e-15\n",
            "Column room_type_Private room, value 0.926972909305074\n",
            "Column room_type_Shared room, value 0.07302709069493606\n",
            "Column bed_type_Airbed, value 0.040047114252061596\n",
            "Column bed_type_Couch, value 0.00824499411071863\n",
            "Column bed_type_Futon, value 0.028268551236748842\n",
            "Column bed_type_Pull-out Sofa, value 0.02002355712603081\n",
            "Column bed_type_Real Bed, value 0.903415783274441\n",
            " ####################################### \n",
            "Column accommodates, value 2.0396694214876017\n",
            "Column bathrooms, value 1.3388429752066118\n",
            "Column bedrooms, value 1.0000000000000002\n",
            "Column beds, value 1.2264462809917374\n",
            "Column property_type_Apartment, value 1.1435297153639112e-14\n",
            "Column property_type_Bed & Breakfast, value 0.06446280991735466\n",
            "Column property_type_Boat, value 0.003305785123966919\n",
            "Column property_type_Camper/RV, value 2.710505431213761e-18\n",
            "Column property_type_Condominium, value 0.13057851239669419\n",
            "Column property_type_Dorm, value 0.003305785123966962\n",
            "Column property_type_Entire Floor, value 0.003305785123966954\n",
            "Column property_type_Guesthouse, value 2.710505431213761e-18\n",
            "Column property_type_House, value 0.6842975206611553\n",
            "Column property_type_Loft, value 0.013223140495867756\n",
            "Column property_type_Other, value 0.02479338842975201\n",
            "Column property_type_Townhouse, value 0.0661157024793395\n",
            "Column property_type_Villa, value 0.006611570247933978\n",
            "Column room_type_Entire home/apt, value -4.551914400963142e-15\n",
            "Column room_type_Private room, value 0.9768595041322365\n",
            "Column room_type_Shared room, value 0.023140495867768597\n",
            "Column bed_type_Airbed, value 0.009917355371900805\n",
            "Column bed_type_Couch, value 0.0049586776859504265\n",
            "Column bed_type_Futon, value 0.021487603305785107\n",
            "Column bed_type_Pull-out Sofa, value 0.006611570247933884\n",
            "Column bed_type_Real Bed, value 0.9570247933884298\n",
            " ####################################### \n",
            "Column accommodates, value 4.5671232876712375\n",
            "Column bathrooms, value 1.461643835616438\n",
            "Column bedrooms, value 1.8876712328767125\n",
            "Column beds, value 2.517808219178087\n",
            "Column property_type_Apartment, value 5.551115123125783e-16\n",
            "Column property_type_Bed & Breakfast, value 0.005479452054794522\n",
            "Column property_type_Boat, value 0.02739726027397288\n",
            "Column property_type_Camper/RV, value 0.002739726027397271\n",
            "Column property_type_Condominium, value 0.4164383561643835\n",
            "Column property_type_Dorm, value 2.710505431213761e-18\n",
            "Column property_type_Entire Floor, value 0.005479452054794515\n",
            "Column property_type_Guesthouse, value 0.002739726027397286\n",
            "Column property_type_House, value 0.4054794520547945\n",
            "Column property_type_Loft, value 0.08493150684931566\n",
            "Column property_type_Other, value 0.005479452054794528\n",
            "Column property_type_Townhouse, value 0.038356164383561785\n",
            "Column property_type_Villa, value 0.005479452054794505\n",
            "Column room_type_Entire home/apt, value 0.9890410958904082\n",
            "Column room_type_Private room, value -1.4432899320127035e-15\n",
            "Column room_type_Shared room, value 0.010958904109588994\n",
            "Column bed_type_Airbed, value -1.5612511283791264e-17\n",
            "Column bed_type_Couch, value -3.903127820947816e-18\n",
            "Column bed_type_Futon, value 0.005479452054794484\n",
            "Column bed_type_Pull-out Sofa, value 0.005479452054794491\n",
            "Column bed_type_Real Bed, value 0.9890410958904108\n",
            " ####################################### \n"
          ]
        }
      ]
    },
    {
      "cell_type": "markdown",
      "source": [
        "We selected the number of cluster taking into account the elbow method for the k-means clustering algorithm and a clear understanding of the clusters, resulting in the identification of four cluster. The technical details can be found in the mentioned above repository.\n",
        "\n",
        "We used the centroids of the cluster to get an interpretation of the clusters. For example, these are the values for the first one:\n",
        "\n",
        "\n",
        "As it can be noted, this cluster represents whole apartments with about two real beds and or two bathrooms and some accommodates.\n",
        "\n",
        "In this line, the four clusters can be thought as:\n",
        "\n",
        "Whole apartment\n",
        "A private home room\n",
        "A private home apartment\n",
        "Condominium, lofts and other types of listings"
      ],
      "metadata": {
        "id": "hcJv4U1hleHk"
      }
    },
    {
      "cell_type": "markdown",
      "source": [
        "In the same way as in the question two, we will generate some plots to compare the time series, including the new cluster dimension:"
      ],
      "metadata": {
        "id": "2Hzfjnc-jq3H"
      }
    },
    {
      "cell_type": "code",
      "source": [
        "# Crear una figura y ejes\n",
        "fig, (ax1, ax2) = plt.subplots(1, 2, figsize=(20, 6), sharex=True)\n",
        "\n",
        "# Graficar la primera serie en el primer eje\n",
        "sns.lineplot(data=q3_time_series_df, x='month_year', y='availability_perc', hue='cluster_description', marker='o', ax=ax1)\n",
        "ax1.set_title('Time series for availability % by month and year')\n",
        "ax1.set_xlabel('Month-year')\n",
        "ax1.set_ylabel('Availability %')\n",
        "ax1.grid(False)\n",
        "\n",
        "# Graficar la segunda serie en el segundo eje\n",
        "sns.lineplot(data=q3_time_series_df, x='month_year', y='avg_price', hue='cluster_description', marker='o', ax=ax2)\n",
        "ax2.set_title('Average price by month and year')\n",
        "ax2.set_xlabel('Month-year')\n",
        "ax2.set_ylabel('Average pirce $')\n",
        "ax2.grid(False)\n",
        "\n",
        "# Rotar las etiquetas del eje X para ambos gráficos\n",
        "plt.setp(ax1.xaxis.get_majorticklabels(), rotation=45)\n",
        "plt.setp(ax2.xaxis.get_majorticklabels(), rotation=45)\n",
        "\n",
        "# Ajustar el diseño del gráfico\n",
        "fig.tight_layout()\n",
        "\n",
        "# Mostrar el gráfico\n",
        "plt.show()"
      ],
      "metadata": {
        "colab": {
          "base_uri": "https://localhost:8080/",
          "height": 607
        },
        "id": "_n-Xn-dcjok4",
        "outputId": "b7a9967a-6285-49a6-b12b-1da1b42b727e"
      },
      "execution_count": 89,
      "outputs": [
        {
          "output_type": "display_data",
          "data": {
            "text/plain": [
              "<Figure size 2000x600 with 2 Axes>"
            ],
            "image/png": "[encoded data removed]"
          },
          "metadata": {}
        }
      ]
    },
    {
      "cell_type": "markdown",
      "source": [
        "As it can be noticed, the private room is less prone to price fluctuation, whereas the fluctuation is practically the same for the whole room or apartment, with the difference the prices are generally higher for the apartment, with similar availability conditions."
      ],
      "metadata": {
        "id": "3r8bZj2akDbG"
      }
    }
  ]
}